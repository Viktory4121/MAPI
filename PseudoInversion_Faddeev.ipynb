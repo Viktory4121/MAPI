{
  "nbformat": 4,
  "nbformat_minor": 5,
  "metadata": {
    "kernelspec": {
      "display_name": "Python 3",
      "language": "python",
      "name": "python3"
    },
    "language_info": {
      "codemirror_mode": {
        "name": "ipython",
        "version": 3
      },
      "file_extension": ".py",
      "mimetype": "text/x-python",
      "name": "python",
      "nbconvert_exporter": "python",
      "pygments_lexer": "ipython3",
      "version": "3.8.8"
    },
    "colab": {
      "provenance": [],
      "collapsed_sections": [],
      "include_colab_link": true
    }
  },
  "cells": [
    {
      "cell_type": "markdown",
      "metadata": {
        "id": "view-in-github",
        "colab_type": "text"
      },
      "source": [
        "<a href=\"https://colab.research.google.com/github/Viktory4121/MAPI/blob/main/PseudoInversion_Faddeev.ipynb\" target=\"_parent\"><img src=\"https://colab.research.google.com/assets/colab-badge.svg\" alt=\"Open In Colab\"/></a>"
      ]
    },
    {
      "cell_type": "markdown",
      "source": [
        "#Алгоритм Фаддеева"
      ],
      "metadata": {
        "id": "vnOX9NVhktez"
      },
      "id": "vnOX9NVhktez"
    },
    {
      "cell_type": "code",
      "metadata": {
        "id": "91b6ce26"
      },
      "source": [
        "import numpy as np"
      ],
      "id": "91b6ce26",
      "execution_count": null,
      "outputs": []
    },
    {
      "cell_type": "code",
      "metadata": {
        "colab": {
          "base_uri": "https://localhost:8080/"
        },
        "id": "e243beba",
        "outputId": "733834a2-d35d-4939-c791-e734eaa0f8f2"
      },
      "source": [
        "# Псевдообращение алгоритмом Фаддеева\n",
        "#A = np.array([[-1,0,2,0,5,-2],[4,5,5,2,1,-1],[2,1,1,0,8,-1],[0,1,-3,-4,2,-3]])\n",
        "#A = np.array([[7,0,4,9,6,0],[3,0,4,1,1,2],[0,1,1,2,6,7],[1,4,7,4,9,5]])\n",
        "A = np.array([[-1,4,-2],[-1,4,-2],[1,26,-1]])\n",
        "n = len(A[0])\n",
        "A_T = A.transpose()\n",
        "A_T_A = A_T.dot(A) #перемножены транспонированная матрица и обычная\n",
        "F = np.diag(np.diag(np.ones([n,n]))) #единичная матрица\n",
        "mu = sum(np.diag(A_T_A)) #это фи1 (сумма значений матрицы A_T_A по диагонали)\n",
        "print(\"A = \\n\", A)\n",
        "#print(\"A^T * A = \\n\", A_T_A)\n",
        "print(\"phi_1 = \", mu)"
      ],
      "id": "e243beba",
      "execution_count": null,
      "outputs": [
        {
          "output_type": "stream",
          "name": "stdout",
          "text": [
            "A = \n",
            " [[-1  4 -2]\n",
            " [-1  4 -2]\n",
            " [ 1 26 -1]]\n",
            "phi_1 =  720\n"
          ]
        }
      ]
    },
    {
      "cell_type": "code",
      "source": [
        "print(\"det(A) = \", np.linalg.det(A))"
      ],
      "metadata": {
        "colab": {
          "base_uri": "https://localhost:8080/"
        },
        "id": "z7NWgsNR8pzi",
        "outputId": "66c12288-f3db-4661-9501-e822eaed19f0"
      },
      "id": "z7NWgsNR8pzi",
      "execution_count": null,
      "outputs": [
        {
          "output_type": "stream",
          "name": "stdout",
          "text": [
            "det(A) =  0.0\n"
          ]
        }
      ]
    },
    {
      "cell_type": "code",
      "source": [
        "def print_matrix(A):\n",
        "  m = len(A)\n",
        "  n = len(A[0])\n",
        "  for row in A:\n",
        "    for i in row:\n",
        "      print(\"{:.6f}\\t\\t\".format(i), end = \"\" )\n",
        "    print()"
      ],
      "metadata": {
        "id": "qLEbAuXqDHU-"
      },
      "id": "qLEbAuXqDHU-",
      "execution_count": null,
      "outputs": []
    },
    {
      "cell_type": "code",
      "metadata": {
        "id": "7679a169",
        "colab": {
          "base_uri": "https://localhost:8080/"
        },
        "outputId": "6c1198c1-a4a7-47b0-e203-68c06c4b4764"
      },
      "source": [
        "def pseudo(A_T_A, F, mu, A_T):\n",
        "    n = len(F)\n",
        "    I = np.diag(np.diag(np.ones([n,n])))\n",
        "    i = 2\n",
        "    while mu != 0:\n",
        "        if sum(np.diag(A_T_A.dot(mu*I - A_T_A.dot(F))))/float(i) == 0:\n",
        "            _mu = mu\n",
        "            _F = F\n",
        "        F = mu*I - A_T_A.dot(F)\n",
        "        mu = sum(np.diag(A_T_A.dot(F)))/float(i)\n",
        "        \n",
        "        print(\"Шаг\", i)\n",
        "        print(\"F:\\n\")\n",
        "        print_matrix(F)\n",
        "        #print(\"\\nA_T_A*F:\\n\", A_T_A.dot(F))\n",
        "        print(\"phi\\n\", mu)\n",
        "        print(\"\\n\\n\")\n",
        "        \n",
        "        i+=1\n",
        "    print(\"A*: 1/\", _mu, \"\\n\")\n",
        "    A_psevv = _F.dot(A_T)\n",
        "    print_matrix(A_psevv)\n",
        "    return(A_psevv/_mu, _mu)\n",
        "\n",
        "A_psev, muu = pseudo(A_T_A, F, mu, A_T)"
      ],
      "id": "7679a169",
      "execution_count": null,
      "outputs": [
        {
          "output_type": "stream",
          "name": "stdout",
          "text": [
            "Шаг 2\n",
            "F:\n",
            "\n",
            "717.000000\t\t-18.000000\t\t-3.000000\t\t\n",
            "-18.000000\t\t12.000000\t\t42.000000\t\t\n",
            "-3.000000\t\t42.000000\t\t711.000000\t\t\n",
            "phi\n",
            " 6426.0\n",
            "\n",
            "\n",
            "\n",
            "Шаг 3\n",
            "F:\n",
            "\n",
            "4608.000000\t\t-288.000000\t\t-2880.000000\t\t\n",
            "-288.000000\t\t18.000000\t\t180.000000\t\t\n",
            "-2880.000000\t\t180.000000\t\t1800.000000\t\t\n",
            "phi\n",
            " 0.0\n",
            "\n",
            "\n",
            "\n",
            "A*: 1/ 6426.0 \n",
            "\n",
            "-783.000000\t\t-783.000000\t\t252.000000\t\t\n",
            "-18.000000\t\t-18.000000\t\t252.000000\t\t\n",
            "-1251.000000\t\t-1251.000000\t\t378.000000\t\t\n"
          ]
        }
      ]
    },
    {
      "cell_type": "code",
      "source": [
        "print_matrix(A_psev) #без вынесения общего знаменателя за скобку"
      ],
      "metadata": {
        "colab": {
          "base_uri": "https://localhost:8080/"
        },
        "id": "IVjAdsLDB5Q-",
        "outputId": "d1e02586-6c06-40ed-d086-365f1ce24d63"
      },
      "id": "IVjAdsLDB5Q-",
      "execution_count": null,
      "outputs": [
        {
          "output_type": "stream",
          "name": "stdout",
          "text": [
            "-0.121849\t\t-0.121849\t\t0.039216\t\t\n",
            "-0.002801\t\t-0.002801\t\t0.039216\t\t\n",
            "-0.194678\t\t-0.194678\t\t0.058824\t\t\n"
          ]
        }
      ]
    },
    {
      "cell_type": "markdown",
      "source": [
        "#Проверки Мура-Пенроуза"
      ],
      "metadata": {
        "id": "FGU8oaqbkyuM"
      },
      "id": "FGU8oaqbkyuM"
    },
    {
      "cell_type": "code",
      "metadata": {
        "colab": {
          "base_uri": "https://localhost:8080/"
        },
        "id": "VnBEhzTTdKkF",
        "outputId": "8ca01270-db6d-4f2a-ba3f-79f25c2f5684"
      },
      "source": [
        "#Проверка 1 ((A A^+)^T = A A^+)\n",
        "Check1_1 = (A.dot(A_psev)).transpose()\n",
        "Check1_2 = A.dot(A_psev)\n",
        "print_matrix(Check1_1)\n",
        "print()\n",
        "print_matrix(Check1_2)"
      ],
      "id": "VnBEhzTTdKkF",
      "execution_count": null,
      "outputs": [
        {
          "output_type": "stream",
          "name": "stdout",
          "text": [
            "0.500000\t\t0.500000\t\t0.000000\t\t\n",
            "0.500000\t\t0.500000\t\t0.000000\t\t\n",
            "0.000000\t\t0.000000\t\t1.000000\t\t\n",
            "\n",
            "0.500000\t\t0.500000\t\t0.000000\t\t\n",
            "0.500000\t\t0.500000\t\t0.000000\t\t\n",
            "0.000000\t\t0.000000\t\t1.000000\t\t\n"
          ]
        }
      ]
    },
    {
      "cell_type": "code",
      "metadata": {
        "colab": {
          "base_uri": "https://localhost:8080/"
        },
        "id": "95b4h6w0eDSo",
        "outputId": "a80cc28b-49e2-4d3a-80c9-ef1cc94251f8"
      },
      "source": [
        "#Проверка 2 ((A^+ A)^T = A^+ A)\n",
        "#A_psev1 = A_psev.dot(muu)\n",
        "Check2_1 = (A_psev.dot(A)).transpose()\n",
        "Check2_2 = A_psev.dot(A)\n",
        "print_matrix(Check2_1)\n",
        "print()\n",
        "print_matrix(Check2_2)"
      ],
      "id": "95b4h6w0eDSo",
      "execution_count": null,
      "outputs": [
        {
          "output_type": "stream",
          "name": "stdout",
          "text": [
            "0.282913\t\t0.044818\t\t0.448179\t\t\n",
            "0.044818\t\t0.997199\t\t-0.028011\t\t\n",
            "0.448179\t\t-0.028011\t\t0.719888\t\t\n",
            "\n",
            "0.282913\t\t0.044818\t\t0.448179\t\t\n",
            "0.044818\t\t0.997199\t\t-0.028011\t\t\n",
            "0.448179\t\t-0.028011\t\t0.719888\t\t\n"
          ]
        }
      ]
    },
    {
      "cell_type": "code",
      "metadata": {
        "colab": {
          "base_uri": "https://localhost:8080/"
        },
        "id": "L0xQZwcjewGy",
        "outputId": "85f60d01-3f7c-456a-b488-b7a12b41c127"
      },
      "source": [
        "#Проверка 3 (A A^+ A = A)\n",
        "Check3_1 = A.dot(A_psev).dot(A)\n",
        "Check3_2 = A\n",
        "print(Check3_1)\n",
        "print(Check3_2)"
      ],
      "id": "L0xQZwcjewGy",
      "execution_count": null,
      "outputs": [
        {
          "output_type": "stream",
          "name": "stdout",
          "text": [
            "[[-1.  4. -2.]\n",
            " [-1.  4. -2.]\n",
            " [ 1. 26. -1.]]\n",
            "[[-1  4 -2]\n",
            " [-1  4 -2]\n",
            " [ 1 26 -1]]\n"
          ]
        }
      ]
    },
    {
      "cell_type": "code",
      "metadata": {
        "colab": {
          "base_uri": "https://localhost:8080/"
        },
        "id": "AWcEmAiqfUdB",
        "outputId": "194210ae-cbe8-4803-fb68-ffb21ff0de4c"
      },
      "source": [
        "#Проверка 4 (A^+ A A^+ = A^+)\n",
        "Check4_1 = A_psev.dot(A).dot(A_psev)\n",
        "Check4_2 = A_psev\n",
        "print_matrix(Check4_1)\n",
        "print()\n",
        "print_matrix(Check4_2)"
      ],
      "id": "AWcEmAiqfUdB",
      "execution_count": null,
      "outputs": [
        {
          "output_type": "stream",
          "name": "stdout",
          "text": [
            "-0.121849\t\t-0.121849\t\t0.039216\t\t\n",
            "-0.002801\t\t-0.002801\t\t0.039216\t\t\n",
            "-0.194678\t\t-0.194678\t\t0.058824\t\t\n",
            "\n",
            "-0.121849\t\t-0.121849\t\t0.039216\t\t\n",
            "-0.002801\t\t-0.002801\t\t0.039216\t\t\n",
            "-0.194678\t\t-0.194678\t\t0.058824\t\t\n"
          ]
        }
      ]
    }
  ]
}