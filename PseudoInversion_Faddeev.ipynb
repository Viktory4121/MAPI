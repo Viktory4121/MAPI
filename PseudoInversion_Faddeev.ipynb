{
  "nbformat": 4,
  "nbformat_minor": 5,
  "metadata": {
    "kernelspec": {
      "display_name": "Python 3",
      "language": "python",
      "name": "python3"
    },
    "language_info": {
      "codemirror_mode": {
        "name": "ipython",
        "version": 3
      },
      "file_extension": ".py",
      "mimetype": "text/x-python",
      "name": "python",
      "nbconvert_exporter": "python",
      "pygments_lexer": "ipython3",
      "version": "3.8.8"
    },
    "colab": {
      "provenance": [],
      "collapsed_sections": [],
      "include_colab_link": true
    }
  },
  "cells": [
    {
      "cell_type": "markdown",
      "metadata": {
        "id": "view-in-github",
        "colab_type": "text"
      },
      "source": [
        "<a href=\"https://colab.research.google.com/github/Viktory4121/MAPI/blob/main/PseudoInversion_Faddeev.ipynb\" target=\"_parent\"><img src=\"https://colab.research.google.com/assets/colab-badge.svg\" alt=\"Open In Colab\"/></a>"
      ]
    },
    {
      "cell_type": "markdown",
      "source": [
        "#Алгоритм Фаддеева"
      ],
      "metadata": {
        "id": "vnOX9NVhktez"
      },
      "id": "vnOX9NVhktez"
    },
    {
      "cell_type": "code",
      "metadata": {
        "colab": {
          "base_uri": "https://localhost:8080/"
        },
        "id": "e243beba",
        "outputId": "27782fc3-4eb9-4f62-9963-600553b72024"
      },
      "source": [
        "import numpy as np\n",
        "\n",
        "A = np.array([[-9,3,4,1],[3,0,1,-10]])\n",
        "\n",
        "def print_matrix(A):\n",
        "  for row in A:\n",
        "    for i in row:\n",
        "      if(i != row[-1]):\n",
        "        #print(\"{:.6f} & \".format(i), end = \"\" )\n",
        "        print(\"{} & \".format(str(i)), end = \"\" )\n",
        "      else:\n",
        "        print(\"{}\\\\\\\\\".format(str(i)), end = \"\" )\n",
        "    print()\n",
        "\n",
        "#--------------------------------\n",
        "n = len(A[0])\n",
        "A_T = A.transpose()\n",
        "A_T_A = A_T.dot(A) #перемножены транспонированная матрица и обычная\n",
        "F = np.diag(np.diag(np.ones([n,n]))) #единичная матрица\n",
        "mu = sum(np.diag(A_T_A)) #это фи1 (сумма значений матрицы A_T_A по диагонали)\n",
        "print(\"A =\")\n",
        "print_matrix(A)\n",
        "print(\"Шаг 1\")\n",
        "print(\"F = I;\")\n",
        "print(\"phi_1 = \", mu)\n",
        "#print(\"det(A) = \", np.linalg.det(A))\n",
        "#--------------------------------\n",
        "\n",
        "def pseudo(A_T_A, F, mu, A_T):\n",
        "    n = len(F)\n",
        "    I = np.diag(np.diag(np.ones([n,n])))\n",
        "    i = 2\n",
        "    while mu != 0:\n",
        "        if sum(np.diag(A_T_A.dot(mu*I - A_T_A.dot(F))))/float(i) == 0:\n",
        "            _mu = mu\n",
        "            _F = F\n",
        "        F = mu*I - A_T_A.dot(F)\n",
        "        mu = sum(np.diag(A_T_A.dot(F)))/float(i)\n",
        "        \n",
        "        print(\"\\nШаг\", i)\n",
        "        print(\"F:\")\n",
        "        print_matrix(F)\n",
        "        #print(\"\\nA_T_A*F:\\n\", A_T_A.dot(F))\n",
        "        print(\"phi\\n\", mu)\n",
        "        \n",
        "        i+=1\n",
        "\n",
        "    print(\"\\n\\nРЕЗУЛЬТАТ:\\nA*: 1/\", _mu)\n",
        "    A_psevv = _F.dot(A_T)\n",
        "    print_matrix(A_psevv)\n",
        "\n",
        "    print(\"\\nили A*:\")\n",
        "    print_matrix(A_psevv/_mu)\n",
        "    return(A_psevv/_mu, _mu)\n",
        "\n",
        "A_psev, muu = pseudo(A_T_A, F, mu, A_T)"
      ],
      "id": "e243beba",
      "execution_count": 36,
      "outputs": [
        {
          "output_type": "stream",
          "name": "stdout",
          "text": [
            "A =\n",
            "-9 & 3 & 4 & 1\\\\\n",
            "3 & 0 & 1 & -10\\\\\n",
            "Шаг 1\n",
            "F = I;\n",
            "phi_1 =  217\n",
            "\n",
            "Шаг 2\n",
            "F:\n",
            "127.0 & 27.0 & 33.0 & 39.0\\\\\n",
            "27.0 & 208.0 & -12.0 & -3.0\\\\\n",
            "33.0 & -12.0 & 200.0 & 6.0\\\\\n",
            "39.0 & -3.0 & 6.0 & 116.0\\\\\n",
            "phi\n",
            " 10681.0\n",
            "\n",
            "Шаг 3\n",
            "F:\n",
            "2590.0 & 2673.0 & 3540.0 & 1131.0\\\\\n",
            "2673.0 & 9691.0 & -1419.0 & 660.0\\\\\n",
            "3540.0 & -1419.0 & 8550.0 & 1917.0\\\\\n",
            "1131.0 & 660.0 & 1917.0 & 531.0\\\\\n",
            "phi\n",
            " 0.0\n",
            "\n",
            "\n",
            "РЕЗУЛЬТАТ:\n",
            "A*: 1/ 10681.0\n",
            "-891.0 & 24.0\\\\\n",
            "330.0 & 99.0\\\\\n",
            "473.0 & 239.0\\\\\n",
            "-220.0 & -1037.0\\\\\n",
            "\n",
            "или A*:\n",
            "-0.08341915550978372 & 0.002246980619792154\\\\\n",
            "0.030895983522142123 & 0.009268795056642637\\\\\n",
            "0.044284243048403706 & 0.022376182005430203\\\\\n",
            "-0.02059732234809475 & -0.09708828761351933\\\\\n"
          ]
        }
      ]
    },
    {
      "cell_type": "markdown",
      "source": [
        "#Проверки Мура-Пенроуза"
      ],
      "metadata": {
        "id": "FGU8oaqbkyuM"
      },
      "id": "FGU8oaqbkyuM"
    },
    {
      "cell_type": "code",
      "metadata": {
        "colab": {
          "base_uri": "https://localhost:8080/"
        },
        "id": "VnBEhzTTdKkF",
        "outputId": "3c351c65-aa1d-42b5-932b-51bc48f1dbe8"
      },
      "source": [
        "#Проверка 1 ((A A^+)^T = A A^+)\n",
        "print(\"Проверка 1.\")\n",
        "Check1_1 = (A.dot(A_psev)).transpose()\n",
        "Check1_2 = A.dot(A_psev)\n",
        "print(\"(A A^+)^T:\")\n",
        "print_matrix(Check1_1)\n",
        "print()\n",
        "print(\"A A^+:\")\n",
        "print_matrix(Check1_2)\n",
        "\n",
        "#Проверка 2 ((A^+ A)^T = A^+ A)\n",
        "#A_psev1 = A_psev.dot(muu)\n",
        "print(\"\\n\\nПроверка 2.\")\n",
        "Check2_1 = (A_psev.dot(A)).transpose()\n",
        "Check2_2 = A_psev.dot(A)\n",
        "print(\"(A^+ A)^T:\")\n",
        "print_matrix(Check2_1)\n",
        "print()\n",
        "print(\"A^+ A:\")\n",
        "print_matrix(Check2_2)\n",
        "\n",
        "#Проверка 3 (A A^+ A = A)\n",
        "print(\"\\n\\nПроверка 3.\")\n",
        "Check3_1 = A.dot(A_psev).dot(A)\n",
        "Check3_2 = A\n",
        "print(\"A A^+ A:\")\n",
        "print_matrix(Check3_1)\n",
        "print(\"A:\")\n",
        "print_matrix(Check3_2)\n",
        "\n",
        "#Проверка 4 (A^+ A A^+ = A^+)\n",
        "print(\"\\n\\nПроверка 4.\")\n",
        "Check4_1 = A_psev.dot(A).dot(A_psev)\n",
        "Check4_2 = A_psev\n",
        "print(\"A^+ A A^+:\")\n",
        "print_matrix(Check4_1)\n",
        "print()\n",
        "print(\"A^+ A A^+:\")\n",
        "print_matrix(Check4_2)"
      ],
      "id": "VnBEhzTTdKkF",
      "execution_count": 37,
      "outputs": [
        {
          "output_type": "stream",
          "name": "stdout",
          "text": [
            "Проверка 1.\n",
            "(A A^+)^T:\n",
            "1.0 & 2.7755575615628914e-17\\\\\n",
            "0.0 & 1.0\\\\\n",
            "\n",
            "A A^+:\n",
            "1.0 & 0.0\\\\\n",
            "2.7755575615628914e-17 & 1.0\\\\\n",
            "\n",
            "\n",
            "Проверка 2.\n",
            "(A^+ A)^T:\n",
            "0.75751334144743 & -0.2502574665293512 & -0.3314296414193428 & -0.10588896170770525\\\\\n",
            "-0.25025746652935116 & 0.09268795056642637 & 0.13285272914521112 & -0.061791967044284246\\\\\n",
            "-0.3314296414193427 & 0.13285272914521112 & 0.19951315419904503 & -0.17947757700589834\\\\\n",
            "-0.10588896170770526 & -0.061791967044284246 & -0.17947757700589834 & 0.9502855537870986\\\\\n",
            "\n",
            "A^+ A:\n",
            "0.75751334144743 & -0.25025746652935116 & -0.3314296414193427 & -0.10588896170770526\\\\\n",
            "-0.2502574665293512 & 0.09268795056642637 & 0.13285272914521112 & -0.061791967044284246\\\\\n",
            "-0.3314296414193428 & 0.13285272914521112 & 0.19951315419904503 & -0.17947757700589834\\\\\n",
            "-0.10588896170770525 & -0.061791967044284246 & -0.17947757700589834 & 0.9502855537870986\\\\\n",
            "\n",
            "\n",
            "Проверка 3.\n",
            "A A^+ A:\n",
            "-9.0 & 3.0 & 4.0 & 1.0\\\\\n",
            "2.9999999999999996 & 8.326672684688674e-17 & 1.0 & -10.0\\\\\n",
            "A:\n",
            "-9 & 3 & 4 & 1\\\\\n",
            "3 & 0 & 1 & -10\\\\\n",
            "\n",
            "\n",
            "Проверка 4.\n",
            "A^+ A A^+:\n",
            "-0.08341915550978372 & 0.002246980619792154\\\\\n",
            "0.030895983522142127 & 0.009268795056642637\\\\\n",
            "0.044284243048403706 & 0.022376182005430203\\\\\n",
            "-0.020597322348094752 & -0.09708828761351933\\\\\n",
            "\n",
            "A^+ A A^+:\n",
            "-0.08341915550978372 & 0.002246980619792154\\\\\n",
            "0.030895983522142123 & 0.009268795056642637\\\\\n",
            "0.044284243048403706 & 0.022376182005430203\\\\\n",
            "-0.02059732234809475 & -0.09708828761351933\\\\\n"
          ]
        }
      ]
    }
  ]
}