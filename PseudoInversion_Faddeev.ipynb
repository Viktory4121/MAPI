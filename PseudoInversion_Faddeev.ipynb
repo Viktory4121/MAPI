{
  "nbformat": 4,
  "nbformat_minor": 5,
  "metadata": {
    "kernelspec": {
      "display_name": "Python 3",
      "language": "python",
      "name": "python3"
    },
    "language_info": {
      "codemirror_mode": {
        "name": "ipython",
        "version": 3
      },
      "file_extension": ".py",
      "mimetype": "text/x-python",
      "name": "python",
      "nbconvert_exporter": "python",
      "pygments_lexer": "ipython3",
      "version": "3.8.8"
    },
    "colab": {
      "provenance": [],
      "collapsed_sections": [],
      "include_colab_link": true
    }
  },
  "cells": [
    {
      "cell_type": "markdown",
      "metadata": {
        "id": "view-in-github",
        "colab_type": "text"
      },
      "source": [
        "<a href=\"https://colab.research.google.com/github/Viktory4121/MAPI/blob/main/PseudoInversion_Faddeev.ipynb\" target=\"_parent\"><img src=\"https://colab.research.google.com/assets/colab-badge.svg\" alt=\"Open In Colab\"/></a>"
      ]
    },
    {
      "cell_type": "markdown",
      "source": [
        "#Алгоритм Фаддеева"
      ],
      "metadata": {
        "id": "vnOX9NVhktez"
      },
      "id": "vnOX9NVhktez"
    },
    {
      "cell_type": "code",
      "metadata": {
        "colab": {
          "base_uri": "https://localhost:8080/"
        },
        "id": "e243beba",
        "outputId": "b2d67ca6-2adb-42ce-ce29-c2e9dceec51c"
      },
      "source": [
        "import numpy as np\n",
        "\n",
        "def print_matrix(A):\n",
        "  for row in A:\n",
        "    for i in row:\n",
        "      if(i != row[-1]):\n",
        "        #print(\"{:.6f} & \".format(i), end = \"\" )\n",
        "        print(\"{} & \".format(str(i)), end = \"\" )\n",
        "      else:\n",
        "        print(\"{}\\\\\\\\\".format(str(i)), end = \"\" )\n",
        "    print()\n",
        "\n",
        "A = np.array([[-1,4,-2],[-1,4,-2],[1,26,-1]])\n",
        "n = len(A[0])\n",
        "A_T = A.transpose()\n",
        "A_T_A = A_T.dot(A) #перемножены транспонированная матрица и обычная\n",
        "F = np.diag(np.diag(np.ones([n,n]))) #единичная матрица\n",
        "mu = sum(np.diag(A_T_A)) #это фи1 (сумма значений матрицы A_T_A по диагонали)\n",
        "print(\"Шаг 1\")\n",
        "print(\"A =\")\n",
        "print_matrix(A)\n",
        "print(\"phi_1 = \", mu)\n",
        "print(\"det(A) = \", np.linalg.det(A))\n",
        "\n",
        "def pseudo(A_T_A, F, mu, A_T):\n",
        "    n = len(F)\n",
        "    I = np.diag(np.diag(np.ones([n,n])))\n",
        "    i = 2\n",
        "    while mu != 0:\n",
        "        if sum(np.diag(A_T_A.dot(mu*I - A_T_A.dot(F))))/float(i) == 0:\n",
        "            _mu = mu\n",
        "            _F = F\n",
        "        F = mu*I - A_T_A.dot(F)\n",
        "        mu = sum(np.diag(A_T_A.dot(F)))/float(i)\n",
        "        \n",
        "        print(\"\\nШаг\", i)\n",
        "        print(\"F:\")\n",
        "        print_matrix(F)\n",
        "        #print(\"\\nA_T_A*F:\\n\", A_T_A.dot(F))\n",
        "        print(\"phi\\n\", mu)\n",
        "        \n",
        "        i+=1\n",
        "\n",
        "    print(\"\\n\\nРЕЗУЛЬТАТ:\\nA*: 1/\", _mu)\n",
        "    A_psevv = _F.dot(A_T)\n",
        "    print_matrix(A_psevv)\n",
        "\n",
        "    print(\"\\nили A*:\")\n",
        "    print_matrix(A_psevv/_mu)\n",
        "    return(A_psevv/_mu, _mu)\n",
        "\n",
        "A_psev, muu = pseudo(A_T_A, F, mu, A_T)"
      ],
      "id": "e243beba",
      "execution_count": 28,
      "outputs": [
        {
          "output_type": "stream",
          "name": "stdout",
          "text": [
            "Шаг 1\n",
            "A =\n",
            "-1 & 4 & -2\\\\\n",
            "-1 & 4 & -2\\\\\n",
            "1 & 26 & -1\\\\\n",
            "phi_1 =  720\n",
            "det(A) =  0.0\n",
            "\n",
            "Шаг 2\n",
            "F:\n",
            "717.0 & -18.0 & -3.0\\\\\n",
            "-18.0 & 12.0 & 42.0\\\\\n",
            "-3.0 & 42.0 & 711.0\\\\\n",
            "phi\n",
            " 6426.0\n",
            "\n",
            "Шаг 3\n",
            "F:\n",
            "4608.0 & -288.0 & -2880.0\\\\\n",
            "-288.0 & 18.0 & 180.0\\\\\n",
            "-2880.0 & 180.0 & 1800.0\\\\\n",
            "phi\n",
            " 0.0\n",
            "\n",
            "\n",
            "РЕЗУЛЬТАТ:\n",
            "A*: 1/ 6426.0\n",
            "-783.0 & -783.0 & 252.0\\\\\n",
            "-18.0 & -18.0 & 252.0\\\\\n",
            "-1251.0 & -1251.0 & 378.0\\\\\n",
            "\n",
            "или A*:\n",
            "-0.12184873949579832 & -0.12184873949579832 & 0.0392156862745098\\\\\n",
            "-0.0028011204481792717 & -0.0028011204481792717 & 0.0392156862745098\\\\\n",
            "-0.19467787114845939 & -0.19467787114845939 & 0.058823529411764705\\\\\n"
          ]
        }
      ]
    },
    {
      "cell_type": "markdown",
      "source": [
        "#Проверки Мура-Пенроуза"
      ],
      "metadata": {
        "id": "FGU8oaqbkyuM"
      },
      "id": "FGU8oaqbkyuM"
    },
    {
      "cell_type": "code",
      "metadata": {
        "colab": {
          "base_uri": "https://localhost:8080/"
        },
        "id": "VnBEhzTTdKkF",
        "outputId": "c305bbe0-2432-47aa-be6c-4875f22bbbae"
      },
      "source": [
        "#Проверка 1 ((A A^+)^T = A A^+)\n",
        "print(\"Проверка 1.\")\n",
        "Check1_1 = (A.dot(A_psev)).transpose()\n",
        "Check1_2 = A.dot(A_psev)\n",
        "print(\"(A A^+)^T:\")\n",
        "print_matrix(Check1_1)\n",
        "print()\n",
        "print(\"A A^+:\")\n",
        "print_matrix(Check1_2)\n",
        "\n",
        "#Проверка 2 ((A^+ A)^T = A^+ A)\n",
        "#A_psev1 = A_psev.dot(muu)\n",
        "print(\"\\n\\nПроверка 2.\")\n",
        "Check2_1 = (A_psev.dot(A)).transpose()\n",
        "Check2_2 = A_psev.dot(A)\n",
        "print(\"(A^+ A)^T:\")\n",
        "print_matrix(Check2_1)\n",
        "print()\n",
        "print(\"A^+ A:\")\n",
        "print_matrix(Check2_2)\n",
        "\n",
        "#Проверка 3 (A A^+ A = A)\n",
        "print(\"\\n\\nПроверка 3.\")\n",
        "Check3_1 = A.dot(A_psev).dot(A)\n",
        "Check3_2 = A\n",
        "print(\"A A^+ A:\")\n",
        "print_matrix(Check3_1)\n",
        "print(\"A:\")\n",
        "print_matrix(Check3_2)\n",
        "\n",
        "#Проверка 4 (A^+ A A^+ = A^+)\n",
        "print(\"\\n\\nПроверка 4.\")\n",
        "Check4_1 = A_psev.dot(A).dot(A_psev)\n",
        "Check4_2 = A_psev\n",
        "print(\"A^+ A A^+:\")\n",
        "print_matrix(Check4_1)\n",
        "print()\n",
        "print(\"A^+ A A^+:\")\n",
        "print_matrix(Check4_2)"
      ],
      "id": "VnBEhzTTdKkF",
      "execution_count": 29,
      "outputs": [
        {
          "output_type": "stream",
          "name": "stdout",
          "text": [
            "Проверка 1.\n",
            "(A A^+)^T:\n",
            "0.5 & 0.5 & 0.0\\\\\n",
            "0.5 & 0.5 & 0.0\\\\\n",
            "0.0 & 0.0 & 1.0\\\\\n",
            "\n",
            "A A^+:\n",
            "0.5 & 0.5 & 0.0\\\\\n",
            "0.5 & 0.5 & 0.0\\\\\n",
            "0.0 & 0.0 & 1.0\\\\\n",
            "\n",
            "\n",
            "Проверка 2.\n",
            "(A^+ A)^T:\n",
            "0.28291316526610644 & 0.04481792717086835 & 0.4481792717086835\\\\\n",
            "0.044817927170868355 & 0.9971988795518207 & -0.028011204481792756\\\\\n",
            "0.44817927170868344 & -0.028011204481792715 & 0.7198879551820728\\\\\n",
            "\n",
            "A^+ A:\n",
            "0.28291316526610644 & 0.044817927170868355 & 0.44817927170868344\\\\\n",
            "0.04481792717086835 & 0.9971988795518207 & -0.028011204481792715\\\\\n",
            "0.4481792717086835 & -0.028011204481792756 & 0.7198879551820728\\\\\n",
            "\n",
            "\n",
            "Проверка 3.\n",
            "A A^+ A:\n",
            "-1.0 & 4.0 & -2.0\\\\\n",
            "-1.0 & 4.0 & -2.0\\\\\n",
            "1.0 & 26.0 & -1.0\\\\\n",
            "A:\n",
            "-1 & 4 & -2\\\\\n",
            "-1 & 4 & -2\\\\\n",
            "1 & 26 & -1\\\\\n",
            "\n",
            "\n",
            "Проверка 4.\n",
            "A^+ A A^+:\n",
            "-0.12184873949579832 & -0.12184873949579832 & 0.0392156862745098\\\\\n",
            "-0.0028011204481792717 & -0.0028011204481792717 & 0.0392156862745098\\\\\n",
            "-0.19467787114845939 & -0.19467787114845939 & 0.058823529411764705\\\\\n",
            "\n",
            "A^+ A A^+:\n",
            "-0.12184873949579832 & -0.12184873949579832 & 0.0392156862745098\\\\\n",
            "-0.0028011204481792717 & -0.0028011204481792717 & 0.0392156862745098\\\\\n",
            "-0.19467787114845939 & -0.19467787114845939 & 0.058823529411764705\\\\\n"
          ]
        }
      ]
    }
  ]
}