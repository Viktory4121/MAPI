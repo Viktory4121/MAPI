{
  "nbformat": 4,
  "nbformat_minor": 5,
  "metadata": {
    "kernelspec": {
      "display_name": "Python 3",
      "language": "python",
      "name": "python3"
    },
    "language_info": {
      "codemirror_mode": {
        "name": "ipython",
        "version": 3
      },
      "file_extension": ".py",
      "mimetype": "text/x-python",
      "name": "python",
      "nbconvert_exporter": "python",
      "pygments_lexer": "ipython3",
      "version": "3.8.8"
    },
    "colab": {
      "provenance": [],
      "collapsed_sections": [],
      "include_colab_link": true
    }
  },
  "cells": [
    {
      "cell_type": "markdown",
      "metadata": {
        "id": "view-in-github",
        "colab_type": "text"
      },
      "source": [
        "<a href=\"https://colab.research.google.com/github/Viktory4121/MAPI/blob/main/solving_matrix_equations.ipynb\" target=\"_parent\"><img src=\"https://colab.research.google.com/assets/colab-badge.svg\" alt=\"Open In Colab\"/></a>"
      ]
    },
    {
      "cell_type": "markdown",
      "source": [
        "#Решение матричных уравнений (псевдообращение методом Фаддеева)"
      ],
      "metadata": {
        "id": "vnOX9NVhktez"
      },
      "id": "vnOX9NVhktez"
    },
    {
      "cell_type": "code",
      "source": [
        "import numpy as np\n",
        "import math\n",
        "#1 система\n",
        "#A = np.array([[1,2,7,-2,1],[6,0,4,-2,5],[-4,-8,3,2,1],[7,0,-4,3,2]])\n",
        "#B = np.array([[12,7,9,36],[98,3,5,2],[6,78,3,1],[1,3,10,41]])\n",
        "#C = np.array([[4,-9,83,0,],[56,7,-2,3],[7,-2,0,2],[11,45,29,-5]])\n",
        "#2 система\n",
        "#A = np.array([[-9,3,4,1],[3,0,1,-10]])\n",
        "#B = np.array([[10,-62,11,6],[0,24,-5,-7],[1,8,4,12]])\n",
        "#C = np.array([[-1,3,10,56],[4,0,-5,32]])\n",
        "#3 система\n",
        "#A = np.array([[8,-5,1,4,-9],[2,5,-1,4,2],[-1,-2,-6,9,5],[6,2,0,-7,2],[6,2,5,9,1],[-5,-1,4,8,-2]])\n",
        "#B = np.array([[-1,2,5],[5,2,7],[0,-7,-1],[6,5,4],[1,6,2],[1,2,3]])\n",
        "#C = np.array([[9,-2,57],[-4,6,2],[1,5,4],[3,4,3],[-2,7,-9],[0,3,5]])\n",
        "#4 система\n",
        "#A = np.array([[4,1,2,-5,2,-1],[0,-4,-3,2,5,1],[-7,9,1,5,2,1]])\n",
        "#B = np.array([[-1,4,-2],[-1,4,-2],[1,26,-1]])\n",
        "#C = np.array([[1,6,2],[1,2,3],[-7,-4,-1]])\n",
        "#5 система\n",
        "#A = np.array([[7,0,4,9,6,0],[3,0,4,1,1,2],[0,1,1,2,6,7],[1,4,7,4,9,5]])\n",
        "#B = np.array([[4,1,2,-5],[2,-1,0,-4],[-3,2,5,1],[-7,9,1,0]])\n",
        "#C = np.array([[1,2,3,-60],[5,6,7,-45],[-1,-2,-3,11],[0,-6,2,19]])\n",
        "#6 система\n",
        "A = np.array([[4,1,2],[-5,2,-1],[0,-4,-3],[2,5,1],[-7,9,1]])\n",
        "B = np.array([[8,-5,1,4,-9],[2,5,-1,4,2],[-1,-2,-6,9,5]])\n",
        "C = np.array([[-1,0,2,6,3],[-2,-4,-8,2,1],[10,43,0,1,23],[1,6,3,9,-1],[-9,51,-4,-2,1]])"
      ],
      "metadata": {
        "id": "4xude-OfkI14"
      },
      "id": "4xude-OfkI14",
      "execution_count": 30,
      "outputs": []
    },
    {
      "cell_type": "code",
      "metadata": {
        "colab": {
          "base_uri": "https://localhost:8080/"
        },
        "id": "e243beba",
        "outputId": "e5094767-14f6-4e6b-ff0f-3581ef2968b1"
      },
      "source": [
        "def print_matrix(A):\n",
        "  for i in range(len(A)):\n",
        "    for j in range(len(A[0])):\n",
        "      if j < len(A[0]) - 1:\n",
        "        print(\"{} & \".format(str(round(A[i,j]))), end = \"\" )\n",
        "      else:\n",
        "        print(\"{} \\\\\\\\\".format(str(round(A[i,j]))), end = \"\")\n",
        "      #print(\"{}\\t\\t\".format(str(round(A[i,j]))), end = \"\" )\n",
        "    print()\n",
        "\n",
        "def print_float_matrix(A):\n",
        "  for i in range(len(A)):\n",
        "    for j in range(len(A[0])):\n",
        "      if j < len(A[0]) - 1:\n",
        "        print(\"{:6f} & \".format(A[i,j]), end = \"\" )\n",
        "      else:\n",
        "        print(\"{:6f} \\\\\\\\\".format(A[i,j]), end = \"\")\n",
        "      \n",
        "      #print(\"{:6f}\\t\\t\".format(A[i,j]), end = \"\" )\n",
        "    print()\n",
        "\n",
        "#--------------------------------\n",
        "print(\"A = \",)\n",
        "print_matrix(A)\n",
        "print(\"\\nB = \",)\n",
        "print_matrix(B)\n",
        "print(\"\\nC = \",)\n",
        "print_matrix(C)\n",
        "#--------------------------------\n",
        "def Faddeev(A):\n",
        "    m = len(A[0])\n",
        "    A_T = A.transpose()\n",
        "    A_T_A = A_T.dot(A) #перемножены транспонированная матрица и обычная\n",
        "    F = np.diag(np.diag(np.ones([m,m]))) #единичная матрица\n",
        "    mu = sum(np.diag(A_T_A)) #это фи1 (сумма значений матрицы A_T_A по диагонали)\n",
        "\n",
        "    n = len(F)\n",
        "    I = np.diag(np.diag(np.ones([n,n])))\n",
        "    i = 2\n",
        "    while mu != 0:\n",
        "        if sum(np.diag(A_T_A.dot(mu*I - A_T_A.dot(F))))/float(i) == 0:\n",
        "            _mu = mu\n",
        "            _F = F\n",
        "        F = mu*I - A_T_A.dot(F)\n",
        "        mu = sum(np.diag(A_T_A.dot(F)))/float(i)\n",
        "        \n",
        "        i+=1\n",
        "\n",
        "    print(\"Псевдообратная матрица:\")\n",
        "    A_psevv = _F.dot(A_T)\n",
        "    print_float_matrix(A_psevv / _mu)\n",
        "    return(A_psevv/_mu, _mu)"
      ],
      "id": "e243beba",
      "execution_count": 31,
      "outputs": [
        {
          "output_type": "stream",
          "name": "stdout",
          "text": [
            "A = \n",
            "4 & 1 & 2 \\\\\n",
            "-5 & 2 & -1 \\\\\n",
            "0 & -4 & -3 \\\\\n",
            "2 & 5 & 1 \\\\\n",
            "-7 & 9 & 1 \\\\\n",
            "\n",
            "B = \n",
            "8 & -5 & 1 & 4 & -9 \\\\\n",
            "2 & 5 & -1 & 4 & 2 \\\\\n",
            "-1 & -2 & -6 & 9 & 5 \\\\\n",
            "\n",
            "C = \n",
            "-1 & 0 & 2 & 6 & 3 \\\\\n",
            "-2 & -4 & -8 & 2 & 1 \\\\\n",
            "10 & 43 & 0 & 1 & 23 \\\\\n",
            "1 & 6 & 3 & 9 & -1 \\\\\n",
            "-9 & 51 & -4 & -2 & 1 \\\\\n"
          ]
        }
      ]
    },
    {
      "cell_type": "code",
      "source": [
        "def check_solvability(A, A_psev, B, B_psev, C):\n",
        "  n = len(A[0])\n",
        "  I = np.diag(np.diag(np.ones([n,n])))\n",
        "  print(\"Проверка на совместность: промежуточные вычисления...\")\n",
        "  print(\"A A^+ =\")\n",
        "  print_float_matrix(A.dot(A_psev))\n",
        "  print()\n",
        "  print(\"A A^+ C =\")\n",
        "  print_float_matrix((A.dot(A_psev)).dot(C))\n",
        "  print()\n",
        "  print(\"A A^+ C B^+ =\")\n",
        "  print_float_matrix(((A.dot(A_psev)).dot(C)).dot(B_psev))\n",
        "  print()\n",
        "  print(\"A A^+ C B^+ B = \")\n",
        "  print_float_matrix((((A.dot(A_psev)).dot(C)).dot(B_psev)).dot(B))\n",
        "  print()\n",
        "  print(\"C =\")\n",
        "  print_float_matrix(C)\n",
        "  #private = I - A_psev.dot(A)\n",
        "  #return private\n",
        "\n",
        "def matrix_eq(A, B, C):\n",
        "  A_psev, muuA = Faddeev(A)\n",
        "  print()\n",
        "  B_psev, muuB = Faddeev(B)\n",
        "  print()\n",
        "\n",
        "  check_solvability(A, A_psev, B, B_psev, C)\n",
        "  print(\"\\nРешение:\")\n",
        "  print(\"A^+ C = \")\n",
        "  print_float_matrix(A_psev.dot(C))\n",
        "\n",
        "  X = (A_psev.dot(C)).dot(B_psev) #общее решение\n",
        "\n",
        "  print(\"\\n\\nРЕШЕНИЕ матричного уравнения:\\nX =\")\n",
        "  print_float_matrix(X)\n",
        "  return X\n",
        "\n",
        "x_o = matrix_eq(A, B, C)"
      ],
      "metadata": {
        "colab": {
          "base_uri": "https://localhost:8080/"
        },
        "id": "J1YN_8uN4Vfo",
        "outputId": "2895c65c-9086-437d-ddfb-adc4bc1a9fbf"
      },
      "id": "J1YN_8uN4Vfo",
      "execution_count": 33,
      "outputs": [
        {
          "output_type": "stream",
          "name": "stdout",
          "text": [
            "Псевдообратная матрица:\n",
            "0.037753 & -0.049263 & 0.077808 & 0.151473 & -0.042818 \\\\\n",
            "0.005525 & 0.000921 & 0.076427 & 0.168508 & 0.050645 \\\\\n",
            "0.097145 & -0.039365 & -0.350599 & -0.287063 & 0.001611 \\\\\n",
            "\n",
            "Псевдообратная матрица:\n",
            "0.045664 & 0.067966 & -0.021259 \\\\\n",
            "-0.021614 & 0.137063 & -0.052813 \\\\\n",
            "0.003295 & 0.016887 & -0.045120 \\\\\n",
            "0.027886 & 0.045685 & 0.051259 \\\\\n",
            "-0.045753 & 0.006449 & 0.028213 \\\\\n",
            "\n",
            "Проверка на совместность: промежуточные вычисления...\n",
            "A A^+ =\n",
            "0.350829 & -0.274862 & -0.313536 & 0.200276 & -0.117403 \\\\\n",
            "-0.274862 & 0.287523 & 0.114411 & -0.133287 & 0.313766 \\\\\n",
            "-0.313536 & 0.114411 & 0.746087 & 0.187155 & -0.207413 \\\\\n",
            "0.200276 & -0.133287 & 0.187155 & 0.858425 & 0.169199 \\\\\n",
            "-0.117403 & 0.313766 & -0.207413 & 0.169199 & 0.757136 \\\\\n",
            "\n",
            "A A^+ C =\n",
            "-1.679558 & -17.168508 & 3.970994 & 3.279006 & -6.751381 \\\\\n",
            "-2.113260 & 18.971915 & -4.504834 & -2.786832 & 2.541436 \\\\\n",
            "9.599448 & 22.168969 & -0.151243 & 1.192910 & 15.939227 \\\\\n",
            "1.273481 & 22.360497 & 3.365331 & 8.509669 & 4.082873 \\\\\n",
            "-9.229282 & 29.455341 & -5.265884 & -0.275783 & -4.220994 \\\\\n",
            "\n",
            "A A^+ C B^+ =\n",
            "0.707800 & -2.294003 & 0.740859 \\\\\n",
            "-0.715392 & 2.269719 & -0.824930 \\\\\n",
            "-0.737311 & 3.845724 & -0.857222 \\\\\n",
            "-0.363567 & 3.623277 & -0.808453 \\\\\n",
            "-0.890011 & 3.281212 & -1.255046 \\\\\n",
            "\n",
            "A A^+ C B^+ B = \n",
            "0.333537 & -16.490734 & -1.443351 & 0.322920 & -7.253914 \\\\\n",
            "-0.358764 & 16.575411 & 1.964470 & -1.207061 & 6.853311 \\\\\n",
            "2.650185 & 24.629619 & 0.560296 & 4.718658 & 10.041135 \\\\\n",
            "5.146469 & 21.551124 & 0.863871 & 5.762765 & 6.476395 \\\\\n",
            "0.697381 & 23.366208 & 3.359052 & -1.730609 & 8.297295 \\\\\n",
            "\n",
            "C =\n",
            "-1.000000 & 0.000000 & 2.000000 & 6.000000 & 3.000000 \\\\\n",
            "-2.000000 & -4.000000 & -8.000000 & 2.000000 & 1.000000 \\\\\n",
            "10.000000 & 43.000000 & 0.000000 & 1.000000 & 23.000000 \\\\\n",
            "1.000000 & 6.000000 & 3.000000 & 9.000000 & -1.000000 \\\\\n",
            "-9.000000 & 51.000000 & -4.000000 & -2.000000 & 1.000000 \\\\\n",
            "\n",
            "Решение:\n",
            "A^+ C = \n",
            "1.375691 & 2.267956 & 1.095304 & 1.654696 & 1.659300 \\\\\n",
            "0.469613 & 6.876611 & 0.306630 & 1.526703 & 1.657459 \\\\\n",
            "-3.825967 & -16.558471 & -0.358425 & -2.433241 & -7.523020 \\\\\n",
            "\n",
            "\n",
            "РЕШЕНИЕ матричного уравнения:\n",
            "X =\n",
            "-0.012367 & 0.509146 & -0.066811 \\\\\n",
            "-0.159437 & 1.060062 & -0.261974 \\\\\n",
            "0.458353 & -2.695324 & 0.635039 \\\\\n"
          ]
        }
      ]
    },
    {
      "cell_type": "markdown",
      "source": [
        "ПЕРЕДЕЛАТЬ"
      ],
      "metadata": {
        "id": "pDVKbf6KpXbj"
      },
      "id": "pDVKbf6KpXbj"
    },
    {
      "cell_type": "code",
      "source": [
        "print(\"Для совместной системы:\")\n",
        "print(\"A X B - C = \")\n",
        "print_float_matrix((A.dot(x_o)).dot(B) - C)\n",
        "#print_matrix((A.dot(x_o)).dot(B) - C)\n",
        "print(\"\\n|A X B - B|=\")\n",
        "print(int(np.linalg.norm((A.dot(x_o)).dot(B) - C, ord='fro')))"
      ],
      "metadata": {
        "colab": {
          "base_uri": "https://localhost:8080/"
        },
        "id": "i6O45pd_0vZc",
        "outputId": "6fe955e2-64fb-4b54-8331-2116d570a504"
      },
      "id": "i6O45pd_0vZc",
      "execution_count": 35,
      "outputs": [
        {
          "output_type": "stream",
          "name": "stdout",
          "text": [
            "Для совместной системы:\n",
            "A X B - C = \n",
            "1.333537 & -16.490734 & -3.443351 & -5.677080 & -10.253914 \\\\\n",
            "1.641236 & 20.575411 & 9.964470 & -3.207061 & 5.853311 \\\\\n",
            "-7.349815 & -18.370381 & 0.560296 & 3.718658 & -12.958865 \\\\\n",
            "4.146469 & 15.551124 & -2.136129 & -3.237235 & 7.476395 \\\\\n",
            "9.697381 & -27.633792 & 7.359052 & 0.269391 & 7.297295 \\\\\n",
            "\n",
            "|A X B - B|=\n",
            "53\n"
          ]
        }
      ]
    },
    {
      "cell_type": "code",
      "source": [
        "print(\"Выборочная проверка:\")\n",
        "x0 = np.array([[0,1,0],[0,2,0],[1,0,1]])\n",
        "print(\"X_0 = \")\n",
        "#print_float_matrix(x0)\n",
        "print_matrix(x0)\n",
        "print(\"\\nA X B - C = \")\n",
        "#print_float_matrix((A.dot(x0)).dot(B) - C)\n",
        "print_matrix((A.dot(x0)).dot(B) - C)\n",
        "print(\"\\n|A X B - B|=\")\n",
        "print(int(np.linalg.norm((A.dot(x0)).dot(B) - C, ord='fro')))"
      ],
      "metadata": {
        "colab": {
          "base_uri": "https://localhost:8080/"
        },
        "id": "vpF8UKmV5ER8",
        "outputId": "b4777d55-73f8-4ba0-8e61-2f989543201e"
      },
      "id": "vpF8UKmV5ER8",
      "execution_count": 40,
      "outputs": [
        {
          "output_type": "stream",
          "name": "stdout",
          "text": [
            "Выборочная проверка:\n",
            "X_0 = \n",
            "0 & 1 & 0 \\\\\n",
            "0 & 2 & 0 \\\\\n",
            "1 & 0 & 1 \\\\\n",
            "\n",
            "A X B - C = \n",
            "27 & 16 & -18 & 44 & 1 \\\\\n",
            "-7 & 6 & 14 & -19 & 1 \\\\\n",
            "-47 & -62 & 23 & -72 & -27 \\\\\n",
            "30 & 47 & -20 & 52 & 21 \\\\\n",
            "38 & -3 & -12 & 59 & 17 \\\\\n",
            "\n",
            "|A X B - B|=\n",
            "168\n"
          ]
        }
      ]
    }
  ]
}