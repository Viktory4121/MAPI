{
  "nbformat": 4,
  "nbformat_minor": 5,
  "metadata": {
    "kernelspec": {
      "display_name": "Python 3",
      "language": "python",
      "name": "python3"
    },
    "language_info": {
      "codemirror_mode": {
        "name": "ipython",
        "version": 3
      },
      "file_extension": ".py",
      "mimetype": "text/x-python",
      "name": "python",
      "nbconvert_exporter": "python",
      "pygments_lexer": "ipython3",
      "version": "3.8.8"
    },
    "colab": {
      "provenance": [],
      "collapsed_sections": [],
      "include_colab_link": true
    }
  },
  "cells": [
    {
      "cell_type": "markdown",
      "metadata": {
        "id": "view-in-github",
        "colab_type": "text"
      },
      "source": [
        "<a href=\"https://colab.research.google.com/github/Viktory4121/MAPI/blob/main/solving_matrix_equations.ipynb\" target=\"_parent\"><img src=\"https://colab.research.google.com/assets/colab-badge.svg\" alt=\"Open In Colab\"/></a>"
      ]
    },
    {
      "cell_type": "markdown",
      "source": [
        "#Решение матричных уравнений (псевдообращение методом Фаддеева)"
      ],
      "metadata": {
        "id": "vnOX9NVhktez"
      },
      "id": "vnOX9NVhktez"
    },
    {
      "cell_type": "code",
      "source": [
        "import numpy as np\n",
        "import math\n",
        "#1 система\n",
        "#A = np.array([[1,2,7,-2,1],[6,0,4,-2,5],[-4,-8,3,2,1],[7,0,-4,3,2]])\n",
        "#B = np.array([[12,7,9,36],[98,3,5,2],[6,78,3,1],[1,3,10,41]])\n",
        "#C = np.array([[4,-9,83,0,],[56,7,-2,3],[7,-2,0,2],[11,45,29,-5]])\n",
        "#2 система\n",
        "#A = np.array([[-9,3,4,1],[3,0,1,-10]])\n",
        "#B = np.array([[10,-62,11,6],[0,24,-5,-7],[1,8,4,12]])\n",
        "#C = np.array([[-1,3,10,56],[4,0,-5,32]])\n",
        "#3 система\n",
        "#A = np.array([[8,-5,1,4,-9],[2,5,-1,4,2],[-1,-2,-6,9,5],[6,2,0,-7,2],[6,2,5,9,1],[-5,-1,4,8,-2]])\n",
        "#B = np.array([[-1,2,5],[5,2,7],[0,-7,-1],[6,5,4],[1,6,2],[1,2,3]])\n",
        "#C = np.array([[9,-2,57],[-4,6,2],[1,5,4],[3,4,3],[-2,7,-9],[0,3,5]])\n",
        "#4 система\n",
        "A = np.array([[4,1,2,-5,2,-1],[0,-4,-3,2,5,1],[-7,9,1,5,2,1]])\n",
        "B = np.array([[-1,4,-2],[-1,4,-2],[1,26,-1]])\n",
        "C = np.array([[1,6,2],[1,2,3],[-7,-4,-1]])"
      ],
      "metadata": {
        "id": "4xude-OfkI14"
      },
      "id": "4xude-OfkI14",
      "execution_count": 109,
      "outputs": []
    },
    {
      "cell_type": "code",
      "metadata": {
        "colab": {
          "base_uri": "https://localhost:8080/"
        },
        "id": "e243beba",
        "outputId": "65b8269c-87b3-4b90-d98d-f89677b409cd"
      },
      "source": [
        "def print_matrix(A):\n",
        "  for i in range(len(A)):\n",
        "    for j in range(len(A[0])):\n",
        "      if j < len(A[0]) - 1:\n",
        "        print(\"{} & \".format(str(round(A[i,j]))), end = \"\" )\n",
        "      else:\n",
        "        print(\"{} \\\\\\\\\".format(str(round(A[i,j]))), end = \"\")\n",
        "      #print(\"{}\\t\\t\".format(str(round(A[i,j]))), end = \"\" )\n",
        "    print()\n",
        "\n",
        "def print_float_matrix(A):\n",
        "  for i in range(len(A)):\n",
        "    for j in range(len(A[0])):\n",
        "      if j < len(A[0]) - 1:\n",
        "        print(\"{:6f} & \".format(A[i,j]), end = \"\" )\n",
        "      else:\n",
        "        print(\"{:6f} \\\\\\\\\".format(A[i,j]), end = \"\")\n",
        "      \n",
        "      #print(\"{:6f}\\t\\t\".format(A[i,j]), end = \"\" )\n",
        "    print()\n",
        "\n",
        "#--------------------------------\n",
        "print(\"A = \",)\n",
        "print_matrix(A)\n",
        "print(\"\\nB = \",)\n",
        "print_matrix(B)\n",
        "print(\"\\nC = \",)\n",
        "print_matrix(C)\n",
        "#--------------------------------\n",
        "def Faddeev(A):\n",
        "    m = len(A[0])\n",
        "    A_T = A.transpose()\n",
        "    A_T_A = A_T.dot(A) #перемножены транспонированная матрица и обычная\n",
        "    F = np.diag(np.diag(np.ones([m,m]))) #единичная матрица\n",
        "    mu = sum(np.diag(A_T_A)) #это фи1 (сумма значений матрицы A_T_A по диагонали)\n",
        "\n",
        "    n = len(F)\n",
        "    I = np.diag(np.diag(np.ones([n,n])))\n",
        "    i = 2\n",
        "    while mu != 0:\n",
        "        if sum(np.diag(A_T_A.dot(mu*I - A_T_A.dot(F))))/float(i) == 0:\n",
        "            _mu = mu\n",
        "            _F = F\n",
        "        F = mu*I - A_T_A.dot(F)\n",
        "        mu = sum(np.diag(A_T_A.dot(F)))/float(i)\n",
        "        \n",
        "        i+=1\n",
        "\n",
        "    print(\"Псевдообратная матрица:\")\n",
        "    A_psevv = _F.dot(A_T)\n",
        "    print_float_matrix(A_psevv / _mu)\n",
        "    return(A_psevv/_mu, _mu)"
      ],
      "id": "e243beba",
      "execution_count": 110,
      "outputs": [
        {
          "output_type": "stream",
          "name": "stdout",
          "text": [
            "A = \n",
            "4 & 1 & 2 & -5 & 2 & -1 \\\\\n",
            "0 & -4 & -3 & 2 & 5 & 1 \\\\\n",
            "-7 & 9 & 1 & 5 & 2 & 1 \\\\\n",
            "\n",
            "B = \n",
            "-1 & 4 & -2 \\\\\n",
            "-1 & 4 & -2 \\\\\n",
            "1 & 26 & -1 \\\\\n",
            "\n",
            "C = \n",
            "1 & 6 & 2 \\\\\n",
            "1 & 2 & 3 \\\\\n",
            "-7 & -4 & -1 \\\\\n"
          ]
        }
      ]
    },
    {
      "cell_type": "code",
      "source": [
        "def check_solvability(A, A_psev, B, B_psev, C):\n",
        "  n = len(A[0])\n",
        "  I = np.diag(np.diag(np.ones([n,n])))\n",
        "  print(\"Проверка на совместность: промежуточные вычисления...\")\n",
        "  print(\"A A^+ =\")\n",
        "  print_float_matrix(A.dot(A_psev))\n",
        "  print()\n",
        "  print(\"A A^+ C =\")\n",
        "  print_float_matrix((A.dot(A_psev)).dot(C))\n",
        "  print()\n",
        "  print(\"A A^+ C B^+ =\")\n",
        "  print_float_matrix(((A.dot(A_psev)).dot(C)).dot(B_psev))\n",
        "  print()\n",
        "  print(\"A A^+ C B^+ B = \")\n",
        "  print_float_matrix((((A.dot(A_psev)).dot(C)).dot(B_psev)).dot(B))\n",
        "  print()\n",
        "  print(\"C =\")\n",
        "  print_float_matrix(C)\n",
        "  #private = I - A_psev.dot(A)\n",
        "  #return private\n",
        "\n",
        "def matrix_eq(A, B, C):\n",
        "  A_psev, muuA = Faddeev(A)\n",
        "  print()\n",
        "  B_psev, muuB = Faddeev(B)\n",
        "  print()\n",
        "\n",
        "  check_solvability(A, A_psev, B, B_psev, C)\n",
        "  print(\"\\nРешение:\")\n",
        "  print(\"A^+ C = \")\n",
        "  print_float_matrix(A_psev.dot(C))\n",
        "\n",
        "  X = (A_psev.dot(C)).dot(B_psev) #общее решение\n",
        "\n",
        "  print(\"\\n\\nРЕШЕНИЕ матричного уравнения:\\nX =\")\n",
        "  print_float_matrix(X)\n",
        "  return X\n",
        "\n",
        "x_o = matrix_eq(A, B, C)"
      ],
      "metadata": {
        "colab": {
          "base_uri": "https://localhost:8080/"
        },
        "id": "J1YN_8uN4Vfo",
        "outputId": "f4952465-5fde-4efc-82dd-0a84f02c6c91"
      },
      "id": "J1YN_8uN4Vfo",
      "execution_count": 111,
      "outputs": [
        {
          "output_type": "stream",
          "name": "stdout",
          "text": [
            "Псевдообратная матрица:\n",
            "0.055997 & 0.001463 & -0.029750 \\\\\n",
            "0.062325 & -0.038433 & 0.066701 \\\\\n",
            "0.037870 & -0.043529 & 0.010518 \\\\\n",
            "-0.082129 & 0.024486 & 0.013899 \\\\\n",
            "0.107782 & 0.129826 & 0.053046 \\\\\n",
            "-0.011738 & 0.017580 & 0.005333 \\\\\n",
            "\n",
            "Псевдообратная матрица:\n",
            "-0.121849 & -0.121849 & 0.039216 \\\\\n",
            "-0.002801 & -0.002801 & 0.039216 \\\\\n",
            "-0.194678 & -0.194678 & 0.058824 \\\\\n",
            "\n",
            "Проверка на совместность: промежуточные вычисления...\n",
            "A A^+ =\n",
            "1.000000 & 0.000000 & 0.000000 \\\\\n",
            "0.000000 & 1.000000 & 0.000000 \\\\\n",
            "-0.000000 & -0.000000 & 1.000000 \\\\\n",
            "\n",
            "A A^+ C =\n",
            "1.000000 & 6.000000 & 2.000000 \\\\\n",
            "1.000000 & 2.000000 & 3.000000 \\\\\n",
            "-7.000000 & -4.000000 & -1.000000 \\\\\n",
            "\n",
            "A A^+ C B^+ =\n",
            "-0.528011 & -0.528011 & 0.392157 \\\\\n",
            "-0.711485 & -0.711485 & 0.294118 \\\\\n",
            "1.058824 & 1.058824 & -0.490196 \\\\\n",
            "\n",
            "A A^+ C B^+ B = \n",
            "1.448179 & 5.971989 & 1.719888 \\\\\n",
            "1.717087 & 1.955182 & 2.551821 \\\\\n",
            "-2.607843 & -4.274510 & -3.745098 \\\\\n",
            "\n",
            "C =\n",
            "1.000000 & 6.000000 & 2.000000 \\\\\n",
            "1.000000 & 2.000000 & 3.000000 \\\\\n",
            "-7.000000 & -4.000000 & -1.000000 \\\\\n",
            "\n",
            "Решение:\n",
            "A^+ C = \n",
            "0.265712 & 0.457907 & 0.146132 \\\\\n",
            "-0.443016 & 0.030281 & -0.057349 \\\\\n",
            "-0.079286 & 0.098091 & -0.065365 \\\\\n",
            "-0.154935 & -0.499398 & -0.104698 \\\\\n",
            "-0.133712 & 0.694159 & 0.551995 \\\\\n",
            "-0.031491 & -0.056600 & 0.023930 \\\\\n",
            "\n",
            "\n",
            "РЕШЕНИЕ матричного уравнения:\n",
            "X =\n",
            "-0.062108 & -0.062108 & 0.036973 \\\\\n",
            "0.065061 & 0.065061 & -0.019559 \\\\\n",
            "0.022111 & 0.022111 & -0.003108 \\\\\n",
            "0.040660 & 0.040660 & -0.031819 \\\\\n",
            "-0.093113 & -0.093113 & 0.054449 \\\\\n",
            "-0.000663 & -0.000663 & -0.002047 \\\\\n"
          ]
        }
      ]
    },
    {
      "cell_type": "markdown",
      "source": [
        "ПЕРЕДЕЛАТЬ"
      ],
      "metadata": {
        "id": "pDVKbf6KpXbj"
      },
      "id": "pDVKbf6KpXbj"
    },
    {
      "cell_type": "code",
      "source": [
        "#Проверки:\n",
        "def norm(A): #норма вектора\n",
        "  return ((A.T).dot(A))\n",
        "\n",
        "#np.linalg.norm(A, ord='fro')\n",
        "print(\"Для совместной системы:\")\n",
        "print(\"A X B - C = \")\n",
        "print_float_matrix((A.dot(x_o)).dot(B) - C)\n",
        "print(\"\\n|A X B - B|=\")\n",
        "print(int(np.linalg.norm((A.dot(x_o)).dot(B) - C, ord='fro')))"
      ],
      "metadata": {
        "colab": {
          "base_uri": "https://localhost:8080/"
        },
        "id": "i6O45pd_0vZc",
        "outputId": "8dc7c64a-ef70-489e-fafc-5946eecbdabd"
      },
      "id": "i6O45pd_0vZc",
      "execution_count": 113,
      "outputs": [
        {
          "output_type": "stream",
          "name": "stdout",
          "text": [
            "Для совместной системы:\n",
            "A X B - C = \n",
            "0.448179 & -0.028011 & -0.280112 \\\\\n",
            "0.717087 & -0.044818 & -0.448179 \\\\\n",
            "4.392157 & -0.274510 & -2.745098 \\\\\n",
            "\n",
            "|A X B - B|=\n",
            "5\n"
          ]
        }
      ]
    },
    {
      "cell_type": "code",
      "source": [
        "print(\"Выборочная проверка:\")\n",
        "x0 = np.array([[1,1,1],[1,1,1],[1,1,1],[1,1,1],[1,1,1],[1,1,1]])\n",
        "print(\"X_0 = \")\n",
        "#print_float_matrix(x0)\n",
        "print_matrix(x0)\n",
        "print(\"\\nA X B - C = \")\n",
        "#print_float_matrix((A.dot(x0)).dot(B) - C)\n",
        "print_matrix((A.dot(x0)).dot(B) - C)\n",
        "print(\"\\n|A X B - B|=\")\n",
        "print(int(np.linalg.norm((A.dot(x0)).dot(B) - C, ord='fro')))"
      ],
      "metadata": {
        "colab": {
          "base_uri": "https://localhost:8080/"
        },
        "id": "vpF8UKmV5ER8",
        "outputId": "9943f48e-116c-41be-965e-ca2589d3c952"
      },
      "id": "vpF8UKmV5ER8",
      "execution_count": 117,
      "outputs": [
        {
          "output_type": "stream",
          "name": "stdout",
          "text": [
            "Выборочная проверка:\n",
            "X_0 = \n",
            "1 & 1 & 1 \\\\\n",
            "1 & 1 & 1 \\\\\n",
            "1 & 1 & 1 \\\\\n",
            "1 & 1 & 1 \\\\\n",
            "1 & 1 & 1 \\\\\n",
            "1 & 1 & 1 \\\\\n",
            "\n",
            "A X B - C = \n",
            "-4 & 96 & -17 \\\\\n",
            "-2 & 32 & -8 \\\\\n",
            "-4 & 378 & -54 \\\\\n",
            "\n",
            "|A X B - B|=\n",
            "395\n"
          ]
        }
      ]
    }
  ]
}