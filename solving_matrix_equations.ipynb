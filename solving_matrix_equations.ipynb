{
  "nbformat": 4,
  "nbformat_minor": 5,
  "metadata": {
    "kernelspec": {
      "display_name": "Python 3",
      "language": "python",
      "name": "python3"
    },
    "language_info": {
      "codemirror_mode": {
        "name": "ipython",
        "version": 3
      },
      "file_extension": ".py",
      "mimetype": "text/x-python",
      "name": "python",
      "nbconvert_exporter": "python",
      "pygments_lexer": "ipython3",
      "version": "3.8.8"
    },
    "colab": {
      "provenance": [],
      "collapsed_sections": [],
      "include_colab_link": true
    }
  },
  "cells": [
    {
      "cell_type": "markdown",
      "metadata": {
        "id": "view-in-github",
        "colab_type": "text"
      },
      "source": [
        "<a href=\"https://colab.research.google.com/github/Viktory4121/MAPI/blob/main/solving_matrix_equations.ipynb\" target=\"_parent\"><img src=\"https://colab.research.google.com/assets/colab-badge.svg\" alt=\"Open In Colab\"/></a>"
      ]
    },
    {
      "cell_type": "markdown",
      "source": [
        "#Решение матричных уравнений (псевдообращение методом Фаддеева)"
      ],
      "metadata": {
        "id": "vnOX9NVhktez"
      },
      "id": "vnOX9NVhktez"
    },
    {
      "cell_type": "code",
      "source": [
        "import numpy as np\n",
        "import math\n",
        "A = np.array([[1,2,7,-2,1],[6,0,4,-2,5],[-4,-8,3,2,1],[7,0,-4,3,2]])\n",
        "B = np.array([[12,7,9,36],[98,3,5,2],[6,78,3,1],[1,3,10,41]])\n",
        "C = np.array([[4,-9,83,0,],[56,7,-2,3],[7,-2,0,2],[11,45,29,-5]])\n",
        "#A = np.array([[12,7,9,36],[98,3,5,2],[6,78,3,1],[1,3,10,41]])\n",
        "#B = np.array([[2],[-7],[4],[1]])\n",
        "#A = np.array([[-1,4,-2],[-1,4,-2],[1,26,-1]])\n",
        "#B = np.array([[45],[-91],[15]])\n",
        "#A = np.array([[-9,3,4,1],[3,0,1,-10]])\n",
        "#B = np.array([[3],[100]])\n",
        "#A = np.array([[8,-5,1,4,-9],[2,5,-1,4,2],[-1,-2,-6,9,5],[6,2,0,-7,2],[6,2,5,9,1],[-5,-1,4,8,-2]])\n",
        "#B = np.array([[-5],[11],[47],[-9],[11],[75]])\n",
        "#A = np.array([[10,-62,11,6],[0,24,-5,-7],[1,8,4,12]])\n",
        "#B = np.array([[8],[1],[2]])\n",
        "#A = np.array([[-1,2,5],[5,2,7],[0,-7,-1],[6,5,4],[1,6,2],[1,2,3],[-7,-4,-1]])\n",
        "#B = np.array([[3],[7],[-621],[154],[26],[35],[-4]])"
      ],
      "metadata": {
        "id": "4xude-OfkI14"
      },
      "id": "4xude-OfkI14",
      "execution_count": 9,
      "outputs": []
    },
    {
      "cell_type": "code",
      "metadata": {
        "colab": {
          "base_uri": "https://localhost:8080/"
        },
        "id": "e243beba",
        "outputId": "06b3650f-0c34-4a50-f4eb-4a3a3cd4a072"
      },
      "source": [
        "def print_matrix(A):\n",
        "  for row in A:\n",
        "    for i in row:\n",
        "      #print(\"{} & \".format(str(round(i))), end = \"\" )\n",
        "      print(\"{}\\t\\t\".format(str(round(i))), end = \"\" )\n",
        "    print()\n",
        "\n",
        "def print_float_matrix(A):\n",
        "  for row in A:\n",
        "    for i in row:\n",
        "      #print(\"{:6f} & \".format(i), end = \"\" )\n",
        "      print(\"{:6f}\\t\\t\".format(i), end = \"\" )\n",
        "    print()\n",
        "\n",
        "#--------------------------------\n",
        "def Faddeev(A):\n",
        "    m = len(A[0])\n",
        "    A_T = A.transpose()\n",
        "    A_T_A = A_T.dot(A) #перемножены транспонированная матрица и обычная\n",
        "    F = np.diag(np.diag(np.ones([m,m]))) #единичная матрица\n",
        "    mu = sum(np.diag(A_T_A)) #это фи1 (сумма значений матрицы A_T_A по диагонали)\n",
        "\n",
        "    n = len(F)\n",
        "    I = np.diag(np.diag(np.ones([n,n])))\n",
        "    i = 2\n",
        "    while mu != 0:\n",
        "        if sum(np.diag(A_T_A.dot(mu*I - A_T_A.dot(F))))/float(i) == 0:\n",
        "            _mu = mu\n",
        "            _F = F\n",
        "        F = mu*I - A_T_A.dot(F)\n",
        "        mu = sum(np.diag(A_T_A.dot(F)))/float(i)\n",
        "        \n",
        "        i+=1\n",
        "\n",
        "    print(\"Псевдообратная матрица:\\n1/\", _mu)\n",
        "    A_psevv = _F.dot(A_T)\n",
        "    print_matrix(A_psevv)\n",
        "\n",
        "    print(\"\\nили:\")\n",
        "    print_float_matrix(A_psevv/_mu)\n",
        "    return(A_psevv/_mu, _mu)\n",
        "\n",
        "A_psev, muuA = Faddeev(A)\n",
        "print()\n",
        "B_psev, muuB = Faddeev(B)"
      ],
      "id": "e243beba",
      "execution_count": 10,
      "outputs": [
        {
          "output_type": "stream",
          "name": "stdout",
          "text": [
            "Псевдообратная матрица:\n",
            "1/ 3925537.0\n",
            "237865\t\t7108\t\t-18829\t\t418072\t\t\n",
            "301884\t\t-222288\t\t-338976\t\t43186\t\t\n",
            "757042\t\t-263923\t\t184965\t\t218724\t\t\n",
            "827699\t\t-810758\t\t295373\t\t849279\t\t\n",
            "-559992\t\t663413\t\t-7228\t\t-336954\t\t\n",
            "\n",
            "или:\n",
            "0.060594\t\t0.001811\t\t-0.004797\t\t0.106501\t\t\n",
            "0.076903\t\t-0.056626\t\t-0.086351\t\t0.011001\t\t\n",
            "0.192851\t\t-0.067232\t\t0.047118\t\t0.055718\t\t\n",
            "0.210850\t\t-0.206534\t\t0.075244\t\t0.216347\t\t\n",
            "-0.142654\t\t0.168999\t\t-0.001841\t\t-0.085836\t\t\n",
            "\n",
            "Псевдообратная матрица:\n",
            "1/ 17346470436.0\n",
            "1856264364\t\t-27394848\t\t-102994092\t\t-1626042276\t\t\n",
            "1312186878\t\t-158442318\t\t154886256\t\t-1148212908\t\t\n",
            "-41125857030\t\t4539247290\t\t2137851792\t\t35836939188\t\t\n",
            "9889408422\t\t-1094871978\t\t-530248356\t\t-8193957084\t\t\n",
            "\n",
            "или:\n",
            "0.107011\t\t-0.001579\t\t-0.005937\t\t-0.093739\t\t\n",
            "0.075646\t\t-0.009134\t\t0.008929\t\t-0.066193\t\t\n",
            "-2.370849\t\t0.261681\t\t0.123244\t\t2.065950\t\t\n",
            "0.570111\t\t-0.063118\t\t-0.030568\t\t-0.472370\t\t\n"
          ]
        }
      ]
    },
    {
      "cell_type": "code",
      "source": [
        "def check_solvability(A, A_psev, B, B_psev, C):\n",
        "  n = len(A[0])\n",
        "  I = np.diag(np.diag(np.ones([n,n])))\n",
        "  print(\"Проверка на совместность: промежуточные вычисления...\")\n",
        "  print(\"A A^+ =\")\n",
        "  print_float_matrix(A.dot(A_psev))\n",
        "  print()\n",
        "  print(\"A A^+ C B^+ B = \")\n",
        "  print_float_matrix((((A.dot(A_psev)).dot(C)).dot(B_psev)).dot(B))\n",
        "  print()\n",
        "  print(\"C =\")\n",
        "  print_float_matrix(C)\n",
        "\n",
        "  #private = I - A_psev.dot(A)\n",
        "  #return private\n",
        "\n",
        "def matrix_eq(A, A_psev, B, B_psev, C):\n",
        "  #prive = check_solvability(A, A_psev, B, B_psev, C)\n",
        "  check_solvability(A, A_psev, B, B_psev, C)\n",
        "  X = (A_psev.dot(C)).dot(B_psev) #общее решение\n",
        "\n",
        "  print(\"\\n\\nРЕШЕНИЕ матричного уравнения:\\nX_общее =\")\n",
        "  print_float_matrix(X)\n",
        "  print()\n",
        "  #print(\"X_частное = \")\n",
        "  #print_float_matrix(prive)\n",
        "\n",
        "  return (X) #общее и частное\n",
        "\n",
        "x_o = matrix_eq(A, A_psev, B, B_psev, C)"
      ],
      "metadata": {
        "colab": {
          "base_uri": "https://localhost:8080/"
        },
        "id": "J1YN_8uN4Vfo",
        "outputId": "6fbe267c-1a67-42cd-fd82-5c4014792119"
      },
      "id": "J1YN_8uN4Vfo",
      "execution_count": 17,
      "outputs": [
        {
          "output_type": "stream",
          "name": "stdout",
          "text": [
            "Проверка на совместность: промежуточные вычисления...\n",
            "A A^+ =\n",
            "1.000000\t\t0.000000\t\t0.000000\t\t0.000000\t\t\n",
            "0.000000\t\t1.000000\t\t0.000000\t\t0.000000\t\t\n",
            "0.000000\t\t-0.000000\t\t1.000000\t\t-0.000000\t\t\n",
            "0.000000\t\t-0.000000\t\t0.000000\t\t1.000000\t\t\n",
            "\n",
            "A A^+ C B^+ B = \n",
            "4.000000\t\t-9.000000\t\t83.000000\t\t0.000000\t\t\n",
            "56.000000\t\t7.000000\t\t-2.000000\t\t3.000000\t\t\n",
            "7.000000\t\t-2.000000\t\t0.000000\t\t2.000000\t\t\n",
            "11.000000\t\t45.000000\t\t29.000000\t\t-5.000000\t\t\n",
            "\n",
            "C =\n",
            "4.000000\t\t-9.000000\t\t83.000000\t\t0.000000\t\t\n",
            "56.000000\t\t7.000000\t\t-2.000000\t\t3.000000\t\t\n",
            "7.000000\t\t-2.000000\t\t0.000000\t\t2.000000\t\t\n",
            "11.000000\t\t45.000000\t\t29.000000\t\t-5.000000\t\t\n",
            "\n",
            "\n",
            "РЕШЕНИЕ матричного уравнения:\n",
            "X_общее =\n",
            "-19.062019\t\t2.115876\t\t1.045759\t\t16.595573\t\t\n",
            "-16.774474\t\t1.817636\t\t0.868203\t\t14.609268\t\t\n",
            "-42.522814\t\t4.672363\t\t2.214258\t\t37.045763\t\t\n",
            "-58.593717\t\t6.382681\t\t3.130537\t\t51.022612\t\t\n",
            "36.050021\t\t-3.896887\t\t-1.895740\t\t-31.394604\t\t\n",
            "\n"
          ]
        }
      ]
    },
    {
      "cell_type": "markdown",
      "source": [
        "ПЕРЕДЕЛАТЬ"
      ],
      "metadata": {
        "id": "pDVKbf6KpXbj"
      },
      "id": "pDVKbf6KpXbj"
    },
    {
      "cell_type": "code",
      "source": [
        "#Проверки:\n",
        "def norm(A): #норма вектора\n",
        "  return ((A.T).dot(A))\n",
        "\n",
        "#np.linalg.norm()\n",
        "print(\"Для совместной системы:\")\n",
        "print(\"A*x - b = \")\n",
        "print_float_matrix(A.dot(x_o) - B)\n",
        "print(\"\\n|Ax - b|=\")\n",
        "print(math.sqrt(int(norm(A.dot(x_o) - B))))"
      ],
      "metadata": {
        "colab": {
          "base_uri": "https://localhost:8080/"
        },
        "id": "i6O45pd_0vZc",
        "outputId": "16ec178d-b8ae-48d1-8667-3bd4f09a8d79"
      },
      "id": "i6O45pd_0vZc",
      "execution_count": null,
      "outputs": [
        {
          "output_type": "stream",
          "name": "stdout",
          "text": [
            "Для совместной системы:\n",
            "A*x - b = \n",
            "67.949476\t\t\n",
            "-84.095155\t\t\n",
            "237.315858\t\t\n",
            "-44.120512\t\t\n",
            "268.038324\t\t\n",
            "20.068487\t\t\n",
            "-66.434502\t\t\n",
            "\n",
            "|Ax - b|=\n",
            "382.9033820691585\n"
          ]
        }
      ]
    },
    {
      "cell_type": "code",
      "source": [
        "print(\"Для несовместной системы:\")\n",
        "print(\"A*x - b = \")\n",
        "print_float_matrix(A.dot(x_o) - B)\n",
        "print(\"|Ax - b|=\")\n",
        "print(math.sqrt(int(norm(A.dot(x_o) - B))))\n",
        "\n",
        "print(\"\\nВыборочная проверка:\")\n",
        "x0 = np.array([[21],[-57],[13]])\n",
        "print(\"A*x_ - b = \")\n",
        "print_float_matrix(A.dot(x0) - B)\n",
        "print(\"|Ax_ - b|=\")\n",
        "print(math.sqrt(int(norm(A.dot(x0) - B))))"
      ],
      "metadata": {
        "colab": {
          "base_uri": "https://localhost:8080/"
        },
        "id": "vpF8UKmV5ER8",
        "outputId": "17797b1a-fe60-40ba-9012-88d9e199209a"
      },
      "id": "vpF8UKmV5ER8",
      "execution_count": null,
      "outputs": [
        {
          "output_type": "stream",
          "name": "stdout",
          "text": [
            "Для несовместной системы:\n",
            "A*x - b = \n",
            "67.949476\t\t\n",
            "-84.095155\t\t\n",
            "237.315858\t\t\n",
            "-44.120512\t\t\n",
            "268.038324\t\t\n",
            "20.068487\t\t\n",
            "-66.434502\t\t\n",
            "|Ax - b|=\n",
            "382.9033820691585\n",
            "\n",
            "Выборочная проверка:\n",
            "A*x_ - b = \n",
            "-73.000000\t\t\n",
            "75.000000\t\t\n",
            "1007.000000\t\t\n",
            "-261.000000\t\t\n",
            "-321.000000\t\t\n",
            "-89.000000\t\t\n",
            "72.000000\t\t\n",
            "|Ax_ - b|=\n",
            "1099.6681317561222\n"
          ]
        }
      ]
    }
  ]
}