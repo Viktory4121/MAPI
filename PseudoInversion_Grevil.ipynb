{
  "nbformat": 4,
  "nbformat_minor": 5,
  "metadata": {
    "kernelspec": {
      "display_name": "Python 3",
      "language": "python",
      "name": "python3"
    },
    "language_info": {
      "codemirror_mode": {
        "name": "ipython",
        "version": 3
      },
      "file_extension": ".py",
      "mimetype": "text/x-python",
      "name": "python",
      "nbconvert_exporter": "python",
      "pygments_lexer": "ipython3",
      "version": "3.8.8"
    },
    "colab": {
      "provenance": [],
      "collapsed_sections": [],
      "include_colab_link": true
    }
  },
  "cells": [
    {
      "cell_type": "markdown",
      "metadata": {
        "id": "view-in-github",
        "colab_type": "text"
      },
      "source": [
        "<a href=\"https://colab.research.google.com/github/Viktory4121/MAPI/blob/main/PseudoInversion_Grevil.ipynb\" target=\"_parent\"><img src=\"https://colab.research.google.com/assets/colab-badge.svg\" alt=\"Open In Colab\"/></a>"
      ]
    },
    {
      "cell_type": "markdown",
      "metadata": {
        "id": "zM5ZbtNcw9aC"
      },
      "source": [
        "# Алгоритм Гревиля\n"
      ],
      "id": "zM5ZbtNcw9aC"
    },
    {
      "cell_type": "code",
      "source": [
        "import numpy as np\n",
        "import math\n",
        "\n",
        "#A = np.array([[7,0,4,9,6,0],[3,0,4,1,1,2],[0,1,1,2,6,7],[1,4,7,4,9,5]])\n",
        "A = np.array([[-1,4,-2],[-1,4,-2],[1,26,-1]])\n",
        "\n",
        "\n",
        "def print_matrix(A):\n",
        "  for row in A:\n",
        "    for i in row:\n",
        "      if(i != row[-1]):\n",
        "        #print(\"{:.6f} & \".format(i), end = \"\" )\n",
        "        print(\"{} & \".format(str(i)), end = \"\" )\n",
        "      else:\n",
        "        print(\"{}\\\\\\\\\".format(str(i)), end = \"\" )\n",
        "    print()\n",
        "\n",
        "#-------------------\n",
        "print(\"A = \")\n",
        "print_matrix(A)\n",
        "print(\"\\nШаг 1:\")\n",
        "T1 = A[:,0:1].transpose()\n",
        "if(A[:,0:1].any()):\n",
        "  t1 = norm(A[:,0:1])\n",
        "else:\n",
        "  t1 = 0\n",
        "print(\"T = \")\n",
        "print_matrix(T1)\n",
        "print(\"t =\")\n",
        "print(t1)\n",
        "#------------------------\n",
        "\n",
        "def norm(A): #норма вектора\n",
        "  return ((A.T).dot(A))\n",
        "\n",
        "#ti - число\n",
        "#Ti - A_i^+\n",
        "#Fi - вектор\n",
        "def Greville(A, T1, t1):\n",
        "  i = 1\n",
        "  n = len(A[0])\n",
        "  I = np.diag(np.diag(np.ones([n,n])))\n",
        "\n",
        "  t = t1.copy()\n",
        "  T = T1.copy()\n",
        "  F = np.zeros((n,n))\n",
        "\n",
        "  while(i < n):\n",
        "    #ci = (t[i-1]*I - A[i-1]*T[i-1])a[i] - раскрыть скобки:\n",
        "    c = t1*A[:,i:i+1] - (A[:,0:i].dot(T1)).dot(A[:,i:i+1])\n",
        "    #d = 1 + norm(T1.dot(A[:,i:i+1]))\n",
        "\n",
        "    if (c.any()): #если вектор не нулевой\n",
        "      F = c.T\n",
        "      #ti = t[i-1]*norm(a2) - a[i]^T * A[i-1] * T[i-1] * a[i]\n",
        "      t = t1*norm(A[:,i:i+1]) - (((A[:,i:i+1].T).dot(A[:,0:i])).dot(T1)).dot(A[:,i:i+1])\n",
        "    else: #если нулевой\n",
        "      F = ((A[:,i:i+1].T).dot(T1.T)).dot(T1)\n",
        "      t = t1**2 + norm(T1.dot(A[:,i:i+1]))\n",
        "    \n",
        "    f = 1/t1 * (T1*t - (T1.dot(A[:,i:i+1])).dot(F))\n",
        "    T = np.vstack((f, F))\n",
        "\n",
        "    print(\"\\nШаг \", i+1, \":\")\n",
        "    print(\"F:\")\n",
        "    print_matrix(F)\n",
        "    print(\"t =\", t)\n",
        "    print(\"T:\")\n",
        "    print_matrix(T)\n",
        "    T1 = T\n",
        "    t1 = t\n",
        "    i += 1\n",
        "\n",
        "  print(\"\\n\\nРЕЗУЛЬТАТ:\\nA^+ = \")\n",
        "  print_matrix(T/t)\n",
        "  print(\"\\nили А^+ = 1/\", t)\n",
        "  print_matrix(T)\n",
        "  return (T, t)\n",
        "\n",
        "T, t = Greville(A, T1, t1)"
      ],
      "metadata": {
        "id": "qLEbAuXqDHU-",
        "colab": {
          "base_uri": "https://localhost:8080/"
        },
        "outputId": "8439f054-8e6c-4a84-d561-e699cb73266b"
      },
      "id": "qLEbAuXqDHU-",
      "execution_count": 35,
      "outputs": [
        {
          "output_type": "stream",
          "name": "stdout",
          "text": [
            "A = \n",
            "-1 & 4 & -2\\\\\n",
            "-1 & 4 & -2\\\\\n",
            "1 & 26 & -1\\\\\n",
            "\n",
            "Шаг 1:\n",
            "T = \n",
            "-1 & -1 & 1\\\\\n",
            "t =\n",
            "[[3]]\n",
            "\n",
            "Шаг  2 :\n",
            "F:\n",
            "30 & 30 & 60\\\\\n",
            "t = [[1800]]\n",
            "T:\n",
            "-780.0 & -780.0 & 240.0\\\\\n",
            "30.0 & 30.0 & 60.0\\\\\n",
            "\n",
            "Шаг  3 :\n",
            "F:\n",
            "-2251800.0 & -2251800.0 & 680400.0\\\\\n",
            "t = [[11566800.]]\n",
            "T:\n",
            "-1409400.0 & -1409400.0 & 453600.0\\\\\n",
            "-32400.0 & -32400.0 & 453600.0\\\\\n",
            "-2251800.0 & -2251800.0 & 680400.0\\\\\n",
            "\n",
            "\n",
            "РЕЗУЛЬТАТ:\n",
            "A^+ = \n",
            "-0.12184873949579832 & -0.12184873949579832 & 0.0392156862745098\\\\\n",
            "-0.0028011204481792717 & -0.0028011204481792717 & 0.0392156862745098\\\\\n",
            "-0.19467787114845939 & -0.19467787114845939 & 0.058823529411764705\\\\\n",
            "\n",
            "или А^+ = 1/ [[11566800.]]\n",
            "-1409400.0 & -1409400.0 & 453600.0\\\\\n",
            "-32400.0 & -32400.0 & 453600.0\\\\\n",
            "-2251800.0 & -2251800.0 & 680400.0\\\\\n"
          ]
        }
      ]
    },
    {
      "cell_type": "code",
      "source": [
        "def GCD_matrix(t, T):\n",
        "  buf = 0\n",
        "  search = math.gcd(t, T[0,0])\n",
        "  m = T.shape[0]\n",
        "  n = T.shape[1]\n",
        "  i = 0\n",
        "  j = 0\n",
        "\n",
        "  while(i < m):\n",
        "    while(j < n):\n",
        "      if(math.gcd(search, T[i,j]) == search): #если текущий нод совпал с предыдущим, то\n",
        "        print(math.gcd(t, T[i,j]))\n",
        "        buf = 1\n",
        "        i += 1\n",
        "        j += 1\n",
        "      else: #если не совпал:\n",
        "        buf = 0\n",
        "        search = math.gcd(t, T[i,j]) #поиск нового нод\n",
        "        i = 0\n",
        "        j = 0\n",
        "        break\n",
        "  \n",
        "  if(buf):\n",
        "    T = (1/search) * T\n",
        "    t /= search\n",
        "  return (T, t)\n",
        "\n",
        "a = np.matrix([[9,3,1],[9,3,1],[9,12,3]])\n",
        "\n",
        "aa = 18\n",
        "new_a, new_aa = GCD_matrix(aa, a)"
      ],
      "metadata": {
        "id": "8NUmhsV-35Sh",
        "outputId": "3373852a-4a60-48c4-f001-c28c9f54fc59",
        "colab": {
          "base_uri": "https://localhost:8080/"
        }
      },
      "id": "8NUmhsV-35Sh",
      "execution_count": 32,
      "outputs": [
        {
          "output_type": "stream",
          "name": "stdout",
          "text": [
            "9\n",
            "9\n",
            "3\n",
            "3\n"
          ]
        }
      ]
    },
    {
      "cell_type": "code",
      "source": [
        "new_a"
      ],
      "metadata": {
        "id": "UXYbsE_h3iTV",
        "outputId": "e40ed5c8-ee55-4a83-bc4b-22f2408cac34",
        "colab": {
          "base_uri": "https://localhost:8080/"
        }
      },
      "id": "UXYbsE_h3iTV",
      "execution_count": 31,
      "outputs": [
        {
          "output_type": "execute_result",
          "data": {
            "text/plain": [
              "matrix([[3.        , 1.        , 1.        ],\n",
              "        [3.        , 1.        , 0.33333333],\n",
              "        [3.        , 4.        , 1.        ]])"
            ]
          },
          "metadata": {},
          "execution_count": 31
        }
      ]
    }
  ]
}