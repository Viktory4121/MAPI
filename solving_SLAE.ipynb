{
  "nbformat": 4,
  "nbformat_minor": 5,
  "metadata": {
    "kernelspec": {
      "display_name": "Python 3",
      "language": "python",
      "name": "python3"
    },
    "language_info": {
      "codemirror_mode": {
        "name": "ipython",
        "version": 3
      },
      "file_extension": ".py",
      "mimetype": "text/x-python",
      "name": "python",
      "nbconvert_exporter": "python",
      "pygments_lexer": "ipython3",
      "version": "3.8.8"
    },
    "colab": {
      "provenance": [],
      "collapsed_sections": [],
      "include_colab_link": true
    }
  },
  "cells": [
    {
      "cell_type": "markdown",
      "metadata": {
        "id": "view-in-github",
        "colab_type": "text"
      },
      "source": [
        "<a href=\"https://colab.research.google.com/github/Viktory4121/MAPI/blob/main/solving_SLAE.ipynb\" target=\"_parent\"><img src=\"https://colab.research.google.com/assets/colab-badge.svg\" alt=\"Open In Colab\"/></a>"
      ]
    },
    {
      "cell_type": "markdown",
      "source": [
        "#Решение СЛАУ (псевдообращение методом Фаддеева)"
      ],
      "metadata": {
        "id": "vnOX9NVhktez"
      },
      "id": "vnOX9NVhktez"
    },
    {
      "cell_type": "code",
      "metadata": {
        "colab": {
          "base_uri": "https://localhost:8080/"
        },
        "id": "e243beba",
        "outputId": "78220ed9-56c2-4ff6-9b9f-1b74794770cf"
      },
      "source": [
        "import numpy as np\n",
        "import math\n",
        "#A = np.array([[1,2,7,-2,1],[6,0,4,-2,5],[-4,-8,3,2,1],[7,0,-4,3,2]])\n",
        "\n",
        "#A = np.array([[12,7,9,36],[98,3,5,2],[6,78,3,1],[1,3,10,41]])\n",
        "#B = np.array([[2],[-7],[4],[1]])\n",
        "#A = np.array([[-1,4,-2],[-1,4,-2],[1,26,-1]])\n",
        "#B = np.array([[45],[-91],[15]])\n",
        "#A = np.array([[-9,3,4,1],[3,0,1,-10]])\n",
        "#B = np.array([[3],[100]])\n",
        "#A = np.array([[8,-5,1,4,-9],[2,5,-1,4,2],[-1,-2,-6,9,5],[6,2,0,-7,2],[6,2,5,9,1],[-5,-1,4,8,-2]])\n",
        "#B = np.array([[-5],[11],[47],[-9],[11],[75]])\n",
        "#A = np.array([[10,-62,11,6],[0,24,-5,-7],[1,8,4,12]])\n",
        "#B = np.array([[8],[1],[2]])\n",
        "A = np.array([[-1,2,5],[5,2,7],[0,-7,-1],[6,5,4],[1,6,2],[1,2,3],[-7,-4,-1]])\n",
        "B = np.array([[3],[7],[-621],[154],[26],[35],[-4]])\n",
        "\n",
        "def print_matrix(A):\n",
        "  for row in A:\n",
        "    for i in row:\n",
        "      #print(\"{} & \".format(str(round(i))), end = \"\" )\n",
        "      print(\"{}\\t\\t\".format(str(round(i))), end = \"\" )\n",
        "    print()\n",
        "\n",
        "def print_float_matrix(A):\n",
        "  for row in A:\n",
        "    for i in row:\n",
        "      #print(\"{:6f} & \".format(i), end = \"\" )\n",
        "      print(\"{:6f}\\t\\t\".format(i), end = \"\" )\n",
        "    print()\n",
        "\n",
        "#--------------------------------\n",
        "n = len(A[0])\n",
        "A_T = A.transpose()\n",
        "A_T_A = A_T.dot(A) #перемножены транспонированная матрица и обычная\n",
        "F = np.diag(np.diag(np.ones([n,n]))) #единичная матрица\n",
        "mu = sum(np.diag(A_T_A)) #это фи1 (сумма значений матрицы A_T_A по диагонали)\n",
        "#--------------------------------\n",
        "\n",
        "def Faddeev(A_T_A, F, mu, A_T):\n",
        "    n = len(F)\n",
        "    I = np.diag(np.diag(np.ones([n,n])))\n",
        "    i = 2\n",
        "    while mu != 0:\n",
        "        if sum(np.diag(A_T_A.dot(mu*I - A_T_A.dot(F))))/float(i) == 0:\n",
        "            _mu = mu\n",
        "            _F = F\n",
        "        F = mu*I - A_T_A.dot(F)\n",
        "        mu = sum(np.diag(A_T_A.dot(F)))/float(i)\n",
        "        \n",
        "        i+=1\n",
        "\n",
        "    print(\"Псевдообратная матрица:\\nA*: 1/\", _mu)\n",
        "    A_psevv = _F.dot(A_T)\n",
        "    print_matrix(A_psevv)\n",
        "\n",
        "    print(\"\\nили A*:\")\n",
        "    print_float_matrix(A_psevv/_mu)\n",
        "    return(A_psevv/_mu, _mu)\n",
        "\n",
        "A_psev, muu = Faddeev(A_T_A, F, mu, A_T)"
      ],
      "id": "e243beba",
      "execution_count": 84,
      "outputs": [
        {
          "output_type": "stream",
          "name": "stdout",
          "text": [
            "Псевдообратная матрица:\n",
            "A*: 1/ 572149.0\n",
            "-33595\t\t13959\t\t24370\t\t25382\t\t-15963\t\t-7861\t\t-48613\t\t\n",
            "1145\t\t-23297\t\t-49198\t\t6373\t\t35372\t\t1971\t\t-6007\t\t\n",
            "47566\t\t45566\t\t13437\t\t1411\t\t-3660\t\t19918\t\t29284\t\t\n",
            "\n",
            "или A*:\n",
            "-0.058717\t\t0.024397\t\t0.042594\t\t0.044363\t\t-0.027900\t\t-0.013739\t\t-0.084966\t\t\n",
            "0.002001\t\t-0.040718\t\t-0.085988\t\t0.011139\t\t0.061823\t\t0.003445\t\t-0.010499\t\t\n",
            "0.083136\t\t0.079640\t\t0.023485\t\t0.002466\t\t-0.006397\t\t0.034813\t\t0.051182\t\t\n"
          ]
        }
      ]
    },
    {
      "cell_type": "code",
      "source": [
        "def check_solvability(A, A_psev, B):\n",
        "  n = len(A[0])\n",
        "  I = np.diag(np.diag(np.ones([n,n])))\n",
        "  print(\"Проверка на совместность: промежуточные вычисления...\")\n",
        "  print(\"A A^+ =\")\n",
        "  print_float_matrix(A.dot(A_psev))\n",
        "  print()\n",
        "  print(\"A A^+ b = \")\n",
        "  print_float_matrix((A.dot(A_psev)).dot(B))\n",
        "  print()\n",
        "  print(\"B =\")\n",
        "  print_float_matrix(B)\n",
        "  print(\"\\nСовместность системы:\\n\", (A.dot(A_psev)).dot(B) == B)\n",
        "\n",
        "  private = I - A_psev.dot(A)\n",
        "  return private\n",
        "\n",
        "def slae(A, A_psev, B):\n",
        "  prive = check_solvability(A, A_psev, B)\n",
        "  X = A_psev.dot(B) #общее решение\n",
        "\n",
        "  print(\"\\n\\nРЕШЕНИЕ СЛАУ:\\nX_общее =\")\n",
        "  print_float_matrix(X)\n",
        "  print()\n",
        "  print(\"X_частное = \")\n",
        "  print_float_matrix(prive)\n",
        "\n",
        "  return (X, prive) #общее и частное\n",
        "\n",
        "x_o, x_pr = slae(A, A_psev, B)"
      ],
      "metadata": {
        "colab": {
          "base_uri": "https://localhost:8080/"
        },
        "id": "J1YN_8uN4Vfo",
        "outputId": "7b9c24ad-b58f-408e-d10f-94357d3706b7"
      },
      "id": "J1YN_8uN4Vfo",
      "execution_count": 85,
      "outputs": [
        {
          "output_type": "stream",
          "name": "stdout",
          "text": [
            "Проверка на совместность: промежуточные вычисления...\n",
            "A A^+ =\n",
            "0.478398\t\t0.292366\t\t-0.097144\t\t-0.009754\t\t0.119562\t\t0.194692\t\t0.319880\t\t\n",
            "0.292366\t\t0.598031\t\t0.205389\t\t0.261353\t\t-0.060633\t\t0.181881\t\t-0.087549\t\t\n",
            "-0.097144\t\t0.205389\t\t0.578431\t\t-0.080437\t\t-0.426364\t\t-0.058927\t\t0.022311\t\t\n",
            "-0.009754\t\t0.261353\t\t-0.080437\t\t0.331734\t\t0.116127\t\t0.074038\t\t-0.357559\t\t\n",
            "0.119562\t\t-0.060633\t\t-0.426364\t\t0.116127\t\t0.330244\t\t0.076555\t\t-0.045595\t\t\n",
            "0.194692\t\t0.181881\t\t-0.058927\t\t0.074038\t\t0.076555\t\t0.097588\t\t0.047584\t\t\n",
            "0.319880\t\t-0.087549\t\t0.022311\t\t-0.357559\t\t-0.045595\t\t0.047584\t\t0.585573\t\t\n",
            "\n",
            "A A^+ b = \n",
            "70.949476\t\t\n",
            "-77.095155\t\t\n",
            "-383.684142\t\t\n",
            "109.879488\t\t\n",
            "294.038324\t\t\n",
            "55.068487\t\t\n",
            "-70.434502\t\t\n",
            "\n",
            "B =\n",
            "3.000000\t\t\n",
            "7.000000\t\t\n",
            "-621.000000\t\t\n",
            "154.000000\t\t\n",
            "26.000000\t\t\n",
            "35.000000\t\t\n",
            "-4.000000\t\t\n",
            "\n",
            "Совместность системы:\n",
            " [[False]\n",
            " [False]\n",
            " [False]\n",
            " [False]\n",
            " [False]\n",
            " [False]\n",
            " [False]]\n",
            "\n",
            "\n",
            "РЕШЕНИЕ СЛАУ:\n",
            "X_общее =\n",
            "-20.490703\t\t\n",
            "56.604907\t\t\n",
            "-12.550208\t\t\n",
            "\n",
            "X_частное = \n",
            "0.000000\t\t0.000000\t\t0.000000\t\t\n",
            "0.000000\t\t0.000000\t\t-0.000000\t\t\n",
            "0.000000\t\t-0.000000\t\t-0.000000\t\t\n"
          ]
        }
      ]
    },
    {
      "cell_type": "code",
      "source": [
        "#Проверки:\n",
        "def norm(A): #норма вектора\n",
        "  return ((A.T).dot(A))\n",
        "\n",
        "#np.linalg.norm()\n",
        "print(\"Для совместной системы:\")\n",
        "print(\"A*x - b = \")\n",
        "print_float_matrix(A.dot(x_o) - B)\n",
        "print(\"\\n|Ax - b|=\")\n",
        "print(math.sqrt(int(norm(A.dot(x_o) - B))))"
      ],
      "metadata": {
        "colab": {
          "base_uri": "https://localhost:8080/"
        },
        "id": "i6O45pd_0vZc",
        "outputId": "16ec178d-b8ae-48d1-8667-3bd4f09a8d79"
      },
      "id": "i6O45pd_0vZc",
      "execution_count": 86,
      "outputs": [
        {
          "output_type": "stream",
          "name": "stdout",
          "text": [
            "Для совместной системы:\n",
            "A*x - b = \n",
            "67.949476\t\t\n",
            "-84.095155\t\t\n",
            "237.315858\t\t\n",
            "-44.120512\t\t\n",
            "268.038324\t\t\n",
            "20.068487\t\t\n",
            "-66.434502\t\t\n",
            "\n",
            "|Ax - b|=\n",
            "382.9033820691585\n"
          ]
        }
      ]
    },
    {
      "cell_type": "code",
      "source": [
        "print(\"Для несовместной системы:\")\n",
        "print(\"A*x - b = \")\n",
        "print_float_matrix(A.dot(x_o) - B)\n",
        "print(\"|Ax - b|=\")\n",
        "print(math.sqrt(int(norm(A.dot(x_o) - B))))\n",
        "\n",
        "print(\"\\nВыборочная проверка:\")\n",
        "x0 = np.array([[21],[-57],[13]])\n",
        "print(\"A*x_ - b = \")\n",
        "print_float_matrix(A.dot(x0) - B)\n",
        "print(\"|Ax_ - b|=\")\n",
        "print(math.sqrt(int(norm(A.dot(x0) - B))))"
      ],
      "metadata": {
        "colab": {
          "base_uri": "https://localhost:8080/"
        },
        "id": "vpF8UKmV5ER8",
        "outputId": "17797b1a-fe60-40ba-9012-88d9e199209a"
      },
      "id": "vpF8UKmV5ER8",
      "execution_count": 95,
      "outputs": [
        {
          "output_type": "stream",
          "name": "stdout",
          "text": [
            "Для несовместной системы:\n",
            "A*x - b = \n",
            "67.949476\t\t\n",
            "-84.095155\t\t\n",
            "237.315858\t\t\n",
            "-44.120512\t\t\n",
            "268.038324\t\t\n",
            "20.068487\t\t\n",
            "-66.434502\t\t\n",
            "|Ax - b|=\n",
            "382.9033820691585\n",
            "\n",
            "Выборочная проверка:\n",
            "A*x_ - b = \n",
            "-73.000000\t\t\n",
            "75.000000\t\t\n",
            "1007.000000\t\t\n",
            "-261.000000\t\t\n",
            "-321.000000\t\t\n",
            "-89.000000\t\t\n",
            "72.000000\t\t\n",
            "|Ax_ - b|=\n",
            "1099.6681317561222\n"
          ]
        }
      ]
    }
  ]
}