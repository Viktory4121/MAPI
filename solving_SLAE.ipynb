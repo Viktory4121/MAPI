{
  "nbformat": 4,
  "nbformat_minor": 5,
  "metadata": {
    "kernelspec": {
      "display_name": "Python 3",
      "language": "python",
      "name": "python3"
    },
    "language_info": {
      "codemirror_mode": {
        "name": "ipython",
        "version": 3
      },
      "file_extension": ".py",
      "mimetype": "text/x-python",
      "name": "python",
      "nbconvert_exporter": "python",
      "pygments_lexer": "ipython3",
      "version": "3.8.8"
    },
    "colab": {
      "provenance": [],
      "collapsed_sections": [],
      "include_colab_link": true
    }
  },
  "cells": [
    {
      "cell_type": "markdown",
      "metadata": {
        "id": "view-in-github",
        "colab_type": "text"
      },
      "source": [
        "<a href=\"https://colab.research.google.com/github/Viktory4121/MAPI/blob/main/solving_SLAE.ipynb\" target=\"_parent\"><img src=\"https://colab.research.google.com/assets/colab-badge.svg\" alt=\"Open In Colab\"/></a>"
      ]
    },
    {
      "cell_type": "markdown",
      "source": [
        "#Решение СЛАУ (псевдообращение методом Фаддеева)"
      ],
      "metadata": {
        "id": "vnOX9NVhktez"
      },
      "id": "vnOX9NVhktez"
    },
    {
      "cell_type": "code",
      "metadata": {
        "colab": {
          "base_uri": "https://localhost:8080/"
        },
        "id": "e243beba",
        "outputId": "55a798b0-e33e-43df-9e60-6c7cbdd81e3b"
      },
      "source": [
        "import numpy as np\n",
        "#A = np.array([[1,2,7,-2,1],[6,0,4,-2,5],[-4,-8,3,2,1],[7,0,-4,3,2]])\n",
        "\n",
        "#A = np.array([[12,7,9,36],[98,3,5,2],[6,78,3,1],[1,3,10,41]])\n",
        "#B = np.array([[2],[-7],[4],[1]])\n",
        "A = np.array([[-1,4,-2],[-1,4,-2],[1,26,-1]])\n",
        "B = np.array([[45],[-91],[15]])\n",
        "#A = np.array([[-9,3,4,1],[3,0,1,-10]])\n",
        "#B = np.array([[3],[100]])\n",
        "#A = np.array([[8,-5,1,4,-9],[2,5,-1,4,2],[-1,-2,-6,9,5],[6,2,0,-7,2],[6,2,5,9,1],[-5,-1,4,8,-2]])\n",
        "#B = np.array([[-5],[11],[47],[-9],[11],[75]])\n",
        "#A = np.array([[10,-62,11,6],[0,24,-5,-7],[1,8,4,12]])\n",
        "#B = np.array([[8],[1],[2]])\n",
        "#A = np.array([[-1,2,5],[5,2,7],[0,-7,-1],[6,5,4],[1,6,2],[1,2,3],[-7,-4,-1]])\n",
        "#B = np.array([[3],[7],[-621],[154],[26],[35],[-4]])\n",
        "\n",
        "def print_matrix(A):\n",
        "  for row in A:\n",
        "    for i in row:\n",
        "      #print(\"{} & \".format(str(round(i))), end = \"\" )\n",
        "      print(\"{}\\t\\t\".format(str(round(i))), end = \"\" )\n",
        "    print()\n",
        "\n",
        "def print_float_matrix(A):\n",
        "  for row in A:\n",
        "    for i in row:\n",
        "      #print(\"{:6f} & \".format(i), end = \"\" )\n",
        "      print(\"{:6f}\\t\\t\".format(i), end = \"\" )\n",
        "    print()\n",
        "\n",
        "#--------------------------------\n",
        "n = len(A[0])\n",
        "A_T = A.transpose()\n",
        "A_T_A = A_T.dot(A) #перемножены транспонированная матрица и обычная\n",
        "F = np.diag(np.diag(np.ones([n,n]))) #единичная матрица\n",
        "mu = sum(np.diag(A_T_A)) #это фи1 (сумма значений матрицы A_T_A по диагонали)\n",
        "#--------------------------------\n",
        "\n",
        "def Faddeev(A_T_A, F, mu, A_T):\n",
        "    n = len(F)\n",
        "    I = np.diag(np.diag(np.ones([n,n])))\n",
        "    i = 2\n",
        "    while mu != 0:\n",
        "        if sum(np.diag(A_T_A.dot(mu*I - A_T_A.dot(F))))/float(i) == 0:\n",
        "            _mu = mu\n",
        "            _F = F\n",
        "        F = mu*I - A_T_A.dot(F)\n",
        "        mu = sum(np.diag(A_T_A.dot(F)))/float(i)\n",
        "        \n",
        "        i+=1\n",
        "\n",
        "    print(\"Псевдообратная матрица:\\nA*: 1/\", _mu)\n",
        "    A_psevv = _F.dot(A_T)\n",
        "    print_matrix(A_psevv)\n",
        "\n",
        "    print(\"\\nили A*:\")\n",
        "    print_float_matrix(A_psevv/_mu)\n",
        "    return(A_psevv/_mu, _mu)\n",
        "\n",
        "A_psev, muu = Faddeev(A_T_A, F, mu, A_T)"
      ],
      "id": "e243beba",
      "execution_count": 42,
      "outputs": [
        {
          "output_type": "stream",
          "name": "stdout",
          "text": [
            "Псевдообратная матрица:\n",
            "A*: 1/ 6426.0\n",
            "-783\t\t-783\t\t252\t\t\n",
            "-18\t\t-18\t\t252\t\t\n",
            "-1251\t\t-1251\t\t378\t\t\n",
            "\n",
            "или A*:\n",
            "-0.121849\t\t-0.121849\t\t0.039216\t\t\n",
            "-0.002801\t\t-0.002801\t\t0.039216\t\t\n",
            "-0.194678\t\t-0.194678\t\t0.058824\t\t\n"
          ]
        }
      ]
    },
    {
      "cell_type": "code",
      "source": [
        "def check_solvability(A, A_psev, B):\n",
        "  n = len(A[0])\n",
        "  I = np.diag(np.diag(np.ones([n,n])))\n",
        "  print(\"Проверка на совместность: промежуточные вычисления...\")\n",
        "  print(\"A A^+ =\")\n",
        "  print_float_matrix(A.dot(A_psev))\n",
        "  print()\n",
        "  print(\"A A^+ b = \")\n",
        "  print_float_matrix((A.dot(A_psev)).dot(B))\n",
        "  print()\n",
        "  print(\"B =\")\n",
        "  print_float_matrix(B)\n",
        "  print(\"\\nСовместность системы:\\n\", (A.dot(A_psev)).dot(B) == B)\n",
        "\n",
        "  private = I - A_psev.dot(A)\n",
        "  return private\n",
        "\n",
        "def slae(A, A_psev, B):\n",
        "  prive = check_solvability(A, A_psev, B)\n",
        "  X = A_psev.dot(B) #общее решение\n",
        "\n",
        "  print(\"\\n\\nРЕШЕНИЕ СЛАУ:\\nX_общее =\")\n",
        "  print_float_matrix(X)\n",
        "  print()\n",
        "  print(\"X_частное = \")\n",
        "  print_float_matrix(prive)\n",
        "\n",
        "  return (X, prive) #общее и частное\n",
        "\n",
        "x_o, x_pr = slae(A, A_psev, B)"
      ],
      "metadata": {
        "colab": {
          "base_uri": "https://localhost:8080/"
        },
        "id": "J1YN_8uN4Vfo",
        "outputId": "ce1b0fba-29b8-44ee-ac85-49b0d91ac039"
      },
      "id": "J1YN_8uN4Vfo",
      "execution_count": 43,
      "outputs": [
        {
          "output_type": "stream",
          "name": "stdout",
          "text": [
            "Проверка на совместность: промежуточные вычисления...\n",
            "A A^+ =\n",
            "0.500000\t\t0.500000\t\t0.000000\t\t\n",
            "0.500000\t\t0.500000\t\t0.000000\t\t\n",
            "0.000000\t\t0.000000\t\t1.000000\t\t\n",
            "\n",
            "A A^+ b = \n",
            "-23.000000\t\t\n",
            "-23.000000\t\t\n",
            "15.000000\t\t\n",
            "\n",
            "B =\n",
            "45.000000\t\t\n",
            "-91.000000\t\t\n",
            "15.000000\t\t\n",
            "\n",
            "Совместность системы:\n",
            " [[False]\n",
            " [False]\n",
            " [ True]]\n",
            "\n",
            "\n",
            "РЕШЕНИЕ СЛАУ:\n",
            "X_общее =\n",
            "6.193277\t\t\n",
            "0.717087\t\t\n",
            "9.837535\t\t\n",
            "\n",
            "X_частное = \n",
            "0.717087\t\t-0.044818\t\t-0.448179\t\t\n",
            "-0.044818\t\t0.002801\t\t0.028011\t\t\n",
            "-0.448179\t\t0.028011\t\t0.280112\t\t\n"
          ]
        }
      ]
    },
    {
      "cell_type": "code",
      "source": [
        "#Проверки:\n",
        "def norm(A): #норма вектора\n",
        "  return ((A.T).dot(A))\n",
        "\n",
        "#np.linalg.norm()\n",
        "print(\"Для совместной системы:\")\n",
        "print(\"A*x - b = \")\n",
        "print_float_matrix(A.dot(x_o) - B)\n",
        "print(\"\\n|Ax - b|=\")\n",
        "print_float_matrix(norm(A.dot(x_o) - B))"
      ],
      "metadata": {
        "colab": {
          "base_uri": "https://localhost:8080/"
        },
        "id": "i6O45pd_0vZc",
        "outputId": "5d81a045-f6a9-4044-8373-39051cd8f94d"
      },
      "id": "i6O45pd_0vZc",
      "execution_count": 44,
      "outputs": [
        {
          "output_type": "stream",
          "name": "stdout",
          "text": [
            "Для совместной системы:\n",
            "A*x - b = \n",
            "-68.000000\t\t\n",
            "68.000000\t\t\n",
            "0.000000\t\t\n",
            "\n",
            "|Ax - b|=\n",
            "9248.000000\t\t\n"
          ]
        }
      ]
    },
    {
      "cell_type": "code",
      "source": [
        "print(\"Для несовместной системы:\")\n",
        "print(\"A*x - b = \")\n",
        "print_float_matrix(A.dot(x_o) - B)\n",
        "print(\"\\n|Ax - b|=\")\n",
        "print_float_matrix(norm(A.dot(x_o) - B))\n",
        "\n",
        "print(\"\\nВыборочная проверка:\")\n",
        "x0 = np.array([])"
      ],
      "metadata": {
        "id": "vpF8UKmV5ER8",
        "outputId": "f73eace9-5564-4249-eb53-053dfcec92fe",
        "colab": {
          "base_uri": "https://localhost:8080/"
        }
      },
      "id": "vpF8UKmV5ER8",
      "execution_count": 45,
      "outputs": [
        {
          "output_type": "stream",
          "name": "stdout",
          "text": [
            "Для несовместной системы:\n",
            "A*x - b = \n",
            "-68.000000\t\t\n",
            "68.000000\t\t\n",
            "0.000000\t\t\n",
            "\n",
            "|Ax - b|=\n",
            "9248.000000\t\t\n",
            "\n",
            "Выборочная проверка:\n"
          ]
        }
      ]
    }
  ]
}