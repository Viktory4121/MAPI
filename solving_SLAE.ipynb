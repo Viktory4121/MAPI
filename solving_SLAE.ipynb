{
  "nbformat": 4,
  "nbformat_minor": 5,
  "metadata": {
    "kernelspec": {
      "display_name": "Python 3",
      "language": "python",
      "name": "python3"
    },
    "language_info": {
      "codemirror_mode": {
        "name": "ipython",
        "version": 3
      },
      "file_extension": ".py",
      "mimetype": "text/x-python",
      "name": "python",
      "nbconvert_exporter": "python",
      "pygments_lexer": "ipython3",
      "version": "3.8.8"
    },
    "colab": {
      "provenance": [],
      "collapsed_sections": [],
      "include_colab_link": true
    }
  },
  "cells": [
    {
      "cell_type": "markdown",
      "metadata": {
        "id": "view-in-github",
        "colab_type": "text"
      },
      "source": [
        "<a href=\"https://colab.research.google.com/github/Viktory4121/MAPI/blob/main/solving_SLAE.ipynb\" target=\"_parent\"><img src=\"https://colab.research.google.com/assets/colab-badge.svg\" alt=\"Open In Colab\"/></a>"
      ]
    },
    {
      "cell_type": "markdown",
      "source": [
        "#Решение СЛАУ (псевдообращение методом Фаддеева)"
      ],
      "metadata": {
        "id": "vnOX9NVhktez"
      },
      "id": "vnOX9NVhktez"
    },
    {
      "cell_type": "code",
      "metadata": {
        "colab": {
          "base_uri": "https://localhost:8080/"
        },
        "id": "e243beba",
        "outputId": "86250b58-8bd2-49e5-bcc9-5f2849f31746"
      },
      "source": [
        "import numpy as np\n",
        "\n",
        "#A = np.array([[8,-5,1,4,-9],[2,5,-1,4,2],[-1,-2,-6,9,5],[6,2,0,-7,2],[6,2,5,9,1],[-5,-1,4,8,-2]])\n",
        "#A = np.array([[10,-62,11,6],[0,24,-5,-7],[1,8,4,12]])\n",
        "#A = np.array([[-1,2,5],[5,2,7],[0,-7,-1],[6,5,4],[1,6,2],[1,2,3],[-7,-4,-1]])\n",
        "#A = np.array([[1,2,7,-2,1],[6,0,4,-2,5],[-4,-8,3,2,1],[7,0,-4,3,2]])\n",
        "\n",
        "#A = np.array([[12,7,9,36],[98,3,5,2],[6,78,3,1],[1,3,10,41]])\n",
        "#B = np.array([[2],[-7],[4],[1]])\n",
        "#A = np.array([[-1,4,-2],[-1,4,-2],[1,26,-1]])\n",
        "#B = np.array([[45],[-91],[15]])\n",
        "A = np.array([[-9,3,4,1],[3,0,1,-10]])\n",
        "B = np.array([[3],[100]])\n",
        "\n",
        "def print_matrix(A):\n",
        "  for row in A:\n",
        "    for i in row:\n",
        "      #print(\"{} & \".format(str(round(i))), end = \"\" )\n",
        "      print(\"{}\\t\\t\".format(str(round(i))), end = \"\" )\n",
        "    print()\n",
        "\n",
        "def print_float_matrix(A):\n",
        "  for row in A:\n",
        "    for i in row:\n",
        "      #print(\"{:6f} & \".format(i), end = \"\" )\n",
        "      print(\"{:6f}\\t\\t\".format(i), end = \"\" )\n",
        "    print()\n",
        "\n",
        "#--------------------------------\n",
        "n = len(A[0])\n",
        "A_T = A.transpose()\n",
        "A_T_A = A_T.dot(A) #перемножены транспонированная матрица и обычная\n",
        "F = np.diag(np.diag(np.ones([n,n]))) #единичная матрица\n",
        "mu = sum(np.diag(A_T_A)) #это фи1 (сумма значений матрицы A_T_A по диагонали)\n",
        "#--------------------------------\n",
        "\n",
        "def Faddeev(A_T_A, F, mu, A_T):\n",
        "    n = len(F)\n",
        "    I = np.diag(np.diag(np.ones([n,n])))\n",
        "    i = 2\n",
        "    while mu != 0:\n",
        "        if sum(np.diag(A_T_A.dot(mu*I - A_T_A.dot(F))))/float(i) == 0:\n",
        "            _mu = mu\n",
        "            _F = F\n",
        "        F = mu*I - A_T_A.dot(F)\n",
        "        mu = sum(np.diag(A_T_A.dot(F)))/float(i)\n",
        "        \n",
        "        i+=1\n",
        "\n",
        "    print(\"РЕЗУЛЬТАТ:\\nA*: 1/\", _mu)\n",
        "    A_psevv = _F.dot(A_T)\n",
        "    print_matrix(A_psevv)\n",
        "\n",
        "    print(\"\\nили A*:\")\n",
        "    print_float_matrix(A_psevv/_mu)\n",
        "    return(A_psevv/_mu, _mu)\n",
        "\n",
        "A_psev, muu = Faddeev(A_T_A, F, mu, A_T)"
      ],
      "id": "e243beba",
      "execution_count": 22,
      "outputs": [
        {
          "output_type": "stream",
          "name": "stdout",
          "text": [
            "РЕЗУЛЬТАТ:\n",
            "A*: 1/ 10681.0\n",
            "-891\t\t24\t\t\n",
            "330\t\t99\t\t\n",
            "473\t\t239\t\t\n",
            "-220\t\t-1037\t\t\n",
            "\n",
            "или A*:\n",
            "-0.083419\t\t0.002247\t\t\n",
            "0.030896\t\t0.009269\t\t\n",
            "0.044284\t\t0.022376\t\t\n",
            "-0.020597\t\t-0.097088\t\t\n"
          ]
        }
      ]
    },
    {
      "cell_type": "code",
      "source": [
        "def check_solvability(A, A_psev, B):\n",
        "  n = len(A[0])\n",
        "  I = np.diag(np.diag(np.ones([n,n])))\n",
        "  print(\"Проверка на совместность:\")\n",
        "  print(\"A A^+ =\")\n",
        "  print_float_matrix(A.dot(A_psev))\n",
        "  print(\"A A^+ b = \")\n",
        "  print_float_matrix((A.dot(A_psev)).dot(B))\n",
        "  print(\"B =\")\n",
        "  print_float_matrix(B)\n",
        "\n",
        "  private = I - A_psev.dot(A)\n",
        "  return private\n",
        "\n",
        "def slae(A, A_psev, B):\n",
        "  prive = check_solvability(A, A_psev, B)\n",
        "  X = A_psev.dot(B) #общее решение\n",
        "\n",
        "  print(\"\\n\\nРЕШЕНИЕ СЛАУ:\\nX_общее =\")\n",
        "  print_float_matrix(X)\n",
        "  print()\n",
        "  print(\"X_частное = \")\n",
        "  print_float_matrix(prive)\n",
        "\n",
        "  return (X, prive) #общее и частное\n",
        "\n",
        "x_o, x_pr = slae(A, A_psev, B)"
      ],
      "metadata": {
        "colab": {
          "base_uri": "https://localhost:8080/"
        },
        "id": "J1YN_8uN4Vfo",
        "outputId": "a8829676-8521-4f7b-d5f5-6b520a08923c"
      },
      "id": "J1YN_8uN4Vfo",
      "execution_count": 24,
      "outputs": [
        {
          "output_type": "stream",
          "name": "stdout",
          "text": [
            "Проверка на совместность:\n",
            "A A^+ =\n",
            "1.000000\t\t0.000000\t\t\n",
            "0.000000\t\t1.000000\t\t\n",
            "A A^+ b = \n",
            "3.000000\t\t\n",
            "100.000000\t\t\n",
            "B =\n",
            "3.000000\t\t\n",
            "100.000000\t\t\n",
            "\n",
            "\n",
            "РЕШЕНИЕ СЛАУ:\n",
            "X_общее =\n",
            "-0.025559\t\t\n",
            "1.019567\t\t\n",
            "2.370471\t\t\n",
            "-9.770621\t\t\n",
            "\n",
            "X_частное = \n",
            "0.242487\t\t0.250257\t\t0.331430\t\t0.105889\t\t\n",
            "0.250257\t\t0.907312\t\t-0.132853\t\t0.061792\t\t\n",
            "0.331430\t\t-0.132853\t\t0.800487\t\t0.179478\t\t\n",
            "0.105889\t\t0.061792\t\t0.179478\t\t0.049714\t\t\n"
          ]
        }
      ]
    }
  ]
}