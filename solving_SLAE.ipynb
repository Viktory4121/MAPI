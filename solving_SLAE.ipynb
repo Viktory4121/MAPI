{
  "nbformat": 4,
  "nbformat_minor": 5,
  "metadata": {
    "kernelspec": {
      "display_name": "Python 3",
      "language": "python",
      "name": "python3"
    },
    "language_info": {
      "codemirror_mode": {
        "name": "ipython",
        "version": 3
      },
      "file_extension": ".py",
      "mimetype": "text/x-python",
      "name": "python",
      "nbconvert_exporter": "python",
      "pygments_lexer": "ipython3",
      "version": "3.8.8"
    },
    "colab": {
      "provenance": [],
      "collapsed_sections": [],
      "include_colab_link": true
    }
  },
  "cells": [
    {
      "cell_type": "markdown",
      "metadata": {
        "id": "view-in-github",
        "colab_type": "text"
      },
      "source": [
        "<a href=\"https://colab.research.google.com/github/Viktory4121/MAPI/blob/main/solving_SLAE.ipynb\" target=\"_parent\"><img src=\"https://colab.research.google.com/assets/colab-badge.svg\" alt=\"Open In Colab\"/></a>"
      ]
    },
    {
      "cell_type": "markdown",
      "source": [
        "#Решение СЛАУ (псевдообращение методом Фаддеева)"
      ],
      "metadata": {
        "id": "vnOX9NVhktez"
      },
      "id": "vnOX9NVhktez"
    },
    {
      "cell_type": "code",
      "metadata": {
        "colab": {
          "base_uri": "https://localhost:8080/"
        },
        "id": "e243beba",
        "outputId": "7a5f130c-6944-48ba-9c1d-e249d089c16e"
      },
      "source": [
        "import numpy as np\n",
        "import math\n",
        "#A = np.array([[1,2,7,-2,1],[6,0,4,-2,5],[-4,-8,3,2,1],[7,0,-4,3,2]])\n",
        "\n",
        "#A = np.array([[12,7,9,36],[98,3,5,2],[6,78,3,1],[1,3,10,41]])\n",
        "#B = np.array([[2],[-7],[4],[1]])\n",
        "#A = np.array([[-1,4,-2],[-1,4,-2],[1,26,-1]])\n",
        "#B = np.array([[45],[-91],[15]])\n",
        "#A = np.array([[-9,3,4,1],[3,0,1,-10]])\n",
        "#B = np.array([[3],[100]])\n",
        "A = np.array([[8,-5,1,4,-9],[2,5,-1,4,2],[-1,-2,-6,9,5],[6,2,0,-7,2],[6,2,5,9,1],[-5,-1,4,8,-2]])\n",
        "B = np.array([[-5],[11],[47],[-9],[11],[75]])\n",
        "#A = np.array([[10,-62,11,6],[0,24,-5,-7],[1,8,4,12]])\n",
        "#B = np.array([[8],[1],[2]])\n",
        "#A = np.array([[-1,2,5],[5,2,7],[0,-7,-1],[6,5,4],[1,6,2],[1,2,3],[-7,-4,-1]])\n",
        "#B = np.array([[3],[7],[-621],[154],[26],[35],[-4]])\n",
        "\n",
        "def print_matrix(A):\n",
        "  for row in A:\n",
        "    for i in row:\n",
        "      #print(\"{} & \".format(str(round(i))), end = \"\" )\n",
        "      print(\"{}\\t\\t\".format(str(round(i))), end = \"\" )\n",
        "    print()\n",
        "\n",
        "def print_float_matrix(A):\n",
        "  for row in A:\n",
        "    for i in row:\n",
        "      #print(\"{:6f} & \".format(i), end = \"\" )\n",
        "      print(\"{:6f}\\t\\t\".format(i), end = \"\" )\n",
        "    print()\n",
        "\n",
        "#--------------------------------\n",
        "n = len(A[0])\n",
        "A_T = A.transpose()\n",
        "A_T_A = A_T.dot(A) #перемножены транспонированная матрица и обычная\n",
        "F = np.diag(np.diag(np.ones([n,n]))) #единичная матрица\n",
        "mu = sum(np.diag(A_T_A)) #это фи1 (сумма значений матрицы A_T_A по диагонали)\n",
        "#--------------------------------\n",
        "\n",
        "def Faddeev(A_T_A, F, mu, A_T):\n",
        "    n = len(F)\n",
        "    I = np.diag(np.diag(np.ones([n,n])))\n",
        "    i = 2\n",
        "    while mu != 0:\n",
        "        if sum(np.diag(A_T_A.dot(mu*I - A_T_A.dot(F))))/float(i) == 0:\n",
        "            _mu = mu\n",
        "            _F = F\n",
        "        F = mu*I - A_T_A.dot(F)\n",
        "        mu = sum(np.diag(A_T_A.dot(F)))/float(i)\n",
        "        \n",
        "        i+=1\n",
        "\n",
        "    print(\"Псевдообратная матрица:\\nA*: 1/\", _mu)\n",
        "    A_psevv = _F.dot(A_T)\n",
        "    print_matrix(A_psevv)\n",
        "\n",
        "    print(\"\\nили A*:\")\n",
        "    print_float_matrix(A_psevv/_mu)\n",
        "    return(A_psevv/_mu, _mu)\n",
        "\n",
        "A_psev, muu = Faddeev(A_T_A, F, mu, A_T)"
      ],
      "id": "e243beba",
      "execution_count": 71,
      "outputs": [
        {
          "output_type": "stream",
          "name": "stdout",
          "text": [
            "Псевдообратная матрица:\n",
            "A*: 1/ 7295254356.0\n",
            "241008680\t\t-41987186\t\t124689030\t\t360346536\t\t326138122\t\t-291388074\t\t\n",
            "-41407862\t\t1423278359\t\t-500950401\t\t-254928018\t\t-278607865\t\t-36994215\t\t\n",
            "-309345504\t\t-735954882\t\t-344579430\t\t235930656\t\t668405790\t\t364784862\t\t\n",
            "105700356\t\t242285046\t\t208512030\t\t-199905288\t\t147946278\t\t161981370\t\t\n",
            "-552988930\t\t-791139011\t\t456388257\t\t452929542\t\t560834677\t\t-75998481\t\t\n",
            "\n",
            "или A*:\n",
            "0.033036\t\t-0.005755\t\t0.017092\t\t0.049395\t\t0.044706\t\t-0.039942\t\t\n",
            "-0.005676\t\t0.195096\t\t-0.068668\t\t-0.034944\t\t-0.038190\t\t-0.005071\t\t\n",
            "-0.042404\t\t-0.100881\t\t-0.047233\t\t0.032340\t\t0.091622\t\t0.050003\t\t\n",
            "0.014489\t\t0.033211\t\t0.028582\t\t-0.027402\t\t0.020280\t\t0.022204\t\t\n",
            "-0.075801\t\t-0.108446\t\t0.062560\t\t0.062086\t\t0.076877\t\t-0.010418\t\t\n"
          ]
        }
      ]
    },
    {
      "cell_type": "code",
      "source": [
        "def check_solvability(A, A_psev, B):\n",
        "  n = len(A[0])\n",
        "  I = np.diag(np.diag(np.ones([n,n])))\n",
        "  print(\"Проверка на совместность: промежуточные вычисления...\")\n",
        "  print(\"A A^+ =\")\n",
        "  print_float_matrix(A.dot(A_psev))\n",
        "  print()\n",
        "  print(\"A A^+ b = \")\n",
        "  print_float_matrix((A.dot(A_psev)).dot(B))\n",
        "  print()\n",
        "  print(\"B =\")\n",
        "  print_float_matrix(B)\n",
        "  print(\"\\nСовместность системы:\\n\", (A.dot(A_psev)).dot(B) == B)\n",
        "\n",
        "  private = I - A_psev.dot(A)\n",
        "  return private\n",
        "\n",
        "def slae(A, A_psev, B):\n",
        "  prive = check_solvability(A, A_psev, B)\n",
        "  X = A_psev.dot(B) #общее решение\n",
        "\n",
        "  print(\"\\n\\nРЕШЕНИЕ СЛАУ:\\nX_общее =\")\n",
        "  print_float_matrix(X)\n",
        "  print()\n",
        "  print(\"X_частное = \")\n",
        "  print_float_matrix(prive)\n",
        "\n",
        "  return (X, prive) #общее и частное\n",
        "\n",
        "x_o, x_pr = slae(A, A_psev, B)"
      ],
      "metadata": {
        "colab": {
          "base_uri": "https://localhost:8080/"
        },
        "id": "J1YN_8uN4Vfo",
        "outputId": "bb599f56-d87f-4eeb-accc-7559c4f8525a"
      },
      "id": "J1YN_8uN4Vfo",
      "execution_count": 72,
      "outputs": [
        {
          "output_type": "stream",
          "name": "stdout",
          "text": [
            "Проверка на совместность: промежуточные вычисления...\n",
            "A A^+ =\n",
            "0.990434\t\t-0.013550\t\t-0.015868\t\t-0.066159\t\t0.029447\t\t-0.061607\t\t\n",
            "-0.013550\t\t0.980807\t\t-0.022476\t\t-0.093710\t\t0.041710\t\t-0.087263\t\t\n",
            "-0.015868\t\t-0.022476\t\t0.973679\t\t-0.109739\t\t0.048844\t\t-0.102189\t\t\n",
            "-0.066159\t\t-0.093710\t\t-0.109739\t\t0.542465\t\t0.203647\t\t-0.426056\t\t\n",
            "0.029447\t\t0.041710\t\t0.048844\t\t0.203647\t\t0.909357\t\t0.189636\t\t\n",
            "-0.061607\t\t-0.087263\t\t-0.102189\t\t-0.426056\t\t0.189636\t\t0.603258\t\t\n",
            "\n",
            "A A^+ b = \n",
            "-9.548180\t\t\n",
            "4.557743\t\t\n",
            "39.455813\t\t\n",
            "-40.453983\t\t\n",
            "25.000055\t\t\n",
            "45.710132\t\t\n",
            "\n",
            "B =\n",
            "-5.000000\t\t\n",
            "11.000000\t\t\n",
            "47.000000\t\t\n",
            "-9.000000\t\t\n",
            "11.000000\t\t\n",
            "75.000000\t\t\n",
            "\n",
            "Совместность системы:\n",
            " [[False]\n",
            " [False]\n",
            " [False]\n",
            " [False]\n",
            " [False]\n",
            " [False]]\n",
            "\n",
            "\n",
            "РЕШЕНИЕ СЛАУ:\n",
            "X_общее =\n",
            "-2.373628\t\t\n",
            "-1.538873\t\t\n",
            "1.349363\t\t\n",
            "3.771199\t\t\n",
            "1.631964\t\t\n",
            "\n",
            "X_частное = \n",
            "0.000000\t\t0.000000\t\t0.000000\t\t-0.000000\t\t0.000000\t\t\n",
            "-0.000000\t\t0.000000\t\t-0.000000\t\t0.000000\t\t0.000000\t\t\n",
            "0.000000\t\t-0.000000\t\t0.000000\t\t0.000000\t\t0.000000\t\t\n",
            "-0.000000\t\t-0.000000\t\t0.000000\t\t0.000000\t\t-0.000000\t\t\n",
            "0.000000\t\t0.000000\t\t-0.000000\t\t0.000000\t\t0.000000\t\t\n"
          ]
        }
      ]
    },
    {
      "cell_type": "code",
      "source": [
        "#Проверки:\n",
        "def norm(A): #норма вектора\n",
        "  return ((A.T).dot(A))\n",
        "\n",
        "#np.linalg.norm()\n",
        "print(\"Для совместной системы:\")\n",
        "print(\"A*x - b = \")\n",
        "print_float_matrix(A.dot(x_o) - B)\n",
        "print(\"\\n|Ax - b|=\")\n",
        "print(math.sqrt(int(norm(A.dot(x_o) - B))))"
      ],
      "metadata": {
        "colab": {
          "base_uri": "https://localhost:8080/"
        },
        "id": "i6O45pd_0vZc",
        "outputId": "045c3c5e-003c-4604-afd7-c5329b8aff28"
      },
      "id": "i6O45pd_0vZc",
      "execution_count": 73,
      "outputs": [
        {
          "output_type": "stream",
          "name": "stdout",
          "text": [
            "Для совместной системы:\n",
            "A*x - b = \n",
            "-4.548180\t\t\n",
            "-6.442257\t\t\n",
            "-7.544187\t\t\n",
            "-31.453983\t\t\n",
            "14.000055\t\t\n",
            "-29.289868\t\t\n",
            "\n",
            "|Ax - b|=\n",
            "46.49731175025068\n"
          ]
        }
      ]
    },
    {
      "cell_type": "code",
      "source": [
        "print(\"Для несовместной системы:\")\n",
        "print(\"A*x - b = \")\n",
        "print_float_matrix(A.dot(x_o) - B)\n",
        "print(\"|Ax - b|=\")\n",
        "print(math.sqrt(int(norm(A.dot(x_o) - B))))\n",
        "\n",
        "print(\"\\nВыборочная проверка:\")\n",
        "x0 = np.array([[1],[1],[1],[1],[1]])\n",
        "print(\"A*x_ - b = \")\n",
        "print_float_matrix(A.dot(x0) - B)\n",
        "print(\"|Ax_ - b|=\")\n",
        "print(math.sqrt(int(norm(A.dot(x0) - B))))"
      ],
      "metadata": {
        "colab": {
          "base_uri": "https://localhost:8080/"
        },
        "id": "vpF8UKmV5ER8",
        "outputId": "29662abe-fbb4-4c6b-8583-ea33eb4064f1"
      },
      "id": "vpF8UKmV5ER8",
      "execution_count": 76,
      "outputs": [
        {
          "output_type": "stream",
          "name": "stdout",
          "text": [
            "Для несовместной системы:\n",
            "A*x - b = \n",
            "-4.548180\t\t\n",
            "-6.442257\t\t\n",
            "-7.544187\t\t\n",
            "-31.453983\t\t\n",
            "14.000055\t\t\n",
            "-29.289868\t\t\n",
            "|Ax - b|=\n",
            "46.49731175025068\n",
            "\n",
            "Выборочная проверка:\n",
            "A*x_ - b = \n",
            "4.000000\t\t\n",
            "1.000000\t\t\n",
            "-42.000000\t\t\n",
            "12.000000\t\t\n",
            "12.000000\t\t\n",
            "-71.000000\t\t\n",
            "|Ax_ - b|=\n",
            "84.32081593533118\n"
          ]
        }
      ]
    }
  ]
}