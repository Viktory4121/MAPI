{
  "nbformat": 4,
  "nbformat_minor": 5,
  "metadata": {
    "kernelspec": {
      "display_name": "Python 3",
      "language": "python",
      "name": "python3"
    },
    "language_info": {
      "codemirror_mode": {
        "name": "ipython",
        "version": 3
      },
      "file_extension": ".py",
      "mimetype": "text/x-python",
      "name": "python",
      "nbconvert_exporter": "python",
      "pygments_lexer": "ipython3",
      "version": "3.8.8"
    },
    "colab": {
      "provenance": [],
      "collapsed_sections": [],
      "include_colab_link": true
    }
  },
  "cells": [
    {
      "cell_type": "markdown",
      "metadata": {
        "id": "view-in-github",
        "colab_type": "text"
      },
      "source": [
        "<a href=\"https://colab.research.google.com/github/Viktory4121/MAPI/blob/main/solving_SLAE.ipynb\" target=\"_parent\"><img src=\"https://colab.research.google.com/assets/colab-badge.svg\" alt=\"Open In Colab\"/></a>"
      ]
    },
    {
      "cell_type": "markdown",
      "source": [
        "#Решение СЛАУ (псевдообращение методом Фаддеева)"
      ],
      "metadata": {
        "id": "vnOX9NVhktez"
      },
      "id": "vnOX9NVhktez"
    },
    {
      "cell_type": "code",
      "metadata": {
        "colab": {
          "base_uri": "https://localhost:8080/"
        },
        "id": "e243beba",
        "outputId": "c24b17f1-4558-4785-c1f2-cc21005f3b03"
      },
      "source": [
        "import numpy as np\n",
        "\n",
        "#A = np.array([[-9,3,4,1],[3,0,1,-10]])\n",
        "#A = np.array([[8,-5,1,4,-9],[2,5,-1,4,2],[-1,-2,-6,9,5],[6,2,0,-7,2],[6,2,5,9,1],[-5,-1,4,8,-2]])\n",
        "#A = np.array([[10,-62,11,6],[0,24,-5,-7],[1,8,4,12]])\n",
        "#A = np.array([[-1,2,5],[5,2,7],[0,-7,-1],[6,5,4],[1,6,2],[1,2,3],[-7,-4,-1]])\n",
        "#A = np.array([[1,2,7,-2,1],[6,0,4,-2,5],[-4,-8,3,2,1],[7,0,-4,3,2]])\n",
        "A = np.array([[12,7,9,36],[98,3,5,2],[6,78,3,1],[1,3,10,41]])\n",
        "B = np.array([[2],[-7],[4],[1]])\n",
        "\n",
        "def print_matrix(A):\n",
        "  for row in A:\n",
        "    for i in row:\n",
        "      #print(\"{} & \".format(str(round(i))), end = \"\" )\n",
        "      print(\"{}\\t\\t\".format(str(round(i))), end = \"\" )\n",
        "    print()\n",
        "\n",
        "def print_float_matrix(A):\n",
        "  for row in A:\n",
        "    for i in row:\n",
        "      #print(\"{:6f} & \".format(i), end = \"\" )\n",
        "      print(\"{:6f}\\t\\t\".format(i), end = \"\" )\n",
        "    print()\n",
        "\n",
        "#--------------------------------\n",
        "n = len(A[0])\n",
        "A_T = A.transpose()\n",
        "A_T_A = A_T.dot(A) #перемножены транспонированная матрица и обычная\n",
        "F = np.diag(np.diag(np.ones([n,n]))) #единичная матрица\n",
        "mu = sum(np.diag(A_T_A)) #это фи1 (сумма значений матрицы A_T_A по диагонали)\n",
        "#--------------------------------\n",
        "\n",
        "def Faddeev(A_T_A, F, mu, A_T):\n",
        "    n = len(F)\n",
        "    I = np.diag(np.diag(np.ones([n,n])))\n",
        "    i = 2\n",
        "    while mu != 0:\n",
        "        if sum(np.diag(A_T_A.dot(mu*I - A_T_A.dot(F))))/float(i) == 0:\n",
        "            _mu = mu\n",
        "            _F = F\n",
        "        F = mu*I - A_T_A.dot(F)\n",
        "        mu = sum(np.diag(A_T_A.dot(F)))/float(i)\n",
        "        \n",
        "        i+=1\n",
        "\n",
        "    print(\"РЕЗУЛЬТАТ:\\nA*: 1/\", _mu)\n",
        "    A_psevv = _F.dot(A_T)\n",
        "    print_matrix(A_psevv)\n",
        "\n",
        "    print(\"\\nили A*:\")\n",
        "    print_float_matrix(A_psevv/_mu)\n",
        "    return(A_psevv/_mu, _mu)\n",
        "\n",
        "A_psev, muu = Faddeev(A_T_A, F, mu, A_T)"
      ],
      "id": "e243beba",
      "execution_count": 6,
      "outputs": [
        {
          "output_type": "stream",
          "name": "stdout",
          "text": [
            "РЕЗУЛЬТАТ:\n",
            "A*: 1/ 17346470436.0\n",
            "1856264364\t\t-27394848\t\t-102994092\t\t-1626042276\t\t\n",
            "1312186878\t\t-158442318\t\t154886256\t\t-1148212908\t\t\n",
            "-41125857030\t\t4539247290\t\t2137851792\t\t35836939188\t\t\n",
            "9889408422\t\t-1094871978\t\t-530248356\t\t-8193957084\t\t\n",
            "\n",
            "или A*:\n",
            "0.107011\t\t-0.001579\t\t-0.005937\t\t-0.093739\t\t\n",
            "0.075646\t\t-0.009134\t\t0.008929\t\t-0.066193\t\t\n",
            "-2.370849\t\t0.261681\t\t0.123244\t\t2.065950\t\t\n",
            "0.570111\t\t-0.063118\t\t-0.030568\t\t-0.472370\t\t\n"
          ]
        }
      ]
    },
    {
      "cell_type": "code",
      "source": [
        "def check_solvability(A, A_psev, B):\n",
        "  n = len(A)\n",
        "  I = np.diag(np.diag(np.ones([n,n])))\n",
        "  print(\"Проверка на совместность:\")\n",
        "  print(\"A A^+ =\")\n",
        "  print_float_matrix(A.dot(A_psev))\n",
        "  print(\"A A^+ b = \")\n",
        "  print_float_matrix((A.dot(A_psev)).dot(B))\n",
        "  print(\"B =\")\n",
        "  print_float_matrix(B)\n",
        "\n",
        "  private = I - A_psev.dot(A)\n",
        "  return private\n",
        "\n",
        "def slae(A, A_psev, B):\n",
        "  prive = check_solvability(A, A_psev, B)\n",
        "  X = A_psev.dot(B) #общее решение\n",
        "\n",
        "  print(\"\\n\\nРЕШЕНИЕ СЛАУ:\\nX_общее =\")\n",
        "  print_float_matrix(X)\n",
        "  print()\n",
        "  print(\"X_частное = \")\n",
        "  print_float_matrix(prive)\n",
        "\n",
        "  return (X, prive) #общее и частное\n",
        "\n",
        "x_o, x_pr = slae(A, A_psev, B)"
      ],
      "metadata": {
        "id": "J1YN_8uN4Vfo",
        "outputId": "b703fc93-214d-4916-ad45-d681c169025a",
        "colab": {
          "base_uri": "https://localhost:8080/"
        }
      },
      "id": "J1YN_8uN4Vfo",
      "execution_count": 18,
      "outputs": [
        {
          "output_type": "stream",
          "name": "stdout",
          "text": [
            "Проверка на совместность:\n",
            "A A^+ =\n",
            "1.000000\t\t0.000000\t\t0.000000\t\t0.000000\t\t\n",
            "-0.000000\t\t1.000000\t\t0.000000\t\t0.000000\t\t\n",
            "-0.000000\t\t0.000000\t\t1.000000\t\t-0.000000\t\t\n",
            "0.000000\t\t-0.000000\t\t0.000000\t\t1.000000\t\t\n",
            "A A^+ b = \n",
            "2.000000\t\t\n",
            "-7.000000\t\t\n",
            "4.000000\t\t\n",
            "1.000000\t\t\n",
            "B =\n",
            "2.000000\t\t\n",
            "-7.000000\t\t\n",
            "4.000000\t\t\n",
            "1.000000\t\t\n",
            "\n",
            "\n",
            "РЕШЕНИЕ СЛАУ:\n",
            "X_общее =\n",
            "0.107588\t\t\n",
            "0.184752\t\t\n",
            "-4.014540\t\t\n",
            "0.987404\t\t\n",
            "\n",
            "X_частное = \n",
            "0.000000\t\t0.000000\t\t0.000000\t\t0.000000\t\t\n",
            "-0.000000\t\t-0.000000\t\t0.000000\t\t0.000000\t\t\n",
            "0.000000\t\t0.000000\t\t0.000000\t\t0.000000\t\t\n",
            "0.000000\t\t-0.000000\t\t-0.000000\t\t-0.000000\t\t\n"
          ]
        }
      ]
    }
  ]
}