{
  "nbformat": 4,
  "nbformat_minor": 0,
  "metadata": {
    "colab": {
      "provenance": [],
      "authorship_tag": "ABX9TyMpl+eTZzmVCeXO9aqPBSbJ",
      "include_colab_link": true
    },
    "kernelspec": {
      "name": "python3",
      "display_name": "Python 3"
    },
    "language_info": {
      "name": "python"
    }
  },
  "cells": [
    {
      "cell_type": "markdown",
      "metadata": {
        "id": "view-in-github",
        "colab_type": "text"
      },
      "source": [
        "<a href=\"https://colab.research.google.com/github/Viktory4121/MAPI/blob/main/econom_fact.ipynb\" target=\"_parent\"><img src=\"https://colab.research.google.com/assets/colab-badge.svg\" alt=\"Open In Colab\"/></a>"
      ]
    },
    {
      "cell_type": "code",
      "source": [
        "import random\n",
        "import math\n",
        "def random_var():\n",
        "  return random.randint(-300, 300)\n",
        "\n",
        "\n",
        "#Набор данных: для f = x*y*z\n",
        "x = [random_var() for i in range(1,6)]\n",
        "dx = [random_var() for i in range(1,6)]\n",
        "y = [random_var() for i in range(1,6)]\n",
        "dy = [random_var() for i in range(1,6)]\n",
        "z = [random_var() for i in range(1,6)]\n",
        "dz = [random_var() for i in range(1,6)]\n",
        "\n",
        "print(\"x =\", x)\n",
        "print(\"dx =\", dx)\n",
        "print(\"y =\", y)\n",
        "print(\"dy =\", dy)\n",
        "print(\"z =\", z)\n",
        "print(\"dz =\", dz)"
      ],
      "metadata": {
        "id": "8060LpHb6edk",
        "outputId": "30c4329a-1cfd-4cef-f973-b08ced12700a",
        "colab": {
          "base_uri": "https://localhost:8080/"
        }
      },
      "execution_count": 13,
      "outputs": [
        {
          "output_type": "stream",
          "name": "stdout",
          "text": [
            "x = [151, 17, 273, -45, -158]\n",
            "dx = [23, -212, -53, -138, 207]\n",
            "y = [-220, -176, 241, 246, -158]\n",
            "dy = [-52, -266, -278, -25, -279]\n",
            "z = [-43, -129, -192, -13, -260]\n",
            "dz = [142, 126, -112, 196, -16]\n"
          ]
        }
      ]
    },
    {
      "cell_type": "code",
      "execution_count": 17,
      "metadata": {
        "id": "brjd_iT9y3Tr",
        "outputId": "8c2e5be4-eb22-449e-ddfa-78a46404ed72",
        "colab": {
          "base_uri": "https://localhost:8080/"
        }
      },
      "outputs": [
        {
          "output_type": "stream",
          "name": "stdout",
          "text": [
            "df = [-6113932, -644538, 15106816, -7544979, 12400628]\n",
            "lambda = [10.493169720665128, -0.44234406771646095, -4.303564156760845, -9.580239574090506, 16.05302321957301]\n",
            "[0.5104090478573772, -0.3082121908781958, 0.45642959365089325, 0.4845743344463435, 0.5071169519876394]\n",
            "[-7.5058555283007955, 0.6031082360225031, 2.4126131775230033, 5.902252048280661, -11.20913243170298]\n",
            "[-1951907.9999999986, 3962364.0, 5451568.0, -5801958.000000001, 15757812.000000022]\n",
            "[-1951907.9999999888, 3962364.0, 5451567.999999996, -5801957.999999985, 15757812.00000012]\n"
          ]
        }
      ],
      "source": [
        "#delta f\n",
        "df3 = []\n",
        "for i in range(5):\n",
        "  df3.append(dx[i]*y[i]*z[i] + (x[i]+dx[i])*dy[i]*z[i] + (x[i]+dx[i])*(y[i]+dy[i])*dz[i])\n",
        "print(\"df =\", df3)\n",
        "\n",
        "#lambda\n",
        "lambda_3 = []\n",
        "for i in range(5):\n",
        "  lambda_3.append(x[i]/dx[i] + y[i]/dy[i] + z[i]/dz[i])\n",
        "print(\"lambda =\", lambda_3)\n",
        "\n",
        "#alpha\n",
        "alpha_3_plus = []\n",
        "alpha_3_minus = []\n",
        "for i in range(5):\n",
        "  alpha_3_plus.append(lambda_3[i]/3 * (math.sqrt(1 + 3/lambda_3[i] + 3/lambda_3[i]**2) - 1))\n",
        "  alpha_3_minus.append(lambda_3[i]/3 * (-math.sqrt(1 + 3/lambda_3[i] + 3/lambda_3[i]**2) - 1))\n",
        "\n",
        "print(alpha_3_plus)\n",
        "print(alpha_3_minus)\n",
        "\n",
        "df3_plus = []\n",
        "df3_minus = []\n",
        "for i in range(5):\n",
        "  df3_plus.append(2*alpha_3_plus[i]*dx[i]*y[i]*dz[i] + 2*alpha_3_plus[i]*dx[i]*dy[i]*z[i] + 2*alpha_3_plus[i]*x[i]*dy[i]*dz[i] + 3 * alpha_3_plus[i]**2 *dx[i]*dy[i]*dz[i])\n",
        "  df3_minus.append(2*alpha_3_minus[i]*dx[i]*y[i]*dz[i] + 2*alpha_3_minus[i]*dx[i]*dy[i]*z[i] + 2*alpha_3_minus[i]*x[i]*dy[i]*dz[i] + 3 * alpha_3_minus[i]**2 *dx[i]*dy[i]*dz[i])\n",
        "print(df3_plus)\n",
        "print(df3_minus)"
      ]
    },
    {
      "cell_type": "code",
      "source": [],
      "metadata": {
        "id": "XrVU7WPb2h-l",
        "outputId": "ae64c28f-ac3a-41e1-8ae6-fa7e8e728a25",
        "colab": {
          "base_uri": "https://localhost:8080/"
        }
      },
      "execution_count": 4,
      "outputs": [
        {
          "output_type": "execute_result",
          "data": {
            "text/plain": [
              "[169, 237, 173, -151, 164]"
            ]
          },
          "metadata": {},
          "execution_count": 4
        }
      ]
    }
  ]
}