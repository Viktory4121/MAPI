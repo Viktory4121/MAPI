{
  "nbformat": 4,
  "nbformat_minor": 0,
  "metadata": {
    "colab": {
      "provenance": [],
      "authorship_tag": "ABX9TyNWzvx1YQFh+a+w7aiYEecV",
      "include_colab_link": true
    },
    "kernelspec": {
      "name": "python3",
      "display_name": "Python 3"
    },
    "language_info": {
      "name": "python"
    }
  },
  "cells": [
    {
      "cell_type": "markdown",
      "metadata": {
        "id": "view-in-github",
        "colab_type": "text"
      },
      "source": [
        "<a href=\"https://colab.research.google.com/github/Viktory4121/MAPI/blob/main/econom_fact.ipynb\" target=\"_parent\"><img src=\"https://colab.research.google.com/assets/colab-badge.svg\" alt=\"Open In Colab\"/></a>"
      ]
    },
    {
      "cell_type": "code",
      "source": [
        "import random\n",
        "import math\n",
        "def random_var():\n",
        "  return random.randint(-300, 300)\n",
        "\n",
        "\n",
        "#Набор данных: для f = x*y*z\n",
        "x = [random_var() for i in range(1,6)]\n",
        "dx = [random_var() for i in range(1,6)]\n",
        "y = [random_var() for i in range(1,6)]\n",
        "dy = [random_var() for i in range(1,6)]\n",
        "z = [random_var() for i in range(1,6)]\n",
        "dz = [random_var() for i in range(1,6)]\n",
        "\n",
        "print(\"x =\", x)\n",
        "print(\"dx =\", dx)\n",
        "print(\"y =\", y)\n",
        "print(\"dy =\", dy)\n",
        "print(\"z =\", z)\n",
        "print(\"dz =\", dz)"
      ],
      "metadata": {
        "colab": {
          "base_uri": "https://localhost:8080/"
        },
        "id": "8060LpHb6edk",
        "outputId": "1888227a-4aea-4f33-c9de-a439d567f4d6"
      },
      "execution_count": 22,
      "outputs": [
        {
          "output_type": "stream",
          "name": "stdout",
          "text": [
            "x = [-132, -215, 206, -194, 138]\n",
            "dx = [-266, -102, 121, -8, 1]\n",
            "y = [292, -7, 1, 86, -214]\n",
            "dy = [-127, 50, -221, -43, -204]\n",
            "z = [-105, 158, -117, -48, 138]\n",
            "dz = [262, -63, -177, 46, -235]\n"
          ]
        }
      ]
    },
    {
      "cell_type": "code",
      "execution_count": 25,
      "metadata": {
        "id": "brjd_iT9y3Tr",
        "colab": {
          "base_uri": "https://localhost:8080/"
        },
        "outputId": "b60ae3de-25c6-4b13-a34a-0a4dd4cd9ef3"
      },
      "outputs": [
        {
          "output_type": "stream",
          "name": "stdout",
          "text": [
            "df = [-10654122, 147768, 15898539, 351396, 6685798]\n",
            "lambda = [-2.203735355700063, -0.540093370681606, 2.3589714011176897, 21.206521739130434, 138.46178556528997]\n",
            "alpha = [0.3626101959572003, -0.25091367014657834, 0.5319941630710998, 0.505503025804483, 0.50089309237571]\n",
            "df = [-10654122.0, 147768.0, 15898539.000000002, 351395.9999999999, 6685798.00000001]\n"
          ]
        }
      ],
      "source": [
        "#delta f\n",
        "df3 = []\n",
        "for i in range(5):\n",
        "  df3.append(dx[i]*dy[i]*z[i] + x[i]*dy[i]*dz[i] + dx[i]*y[i]*dz[i] + dx[i]*dy[i]*dz[i])\n",
        "print(\"df =\", df3)\n",
        "\n",
        "#lambda\n",
        "lambda_3 = []\n",
        "for i in range(5):\n",
        "  lambda_3.append(x[i]/dx[i] + y[i]/dy[i] + z[i]/dz[i])\n",
        "print(\"lambda =\", lambda_3)\n",
        "\n",
        "#alpha\n",
        "alpha_3_plus = []\n",
        "#alpha_3_minus = []\n",
        "for i in range(5):\n",
        "  alpha_3_plus.append(lambda_3[i]/3 * (math.sqrt(1 + 3/lambda_3[i] + 3/lambda_3[i]**2) - 1))\n",
        "  #alpha_3_minus.append(lambda_3[i]/3 * (-math.sqrt(1 + 3/lambda_3[i] + 3/lambda_3[i]**2) - 1))\n",
        "\n",
        "print(\"alpha =\", alpha_3_plus)\n",
        "#print(alpha_3_minus)\n",
        "\n",
        "df3_plus = []\n",
        "#df3_minus = []\n",
        "for i in range(5):\n",
        "  df3_plus.append(2*alpha_3_plus[i]*dx[i]*y[i]*dz[i] + 2*alpha_3_plus[i]*dx[i]*dy[i]*z[i] + 2*alpha_3_plus[i]*x[i]*dy[i]*dz[i] + 3 * alpha_3_plus[i]**2 *dx[i]*dy[i]*dz[i])\n",
        "  #df3_minus.append(2*alpha_3_minus[i]*dx[i]*y[i]*dz[i] + 2*alpha_3_minus[i]*dx[i]*dy[i]*z[i] + 2*alpha_3_minus[i]*x[i]*dy[i]*dz[i] + 3 * alpha_3_minus[i]**2 *dx[i]*dy[i]*dz[i])\n",
        "print(\"df =\", df3_plus)\n",
        "#print(df3_minus)"
      ]
    },
    {
      "cell_type": "code",
      "source": [
        "def random_var2():\n",
        "  return random.randint(-10, 300)\n",
        "#Набор данных: для f = x*y*z*w\n",
        "x = [abs(random_var2()) for i in range(1,6)]\n",
        "dx = [random_var2() for i in range(1,6)]\n",
        "y = [abs(random_var2()) for i in range(1,6)]\n",
        "dy = [random_var2() for i in range(1,6)]\n",
        "z = [abs(random_var2()) for i in range(1,6)]\n",
        "dz = [random_var2() for i in range(1,6)]\n",
        "w = [abs(random_var2()) for i in range(1,6)]\n",
        "dw = [random_var2() for i in range(1,6)]\n",
        "print(\"x =\", x)\n",
        "print(\"dx =\", dx)\n",
        "print(\"y =\", y)\n",
        "print(\"dy =\", dy)\n",
        "print(\"z =\", z)\n",
        "print(\"dz =\", dz)\n",
        "print(\"w =\", w)\n",
        "print(\"dw =\", dw)"
      ],
      "metadata": {
        "colab": {
          "base_uri": "https://localhost:8080/"
        },
        "id": "XrVU7WPb2h-l",
        "outputId": "19536c76-a53c-41ff-f11a-a681c9fecee0"
      },
      "execution_count": 53,
      "outputs": [
        {
          "output_type": "stream",
          "name": "stdout",
          "text": [
            "x = [224, 28, 104, 104, 284]\n",
            "dx = [133, 28, 168, 118, 122]\n",
            "y = [122, 171, 182, 155, 89]\n",
            "dy = [32, 125, 181, 106, -1]\n",
            "z = [9, 258, 282, 280, 12]\n",
            "dz = [88, 36, 145, 132, 178]\n",
            "w = [4, 126, 178, 223, 285]\n",
            "dw = [207, 23, 32, 10, 257]\n"
          ]
        }
      ]
    },
    {
      "cell_type": "code",
      "source": [
        "#delta f\n",
        "df4 = []\n",
        "for i in range(5):\n",
        "  df4.append(dx[i]*y[i]*z[i]*w[i] + (x[i]+dx[i])*dy[i]*z[i]*w[i] + \n",
        "             (x[i]+dx[i])*(y[i]+dy[i])*dz[i]*w[i] + (x[i]+dx[i])*(y[i]+dy[i])*(z[i]+dz[i])*dw[i])\n",
        "print(\"df =\", df4)\n",
        "\n",
        "#lambda\n",
        "lambda1 = []\n",
        "lambda2 = []\n",
        "for i in range(5):\n",
        "  lambda1.append(x[i]/dx[i] + y[i]/dy[i] + z[i]/dz[i] + w[i]/dw[i])\n",
        "  lambda2.append(x[i]/dx[i] * y[i]/dy[i] + x[i]/dx[i] * z[i]/dz[i] + x[i]/dx[i] * w[i]/dw[i] +\n",
        "                 y[i]/dy[i] * z[i]/dz[i] + y[i]/dy[i] * w[i]/dw[i] + z[i]/dz[i] * w[i]/dw[i])\n",
        "print(\"lambda1 =\", lambda1)\n",
        "print(\"lambda2 =\", lambda2)\n",
        "\n",
        "#beta\n",
        "beta = []\n",
        "for i in range(5):\n",
        "  beta.append((-27*lambda1[i]**3 + 108*lambda1[i]*lambda2[i] + 216*(lambda1[i]+lambda2[i]+1) +\n",
        "               12*((-81*lambda1[i]**4 - 27*lambda1[i]**2 * lambda2[i]**2 - 81*lambda1[i]**3 * lambda2[i]) +\n",
        "              (-81*lambda1[i]**3 + 96*lambda2[i]**3 + 324*(lambda1[i]**2 * lambda2[i] + lambda1[i]*lambda2[i]**2)) +\n",
        "              (324*(lambda1[i]**2+lambda2[i]**2) + 972*lambda1[i]*lambda2[i]) +\n",
        "              (628*(lambda1[i]+lambda2[i]) + 324))**(1/2))**(1/3))\n",
        "\n",
        "print(\"beta =\", beta)\n",
        "\n",
        "#alpha\n",
        "alpha_4 = []\n",
        "for i in range(5):\n",
        "  alpha_4.append(1/12 * beta[i] - (2*lambda2[i] - 3/4*lambda1[i]**2)/beta[i] - 1/4*lambda1[i])\n",
        "\n",
        "print(\"alpha =\", alpha_4)\n",
        "\n",
        "df4_ = []\n",
        "for i in range(5):\n",
        "  df4_.append()\n",
        "print(\"df =\", df4_)"
      ],
      "metadata": {
        "id": "km2LFblQUcTA",
        "outputId": "31bb961a-ea3b-4a2d-ae3d-698cf970efe0",
        "colab": {
          "base_uri": "https://localhost:8080/",
          "height": 324
        }
      },
      "execution_count": 54,
      "outputs": [
        {
          "output_type": "stream",
          "name": "stdout",
          "text": [
            "df = [1124250918, 570479952, 7903547232, 4555667432, 3592825520]\n",
            "lambda1 = [5.6183069250861015, 15.012927536231885, 9.131900067132968, 26.764832204358907, -85.4957660008615]\n",
            "lambda2 = [7.091409121246792, 70.57205797101449, 23.636769021763783, 105.82584866897307, -309.063641504444]\n",
            "beta = [16.660429410977404, 43.634558988597455, 27.041153206449223, (43.29260734444241+45.090401468932484j), (270.31178015871257+11.610463794215361j)]\n",
            "alpha = [0.5534782600489041, 0.5223112817069868, 0.535155225775962, (0.5242188087058279+8.01726702981398e-06j), (66.42590488175165-9.342449036608969e-10j)]\n"
          ]
        },
        {
          "output_type": "error",
          "ename": "TypeError",
          "evalue": "ignored",
          "traceback": [
            "\u001b[0;31m---------------------------------------------------------------------------\u001b[0m",
            "\u001b[0;31mTypeError\u001b[0m                                 Traceback (most recent call last)",
            "\u001b[0;32m<ipython-input-54-c81b40f83010>\u001b[0m in \u001b[0;36m<module>\u001b[0;34m\u001b[0m\n\u001b[1;32m     36\u001b[0m \u001b[0mdf4_\u001b[0m \u001b[0;34m=\u001b[0m \u001b[0;34m[\u001b[0m\u001b[0;34m]\u001b[0m\u001b[0;34m\u001b[0m\u001b[0;34m\u001b[0m\u001b[0m\n\u001b[1;32m     37\u001b[0m \u001b[0;32mfor\u001b[0m \u001b[0mi\u001b[0m \u001b[0;32min\u001b[0m \u001b[0mrange\u001b[0m\u001b[0;34m(\u001b[0m\u001b[0;36m5\u001b[0m\u001b[0;34m)\u001b[0m\u001b[0;34m:\u001b[0m\u001b[0;34m\u001b[0m\u001b[0;34m\u001b[0m\u001b[0m\n\u001b[0;32m---> 38\u001b[0;31m   \u001b[0mdf4_\u001b[0m\u001b[0;34m.\u001b[0m\u001b[0mappend\u001b[0m\u001b[0;34m(\u001b[0m\u001b[0;34m)\u001b[0m\u001b[0;34m\u001b[0m\u001b[0;34m\u001b[0m\u001b[0m\n\u001b[0m\u001b[1;32m     39\u001b[0m \u001b[0mprint\u001b[0m\u001b[0;34m(\u001b[0m\u001b[0;34m\"df =\"\u001b[0m\u001b[0;34m,\u001b[0m \u001b[0mdf4_\u001b[0m\u001b[0;34m)\u001b[0m\u001b[0;34m\u001b[0m\u001b[0;34m\u001b[0m\u001b[0m\n",
            "\u001b[0;31mTypeError\u001b[0m: append() takes exactly one argument (0 given)"
          ]
        }
      ]
    }
  ]
}