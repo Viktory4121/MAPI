{
  "nbformat": 4,
  "nbformat_minor": 0,
  "metadata": {
    "colab": {
      "provenance": [],
      "authorship_tag": "ABX9TyNQ3Y/lsI3+NE+n3LUquvnG",
      "include_colab_link": true
    },
    "kernelspec": {
      "name": "python3",
      "display_name": "Python 3"
    },
    "language_info": {
      "name": "python"
    }
  },
  "cells": [
    {
      "cell_type": "markdown",
      "metadata": {
        "id": "view-in-github",
        "colab_type": "text"
      },
      "source": [
        "<a href=\"https://colab.research.google.com/github/Viktory4121/MAPI/blob/main/econom_fact.ipynb\" target=\"_parent\"><img src=\"https://colab.research.google.com/assets/colab-badge.svg\" alt=\"Open In Colab\"/></a>"
      ]
    },
    {
      "cell_type": "code",
      "source": [
        "import random\n",
        "import math\n",
        "def random_var(i):\n",
        "  return random.randint(-i, i)\n",
        "\n",
        "\n",
        "#Набор данных: для f = x*y*z\n",
        "#x = [abs(random_var(10)) for i in range(1,6)]\n",
        "x = [987.45, 748.3, 2.57, 382.34, 78.1]\n",
        "dx = [random_var(100) for i in range(1,6)]\n",
        "\n",
        "#y = [abs(random_var(300)) for i in range(1,6)]\n",
        "y = [9.546, 98.123, 674.32, 789.43, 45.2]\n",
        "dy = [random_var(300) for i in range(1,6)]\n",
        "\n",
        "#z = [abs(random_var(2000)) for i in range(1,6)]\n",
        "z = [768.4, 438.3, 4.56, 54.67, 75.2]\n",
        "dz = [random_var(250) for i in range(1,6)]\n",
        "\n",
        "print(\"x =\", x)\n",
        "print(\"dx =\", dx)\n",
        "print(\"y =\", y)\n",
        "print(\"dy =\", dy)\n",
        "print(\"z =\", z)\n",
        "print(\"dz =\", dz)"
      ],
      "metadata": {
        "colab": {
          "base_uri": "https://localhost:8080/"
        },
        "id": "8060LpHb6edk",
        "outputId": "d34f72d4-9b92-48b6-e1d9-2627569495a0"
      },
      "execution_count": 40,
      "outputs": [
        {
          "output_type": "stream",
          "name": "stdout",
          "text": [
            "x = [987.45, 748.3, 2.57, 382.34, 78.1]\n",
            "dx = [22, -1, -61, -22, -50]\n",
            "y = [9.546, 98.123, 674.32, 789.43, 45.2]\n",
            "dy = [-83, -224, 28, 87, -251]\n",
            "z = [768.4, 438.3, 4.56, 54.67, 75.2]\n",
            "dz = [-109, 101, 11, 241, -196]\n"
          ]
        }
      ]
    },
    {
      "cell_type": "code",
      "execution_count": 48,
      "metadata": {
        "id": "brjd_iT9y3Tr",
        "colab": {
          "base_uri": "https://localhost:8080/"
        },
        "outputId": "98f20e6d-20c3-46d5-8f3e-45e6b066f470"
      },
      "outputs": [
        {
          "output_type": "stream",
          "name": "stdout",
          "text": [
            "df = [-56136374.0265, -82913179.563, -646431.3271999999, 76875283.9746, 433118.95999999996]\n",
            "lambda = [37.71953757649447, -744.3984451467468, 24.455271449861613, -8.078336390084853, -2.1257531506626552]\n",
            "alpha = [0.503186798575288, 0.49983174018150045, 0.504814637717693, 0.48107986045424045, 0.3524372532891739]\n",
            "df = [7706504.441999989, -16818646.4229995, -478253.6399999998, 3265052.54, 2769127.6]\n"
          ]
        }
      ],
      "source": [
        "#delta f\n",
        "df3 = []\n",
        "for i in range(5):\n",
        "  #df3.append(dx[i]*dy[i]*z[i] + x[i]*dy[i]*dz[i] + dx[i]*y[i]*dz[i] + dx[i]*dy[i]*dz[i])\n",
        "  df3.append(dx[i]*y[i]*z[i] + (x[i]+dx[i])*dy[i]*z[i] + (x[i]+dx[i])*(y[i]+dy[i])*dz[i])\n",
        "print(\"df =\", df3)\n",
        "\n",
        "#lambda\n",
        "lambda_3 = []\n",
        "for i in range(5):\n",
        "  lambda_3.append(x[i]/dx[i] + y[i]/dy[i] + z[i]/dz[i])\n",
        "print(\"lambda =\", lambda_3)\n",
        "\n",
        "#alpha\n",
        "alpha = []\n",
        "#alpha_3_minus = []\n",
        "for i in range(5):\n",
        "  alpha.append((lambda_3[i]/3.0) * (math.sqrt(1 + (3.0/lambda_3[i]) + (3.0/(lambda_3[i]**2))) - 1))\n",
        "  #alpha_3_minus.append(lambda_3[i]/3 * (-math.sqrt(1 + 3/lambda_3[i] + 3/lambda_3[i]**2) - 1))\n",
        "\n",
        "print(\"alpha =\", alpha_3_plus)\n",
        "#print(alpha_3_minus)\n",
        "\n",
        "df3_plus = []\n",
        "#df3_minus = []\n",
        "for i in range(5):\n",
        "  df3_plus.append((2.0*alpha[i]*dx[i]*y[i]*dz[i]) + (2.0*alpha[i]*dx[i]*dy[i]*z[i]) + (2.0*alpha[i]*x[i]*dy[i]*dz[i] + 3 * alpha_3_plus[i]**2 *dx[i]*dy[i]*dz[i])\n",
        "  #df3_minus.append(2*alpha_3_minus[i]*dx[i]*y[i]*dz[i] + 2*alpha_3_minus[i]*dx[i]*dy[i]*z[i] + 2*alpha_3_minus[i]*x[i]*dy[i]*dz[i] + 3 * alpha_3_minus[i]**2 *dx[i]*dy[i]*dz[i])\n",
        "print(\"df =\", df3_plus)\n",
        "#print(df3_minus)"
      ]
    },
    {
      "cell_type": "code",
      "source": [
        "def random_var2():\n",
        "  return random.randint(-10, 300)\n",
        "#Набор данных: для f = x*y*z*w\n",
        "x = [abs(random_var2()) for i in range(1,6)]\n",
        "dx = [random_var2() for i in range(1,6)]\n",
        "y = [abs(random_var2()) for i in range(1,6)]\n",
        "dy = [random_var2() for i in range(1,6)]\n",
        "z = [abs(random_var2()) for i in range(1,6)]\n",
        "dz = [random_var2() for i in range(1,6)]\n",
        "w = [abs(random_var2()) for i in range(1,6)]\n",
        "dw = [random_var2() for i in range(1,6)]\n",
        "print(\"x =\", x)\n",
        "print(\"dx =\", dx)\n",
        "print(\"y =\", y)\n",
        "print(\"dy =\", dy)\n",
        "print(\"z =\", z)\n",
        "print(\"dz =\", dz)\n",
        "print(\"w =\", w)\n",
        "print(\"dw =\", dw)"
      ],
      "metadata": {
        "colab": {
          "base_uri": "https://localhost:8080/"
        },
        "id": "XrVU7WPb2h-l",
        "outputId": "3f274a96-01db-4f06-9324-9b52f9aa7f63"
      },
      "execution_count": 3,
      "outputs": [
        {
          "output_type": "stream",
          "name": "stdout",
          "text": [
            "x = [273, 267, 272, 79, 53]\n",
            "dx = [118, 134, 16, 259, 167]\n",
            "y = [274, 110, 222, 12, 25]\n",
            "dy = [197, 192, 95, 88, 221]\n",
            "z = [166, 14, 250, 3, 9]\n",
            "dz = [261, 186, 28, 133, 116]\n",
            "w = [275, 274, 92, 277, 243]\n",
            "dw = [3, 85, 155, 261, 236]\n"
          ]
        }
      ]
    },
    {
      "cell_type": "code",
      "source": [
        "#delta f\n",
        "df4 = []\n",
        "for i in range(5):\n",
        "  df4.append(dx[i]*y[i]*z[i]*w[i] + (x[i]+dx[i])*dy[i]*z[i]*w[i] + \n",
        "             (x[i]+dx[i])*(y[i]+dy[i])*dz[i]*w[i] + (x[i]+dx[i])*(y[i]+dy[i])*(z[i]+dz[i])*dw[i])\n",
        "print(\"df =\", df4)\n",
        "\n",
        "#lambda\n",
        "lambda1 = []\n",
        "lambda2 = []\n",
        "for i in range(5):\n",
        "  lambda1.append(x[i]/dx[i] + y[i]/dy[i] + z[i]/dz[i] + w[i]/dw[i])\n",
        "  lambda2.append(x[i]/dx[i] * y[i]/dy[i] + x[i]/dx[i] * z[i]/dz[i] + x[i]/dx[i] * w[i]/dw[i] +\n",
        "                 y[i]/dy[i] * z[i]/dz[i] + y[i]/dy[i] * w[i]/dw[i] + z[i]/dz[i] * w[i]/dw[i])\n",
        "print(\"lambda1 =\", lambda1)\n",
        "print(\"lambda2 =\", lambda2)\n",
        "\n",
        "#beta\n",
        "beta = []\n",
        "for i in range(5):\n",
        "  beta.append((-27*lambda1[i]**3 + 108*lambda1[i]*lambda2[i] + 216*(lambda1[i]+lambda2[i]+1) +\n",
        "               12*((-81*lambda1[i]**4 - 27*lambda1[i]**2 * lambda2[i]**2 - 81*lambda1[i]**3 * lambda2[i]) +\n",
        "              (-81*lambda1[i]**3 + 96*lambda2[i]**3 + 324*(lambda1[i]**2 * lambda2[i] + lambda1[i]*lambda2[i]**2)) +\n",
        "              (324*(lambda1[i]**2+lambda2[i]**2) + 972*lambda1[i]*lambda2[i]) +\n",
        "              (628*(lambda1[i]+lambda2[i]) + 324))**(1/2))**(1/3))\n",
        "\n",
        "print(\"beta =\", beta)\n",
        "\n",
        "#alpha\n",
        "alpha_4 = []\n",
        "for i in range(5):\n",
        "  alpha_4.append(1/12 * beta[i] - (2*lambda2[i] - 3/4*lambda1[i]**2)/beta[i] - 1/4*lambda1[i])\n",
        "\n",
        "print(\"alpha =\", alpha_4)\n",
        "\n",
        "df4_ = []\n",
        "for i in range(5):\n",
        "  df4_.append()\n",
        "print(\"df =\", df4_)"
      ],
      "metadata": {
        "id": "km2LFblQUcTA",
        "outputId": "dbcc2790-c358-47d0-e29f-75b0fd4e001f",
        "colab": {
          "base_uri": "https://localhost:8080/",
          "height": 324
        }
      },
      "execution_count": 4,
      "outputs": [
        {
          "output_type": "stream",
          "name": "stdout",
          "text": [
            "df = [18446304366, 8582460280, 4880099136, 2472290612, 3237537225]\n",
            "lambda1 = [96.0071042585335, 5.86425220906851, 28.858961920931364, 1.525242014352722, 1.5377346652524833]\n",
            "lambda2 = [403.44735918532075, 9.84710412792143, 229.15358234295417, 0.5439296055059601, 0.5924445656739973]\n",
            "beta = [(147.14376605314314+227.20530846248909j), 20.608301726307932, 58.8044595502053, 10.937792529887478, 11.046229865751782]\n",
            "alpha = [(0.522184929279156+2.3076111688169476e-08j), 0.5471898806554576, 0.5140322421948191, 0.5902312355043347, 0.5893689896314748]\n"
          ]
        },
        {
          "output_type": "error",
          "ename": "TypeError",
          "evalue": "ignored",
          "traceback": [
            "\u001b[0;31m---------------------------------------------------------------------------\u001b[0m",
            "\u001b[0;31mTypeError\u001b[0m                                 Traceback (most recent call last)",
            "\u001b[0;32m<ipython-input-4-c81b40f83010>\u001b[0m in \u001b[0;36m<module>\u001b[0;34m\u001b[0m\n\u001b[1;32m     36\u001b[0m \u001b[0mdf4_\u001b[0m \u001b[0;34m=\u001b[0m \u001b[0;34m[\u001b[0m\u001b[0;34m]\u001b[0m\u001b[0;34m\u001b[0m\u001b[0;34m\u001b[0m\u001b[0m\n\u001b[1;32m     37\u001b[0m \u001b[0;32mfor\u001b[0m \u001b[0mi\u001b[0m \u001b[0;32min\u001b[0m \u001b[0mrange\u001b[0m\u001b[0;34m(\u001b[0m\u001b[0;36m5\u001b[0m\u001b[0;34m)\u001b[0m\u001b[0;34m:\u001b[0m\u001b[0;34m\u001b[0m\u001b[0;34m\u001b[0m\u001b[0m\n\u001b[0;32m---> 38\u001b[0;31m   \u001b[0mdf4_\u001b[0m\u001b[0;34m.\u001b[0m\u001b[0mappend\u001b[0m\u001b[0;34m(\u001b[0m\u001b[0;34m)\u001b[0m\u001b[0;34m\u001b[0m\u001b[0;34m\u001b[0m\u001b[0m\n\u001b[0m\u001b[1;32m     39\u001b[0m \u001b[0mprint\u001b[0m\u001b[0;34m(\u001b[0m\u001b[0;34m\"df =\"\u001b[0m\u001b[0;34m,\u001b[0m \u001b[0mdf4_\u001b[0m\u001b[0;34m)\u001b[0m\u001b[0;34m\u001b[0m\u001b[0;34m\u001b[0m\u001b[0m\n",
            "\u001b[0;31mTypeError\u001b[0m: append() takes exactly one argument (0 given)"
          ]
        }
      ]
    }
  ]
}