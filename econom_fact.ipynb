{
  "nbformat": 4,
  "nbformat_minor": 0,
  "metadata": {
    "colab": {
      "provenance": [],
      "authorship_tag": "ABX9TyPnwvGevlcATC5O3bqVRNSl",
      "include_colab_link": true
    },
    "kernelspec": {
      "name": "python3",
      "display_name": "Python 3"
    },
    "language_info": {
      "name": "python"
    }
  },
  "cells": [
    {
      "cell_type": "markdown",
      "metadata": {
        "id": "view-in-github",
        "colab_type": "text"
      },
      "source": [
        "<a href=\"https://colab.research.google.com/github/Viktory4121/MAPI/blob/main/econom_fact.ipynb\" target=\"_parent\"><img src=\"https://colab.research.google.com/assets/colab-badge.svg\" alt=\"Open In Colab\"/></a>"
      ]
    },
    {
      "cell_type": "code",
      "source": [
        "import random\n",
        "import math\n",
        "def random_var(i):\n",
        "  return random.randint(-i, i)\n",
        "#Набор данных: для f = x*y*z\n",
        "#x = [abs(random_var(10)) for i in range(1,6)]\n",
        "#dx = [random_var(300) for i in range(1,6)]\n",
        "#y = [abs(random_var(300)) for i in range(1,6)]\n",
        "#dy = [random_var(300) for i in range(1,6)]\n",
        "#z = [abs(random_var(2000)) for i in range(1,6)]\n",
        "#dz = [random_var(250) for i in range(1,6)]"
      ],
      "metadata": {
        "colab": {
          "base_uri": "https://localhost:8080/"
        },
        "id": "8060LpHb6edk",
        "outputId": "705007f7-b3f3-4fa6-f6ba-0caf1560fa3c"
      },
      "execution_count": 68,
      "outputs": [
        {
          "output_type": "stream",
          "name": "stdout",
          "text": [
            "x = [87.45, 748.3, 2.57, 382.34, 78.1]\n",
            "dx = [87.45, -78.3, 2.57, -382.34, -78.1]\n",
            "y = [9.546, 98.123, 674.32, 789.43, 45.2]\n",
            "dy = [-4.89, -9.23, 674.32, 7.43, -45.2]\n",
            "z = [76.4, 43.3, 4.56, 54.67, 75.2]\n",
            "dz = [67.4, -4.3, -14.56, 5.88, -75.2]\n"
          ]
        }
      ]
    },
    {
      "cell_type": "code",
      "execution_count": 229,
      "metadata": {
        "id": "brjd_iT9y3Tr",
        "colab": {
          "base_uri": "https://localhost:8080/"
        },
        "outputId": "98cfe080-d3f9-47b4-812f-30a9579b3776"
      },
      "outputs": [
        {
          "output_type": "stream",
          "name": "stdout",
          "text": [
            "x = [187.9791, 748.3, 2.57, 382.34, 127.1]\n",
            "dx = [-287.128, 778.3, -12.57, -1382.34, -111.1]\n",
            "y = [9.024, 98.123, 674.32, 789.43, 125.2]\n",
            "dy = [-14.911, -29.23, -674.32, -827.43, -145.2]\n",
            "z = [296.433, 43.3, 4.56, 65.67, 75.92]\n",
            "dz = [-285.134, 41.3, -124.56, -180.88, -105.251]\n",
            "df = [1586387.7840771934, 326072.7130700005, 254514.26188799995, 122834353.02800998, 2933251.24532]\n",
            "lambda = [-2.299505237605852, -1.3470472117579813, -1.24106391490888, -1.593722018495868, -2.727596667450822]\n",
            "alpha = [0.3736194303028052, 0.1558728908770016, 0.11238563249238523, 0.2408800126654544, 0.4084224278273084]\n",
            "df = [1586387.7840771936, 326072.71306999994, 254514.26188799992, 122834353.02800995, 2933251.2453199993]\n"
          ]
        }
      ],
      "source": [
        "x = [187.9791, 748.3, 2.57, 382.34, 127.1]\n",
        "dx = [-287.128, 778.3, -12.57, -1382.34, -111.1]\n",
        "y = [9.024, 98.123, 674.32, 789.43, 125.2]\n",
        "dy = [-14.911, -29.23, -674.32, -827.43, -145.2]\n",
        "z = [296.433, 43.3, 4.56, 65.67, 75.92]\n",
        "dz = [-285.134, 41.3, -124.56, -180.88, -105.251]\n",
        "print(\"x =\", x)\n",
        "print(\"dx =\", dx)\n",
        "print(\"y =\", y)\n",
        "print(\"dy =\", dy)\n",
        "print(\"z =\", z)\n",
        "print(\"dz =\", dz)\n",
        "\n",
        "#delta f\n",
        "df3 = []\n",
        "lambda_3 = []\n",
        "alpha = []\n",
        "df3_plus = []\n",
        "for i in range(5):\n",
        "  df3.append(dx[i]*dy[i]*z[i] + x[i]*dy[i]*dz[i] + dx[i]*y[i]*dz[i] + dx[i]*dy[i]*dz[i])\n",
        "print(\"df =\", df3)\n",
        "for i in range(5):\n",
        "  lambda_3.append(x[i]/dx[i] + y[i]/dy[i] + z[i]/dz[i])\n",
        "print(\"lambda =\", lambda_3)\n",
        "for i in range(5):\n",
        "  alpha.append((lambda_3[i]/3.0) * (math.sqrt(1 + (3.0/lambda_3[i]) + (3.0/(lambda_3[i]**2))) - 1))\n",
        "print(\"alpha =\", alpha)\n",
        "for i in range(5):\n",
        "  df3_plus.append((2.0*alpha[i]*dx[i]*y[i]*dz[i]) + (2.0*alpha[i]*dx[i]*dy[i]*z[i]) + (2.0*alpha[i]*x[i]*dy[i]*dz[i]) + (3.0*(alpha[i]**2)*dx[i]*dy[i]*dz[i]))\n",
        "print(\"df =\", df3_plus)"
      ]
    },
    {
      "cell_type": "code",
      "source": [
        "#Набор данных: для f = x*y*z*w\n",
        "x = [273, 267, 272, 79, 53]\n",
        "dx = [-118, 134, -16, 259, 167]\n",
        "y = [274, 110, 222, 12, 25]\n",
        "dy = [197, 192, -95, 88, -221]\n",
        "z = [166, 194, 250, 3, 9]\n",
        "dz = [-161, -186, 28, 133, 116]\n",
        "w = [275, 274, 92, 277, 243]\n",
        "dw = [-3, -85, 155, -261, 236]\n",
        "print(\"x =\", x)\n",
        "print(\"dx =\", dx)\n",
        "print(\"y =\", y)\n",
        "print(\"dy =\", dy)\n",
        "print(\"z =\", z)\n",
        "print(\"dz =\", dz)\n",
        "print(\"w =\", w)\n",
        "print(\"dw =\", dw)\n",
        "#delta f\n",
        "df4 = []\n",
        "for i in range(5):\n",
        "  df4.append((dx[i]*y[i]*z[i]*w[i]) + ((x[i]+dx[i])*dy[i]*z[i]*w[i]) + \n",
        "             ((x[i]+dx[i])*(y[i]+dy[i])*dz[i]*w[i]) + ((x[i]+dx[i])*(y[i]+dy[i])*(z[i]+dz[i])*dw[i]))\n",
        "print(\"df =\", df4)\n",
        "\n",
        "#lambda\n",
        "lambda1 = []\n",
        "lambda2 = []\n",
        "for i in range(5):\n",
        "  lambda1.append(x[i]/dx[i] + y[i]/dy[i] + z[i]/dz[i] + w[i]/dw[i])\n",
        "  lambda2.append(x[i]/dx[i] * y[i]/dy[i] + x[i]/dx[i] * z[i]/dz[i] + x[i]/dx[i] * w[i]/dw[i] +\n",
        "                 y[i]/dy[i] * z[i]/dz[i] + y[i]/dy[i] * w[i]/dw[i] + z[i]/dz[i] * w[i]/dw[i])\n",
        "print(\"lambda1 =\", lambda1)\n",
        "print(\"lambda2 =\", lambda2)\n",
        "\n",
        "#beta\n",
        "beta = []\n",
        "for i in range(5):\n",
        "  beta.append((-27*lambda1[i]**3 + 108*lambda1[i]*lambda2[i] + 216*(lambda1[i]+lambda2[i]+1) +\n",
        "               12*((-81*lambda1[i]**4 - 27*lambda1[i]**2 * lambda2[i]**2 - 81*lambda1[i]**3 * lambda2[i]) +\n",
        "              (-81*lambda1[i]**3 + 96*lambda2[i]**3 + 324*(lambda1[i]**2 * lambda2[i] + lambda1[i]*lambda2[i]**2)) +\n",
        "              (324*(lambda1[i]**2+lambda2[i]**2) + 972*lambda1[i]*lambda2[i]) +\n",
        "              (628*(lambda1[i]+lambda2[i]) + 324))**(1/2))**(1/3))\n",
        "\n",
        "print(\"beta =\", beta)\n",
        "\n",
        "#alpha\n",
        "alpha_4 = []\n",
        "for i in range(5):\n",
        "  alpha_4.append(1/12 * beta[i] - (2*lambda2[i] - 3/4*lambda1[i]**2)/beta[i] - 1/4*lambda1[i])\n",
        "\n",
        "print(\"alpha =\", alpha_4)\n",
        "\n",
        "df4_ = []\n",
        "for i in range(5):\n",
        "  df4_.append((y[i]+alpha_4[i]*dy[i])*(z[i]+alpha_4[i]*dz[i])*(w[i]+alpha_4[i]*dw[i])*dx[i] +\n",
        "              (x[i]+alpha_4[i]*dx[i])*(z[i]+alpha_4[i]*dz[i])*(w[i]+alpha_4[i]*dw[i])*dy[i] +\n",
        "              (x[i]+alpha_4[i]*dx[i])*(y[i]+alpha_4[i]*dy[i])*(w[i]+alpha_4[i]*dw[i])*dz[i] +\n",
        "              (x[i]+alpha_4[i]*dx[i])*(y[i]+alpha_4[i]*dy[i])*(z[i]+alpha_4[i]*dz[i])*dw[i])\n",
        "print(\"df =\", df4_)"
      ],
      "metadata": {
        "id": "km2LFblQUcTA",
        "outputId": "46ee4af8-227b-485d-9736-d92d06293545",
        "colab": {
          "base_uri": "https://localhost:8080/"
        }
      },
      "execution_count": 234,
      "outputs": [
        {
          "output_type": "stream",
          "name": "stdout",
          "text": [
            "x = [273, 267, 272, 79, 53]\n",
            "dx = [-118, 134, -16, 259, 167]\n",
            "y = [274, 110, 222, 12, 25]\n",
            "dy = [197, 192, -95, 88, -221]\n",
            "z = [166, 194, 250, 3, 9]\n",
            "dz = [-161, -186, 28, 133, 116]\n",
            "w = [275, 274, 92, 277, 243]\n",
            "dw = [-3, -85, 155, -261, 236]\n",
            "df = [-3315424500, -1378085496, 843636992, 72761012, -2584707775]\n",
            "lambda1 = [-93.62041894515926, -1.7010861843533753, -9.814722289594956, -0.5973633496319523, 1.3114903213610807]\n",
            "lambda2 = [176.8274664765674, -6.441878772251959, -139.10187242299298, -0.44083050992566164, 0.27013404682630904]\n",
            "beta = [(273.1926831105781+2.223579310058649j), (11.416953986074484+7.075424893193645j), (61.0837124757779+21.77558007079664j), 3.875192639293566, 10.212177288050903]\n",
            "alpha = [(68.93721858367945+3.5595998371107385e-11j), (2.3293621643454765-0.0007839294442525402j), (12.634309102825682-3.4880391150959866e-06j), 0.7688506195602671, 0.5965581785678451]\n",
            "df = [(-3315424194.663086-7.457016218967491j), (-1378937238.1653147-9072738.51253742j), (843649410.124012-20554.557377492034j), -21337312.764903784, -2574704647.870213]\n"
          ]
        }
      ]
    }
  ]
}