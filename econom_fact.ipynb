{
  "nbformat": 4,
  "nbformat_minor": 0,
  "metadata": {
    "colab": {
      "provenance": [],
      "authorship_tag": "ABX9TyM3hsMRoUJXgaLxUM8e6gPX",
      "include_colab_link": true
    },
    "kernelspec": {
      "name": "python3",
      "display_name": "Python 3"
    },
    "language_info": {
      "name": "python"
    }
  },
  "cells": [
    {
      "cell_type": "markdown",
      "metadata": {
        "id": "view-in-github",
        "colab_type": "text"
      },
      "source": [
        "<a href=\"https://colab.research.google.com/github/Viktory4121/MAPI/blob/main/econom_fact.ipynb\" target=\"_parent\"><img src=\"https://colab.research.google.com/assets/colab-badge.svg\" alt=\"Open In Colab\"/></a>"
      ]
    },
    {
      "cell_type": "code",
      "source": [
        "import random\n",
        "import math\n",
        "def random_var(i):\n",
        "  return random.randint(-i, i)\n",
        "#Набор данных: для f = x*y*z\n",
        "#x = [abs(random_var(10)) for i in range(1,6)]\n",
        "#dx = [random_var(300) for i in range(1,6)]\n",
        "#y = [abs(random_var(300)) for i in range(1,6)]\n",
        "#dy = [random_var(300) for i in range(1,6)]\n",
        "#z = [abs(random_var(2000)) for i in range(1,6)]\n",
        "#dz = [random_var(250) for i in range(1,6)]"
      ],
      "metadata": {
        "id": "8060LpHb6edk"
      },
      "execution_count": 1,
      "outputs": []
    },
    {
      "cell_type": "markdown",
      "source": [
        "#3 factors"
      ],
      "metadata": {
        "id": "TDOXJIK09hHU"
      }
    },
    {
      "cell_type": "code",
      "execution_count": null,
      "metadata": {
        "id": "brjd_iT9y3Tr",
        "colab": {
          "base_uri": "https://localhost:8080/"
        },
        "outputId": "98cfe080-d3f9-47b4-812f-30a9579b3776"
      },
      "outputs": [
        {
          "output_type": "stream",
          "name": "stdout",
          "text": [
            "x = [187.9791, 748.3, 2.57, 382.34, 127.1]\n",
            "dx = [-287.128, 778.3, -12.57, -1382.34, -111.1]\n",
            "y = [9.024, 98.123, 674.32, 789.43, 125.2]\n",
            "dy = [-14.911, -29.23, -674.32, -827.43, -145.2]\n",
            "z = [296.433, 43.3, 4.56, 65.67, 75.92]\n",
            "dz = [-285.134, 41.3, -124.56, -180.88, -105.251]\n",
            "df = [1586387.7840771934, 326072.7130700005, 254514.26188799995, 122834353.02800998, 2933251.24532]\n",
            "lambda = [-2.299505237605852, -1.3470472117579813, -1.24106391490888, -1.593722018495868, -2.727596667450822]\n",
            "alpha = [0.3736194303028052, 0.1558728908770016, 0.11238563249238523, 0.2408800126654544, 0.4084224278273084]\n",
            "df = [1586387.7840771936, 326072.71306999994, 254514.26188799992, 122834353.02800995, 2933251.2453199993]\n"
          ]
        }
      ],
      "source": [
        "x = [187.9791, 748.3, 2.57, 382.34, 127.1]\n",
        "dx = [-287.128, 778.3, -12.57, -1382.34, -111.1]\n",
        "y = [9.024, 98.123, 674.32, 789.43, 125.2]\n",
        "dy = [-14.911, -29.23, -674.32, -827.43, -145.2]\n",
        "z = [296.433, 43.3, 4.56, 65.67, 75.92]\n",
        "dz = [-285.134, 41.3, -124.56, -180.88, -105.251]\n",
        "print(\"x =\", x)\n",
        "print(\"dx =\", dx)\n",
        "print(\"y =\", y)\n",
        "print(\"dy =\", dy)\n",
        "print(\"z =\", z)\n",
        "print(\"dz =\", dz)\n",
        "\n",
        "#delta f\n",
        "df3 = []\n",
        "lambda_3 = []\n",
        "alpha = []\n",
        "df3_plus = []\n",
        "for i in range(5):\n",
        "  df3.append(dx[i]*dy[i]*z[i] + x[i]*dy[i]*dz[i] + dx[i]*y[i]*dz[i] + dx[i]*dy[i]*dz[i])\n",
        "print(\"df =\", df3)\n",
        "for i in range(5):\n",
        "  lambda_3.append(x[i]/dx[i] + y[i]/dy[i] + z[i]/dz[i])\n",
        "print(\"lambda =\", lambda_3)\n",
        "for i in range(5):\n",
        "  alpha.append((lambda_3[i]/3.0) * (math.sqrt(1 + (3.0/lambda_3[i]) + (3.0/(lambda_3[i]**2))) - 1))\n",
        "print(\"alpha =\", alpha)\n",
        "for i in range(5):\n",
        "  df3_plus.append((2.0*alpha[i]*dx[i]*y[i]*dz[i]) + (2.0*alpha[i]*dx[i]*dy[i]*z[i]) + (2.0*alpha[i]*x[i]*dy[i]*dz[i]) + (3.0*(alpha[i]**2)*dx[i]*dy[i]*dz[i]))\n",
        "print(\"df =\", df3_plus)"
      ]
    },
    {
      "cell_type": "markdown",
      "source": [
        "#4 factors"
      ],
      "metadata": {
        "id": "IOyg62mu9jk4"
      }
    },
    {
      "cell_type": "code",
      "source": [
        "#Набор данных: для f = x*y*z*w\n",
        "x =  [13,     2.34,     272.3,    179,       31]\n",
        "dx = [-469.4, -24.123,  256.2,    -359.1,    -117.09]\n",
        "y =  [44,     30,       22,       12,        581]\n",
        "dy = [382.18, 113.94,   1195.2,   688.47,    321.91]\n",
        "z =  [6,      4.13,     -50.245,  3,         1]\n",
        "dz = [-211.36,49.01,    428.4,    -143.5,    65.01]\n",
        "w =  [25,     17,       92,       11,        4]\n",
        "dw = [231.99, -110.981, -155.34,  265.99,    -136.06]\n",
        "print(\"x =\", x)\n",
        "print(\"dx =\", dx)\n",
        "print(\"y =\", y)\n",
        "print(\"dy =\", dy)\n",
        "print(\"z =\", z)\n",
        "print(\"dz =\", dz)\n",
        "print(\"w =\", w)\n",
        "print(\"dw =\", dw)\n",
        "#delta f\n",
        "df4 = []\n",
        "for i in range(5):\n",
        "  df4.append((dx[i]*y[i]*z[i]*w[i]) + ((x[i]+dx[i])*dy[i]*z[i]*w[i]) + \n",
        "             ((x[i]+dx[i])*(y[i]+dy[i])*dz[i]*w[i]) +\n",
        "             ((x[i]+dx[i])*(y[i]+dy[i])*(z[i]+dz[i])*dw[i]))\n",
        "print(\"df =\", df4)\n",
        "\n",
        "#lambda\n",
        "lambda1 = []\n",
        "lambda2 = []\n",
        "for i in range(5):\n",
        "  lambda1.append((x[i]/dx[i]) + (y[i]/dy[i]) + (z[i]/dz[i]) + (w[i]/dw[i]))\n",
        "  lambda2.append(((x[i]/dx[i]) * (y[i]/dy[i])) + ((x[i]/dx[i]) * (z[i]/dz[i])) + \n",
        "                 ((x[i]/dx[i]) * (w[i]/dw[i])) + ((y[i]/dy[i]) * (z[i]/dz[i])) +\n",
        "                 ((y[i]/dy[i]) * (w[i]/dw[i])) + ((z[i]/dz[i]) * (w[i]/dw[i])))\n",
        "print(\"lambda1 =\", lambda1)\n",
        "print(\"lambda2 =\", lambda2)\n",
        "\n",
        "#beta\n",
        "beta = []\n",
        "for i in range(5):\n",
        "  beta.append(\n",
        "      ((-27*(lambda1[i]**3))\n",
        "       + (108*lambda1[i]*lambda2[i]) \n",
        "       + (216*(lambda1[i]+lambda2[i]+1)) \n",
        "       + 12 * ((-81*(lambda1[i]**4) \n",
        "       - (27*(lambda1[i]**2) * (lambda2[i]**2))\n",
        "       - (81*(lambda1[i]**3) * lambda2[i])) \n",
        "       + (-81*(lambda1[i]**3) + 96*(lambda2[i]**3) \n",
        "       + 324*(((lambda1[i]**2) * lambda2[i]) + (lambda1[i]*(lambda2[i]**2)))) \n",
        "       + (324*((lambda1[i]**2)+(lambda2[i]**2)) \n",
        "       + (972*lambda1[i]*lambda2[i])) \n",
        "       + (648*(lambda1[i]+lambda2[i]) + 324))**(1/2)\n",
        "              )**(1/3))\n",
        "\n",
        "print(\"beta =\", beta)\n",
        "\n",
        "#alpha\n",
        "alpha_4 = []\n",
        "for i in range(5):\n",
        "  alpha_4.append(((1.0/12.0) * beta[i]) - (((2.0*lambda2[i]) - ((3.0/4.0)*(lambda1[i]**2)))/beta[i]) - ((1.0/4.0)*lambda1[i]))\n",
        "\n",
        "print(\"alpha =\", alpha_4)\n",
        "\n",
        "df4_ = []\n",
        "for i in range(5):\n",
        "  df4_.append((y[i]+alpha_4[i]*dy[i])*(z[i]+alpha_4[i]*dz[i])*(w[i]+alpha_4[i]*dw[i])*dx[i] +\n",
        "              (x[i]+alpha_4[i]*dx[i])*(z[i]+alpha_4[i]*dz[i])*(w[i]+alpha_4[i]*dw[i])*dy[i] +\n",
        "              (x[i]+alpha_4[i]*dx[i])*(y[i]+alpha_4[i]*dy[i])*(w[i]+alpha_4[i]*dw[i])*dz[i] +\n",
        "              (x[i]+alpha_4[i]*dx[i])*(y[i]+alpha_4[i]*dy[i])*(z[i]+alpha_4[i]*dz[i])*dw[i])\n",
        "print(\"df =\", df4_)"
      ],
      "metadata": {
        "id": "km2LFblQUcTA",
        "outputId": "cd3db2ae-5c94-4ebf-c8eb-88e7cad4d13c",
        "colab": {
          "base_uri": "https://localhost:8080/"
        }
      },
      "execution_count": null,
      "outputs": [
        {
          "output_type": "stream",
          "name": "stdout",
          "text": [
            "x = [13, 2.34, 272.3, 179, 31]\n",
            "dx = [-469.4, -24.123, 256.2, -359.1, -117.09]\n",
            "y = [44, 30, 22, 12, 581]\n",
            "dy = [382.18, 113.94, 1195.2, 688.47, 321.91]\n",
            "z = [6, 4.13, -50.245, 3, 1]\n",
            "dz = [-211.36, 49.01, 428.4, -143.5, 65.01]\n",
            "w = [25, 17, 92, 11, 4]\n",
            "dw = [231.99, -110.981, -155.34, 265.99, -136.06]\n",
            "df = [10265193750.588654, 15653955.070684306, -15380612321.376537, 4909501497.990466, 677535443.8673452]\n",
            "lambda1 = [0.16680974760554776, 0.09738275506994654, 0.3717139841119589, -0.46058942501973854, 1.5260821338064567]\n",
            "lambda2 = [0.0006925102213302639, -0.04990814461378913, -0.6781573315555341, -0.019389606200000926, -0.49988023893625516]\n",
            "beta = [7.95882625272238, 7.671059519144734, 6.015635615196549, 6.142838168921279, 7.586444738427361]\n",
            "alpha = [0.6239811962121239, 0.6288485242330594, 0.6510658882387325, 0.6592646651893442, 0.612704613466528]\n",
            "df = [10265193750.588648, 15653955.070684299, -15380612321.37653, 4909501497.990464, 677535443.867345]\n"
          ]
        }
      ]
    },
    {
      "cell_type": "markdown",
      "source": [
        "#Неравенства на выпуклых комбинациях"
      ],
      "metadata": {
        "id": "-qI1PoB89mON"
      }
    },
    {
      "cell_type": "code",
      "source": [
        "p1i = [1.565, 37.11, 57.8, 5.12, 67.5]\n",
        "a1i = [0.5, 0.02, 0.765, 0.04, 0.17]\n",
        "p2i = [56.78, 32.576, 3.213, 56.89, 45.6]\n",
        "a2i = [0.56, 0.057, 0.09, 0.14, 0.71]\n",
        "#S = [0.512, 0.001, -0.043, -0.012, -0.892]\n",
        "Si = [((p1i[i] - p2i[i])/p1i[i]) for i in range(5)]\n",
        "print(\"Si =\", Si)\n",
        "\n",
        "p1 = 0\n",
        "p2 = 0\n",
        "for i in range(5):\n",
        "  p1 += a1i[i] * p1i[i]\n",
        "  p2 += a2i[i] * p2i[i]\n",
        "print(\"p1 =\", p1)\n",
        "print(\"p2 =\", p2)\n",
        "\n",
        "S = (p1 - p2) / p1\n",
        "print(\"S =\", S)\n",
        "\n",
        "Sj = min(Si)\n",
        "Sk = max(Si)\n",
        "print(\"Sj =\", Sj)\n",
        "print(\"Sk =\", Sk)"
      ],
      "metadata": {
        "colab": {
          "base_uri": "https://localhost:8080/"
        },
        "id": "tbaPT1TJ9qcY",
        "outputId": "ab92aae5-c9be-4592-a9c2-664924b661e3"
      },
      "execution_count": 14,
      "outputs": [
        {
          "output_type": "stream",
          "name": "stdout",
          "text": [
            "Si = [-35.28115015974441, 0.12217731069792506, 0.9444117647058823, -10.111328125, 0.3244444444444444]\n",
            "p1 = 57.4215\n",
            "p2 = 74.283402\n",
            "S = -0.2936513675191347\n",
            "Sj = -35.28115015974441\n",
            "Sk = 0.9444117647058823\n"
          ]
        }
      ]
    },
    {
      "cell_type": "code",
      "source": [
        "p_ = 0\n",
        "for i in range(5):\n",
        "  p_ += a2i[i] * p1i[i]\n",
        "print(\"p_ =\", p_)\n",
        "\n",
        "S_ = (p_ - p2) / p_\n",
        "print(\"S_ =\", S_)"
      ],
      "metadata": {
        "colab": {
          "base_uri": "https://localhost:8080/"
        },
        "id": "qjqrNq0cBA0z",
        "outputId": "ae48718c-49ed-4243-f635-e1b249667c36"
      },
      "execution_count": 20,
      "outputs": [
        {
          "output_type": "stream",
          "name": "stdout",
          "text": [
            "p_ = 56.83547\n",
            "S_ = -0.3069901946794844\n"
          ]
        }
      ]
    },
    {
      "cell_type": "code",
      "source": [
        "S_j = Sj + (Sj - 1) * ((p_/p1) - 1)\n",
        "print(\"S_j =\", S_j)\n",
        "S_k = Sk + (Sk - 1) * ((p_/p1) - 1)\n",
        "print(\"S_k =\", S_k)"
      ],
      "metadata": {
        "colab": {
          "base_uri": "https://localhost:8080/"
        },
        "id": "hhfm5O9wBzZe",
        "outputId": "c381b241-4893-48b2-dcb0-d9a0411b156c"
      },
      "execution_count": 21,
      "outputs": [
        {
          "output_type": "stream",
          "name": "stdout",
          "text": [
            "S_j = -34.91087347891728\n",
            "S_k = 0.9449790848478049\n"
          ]
        }
      ]
    }
  ]
}