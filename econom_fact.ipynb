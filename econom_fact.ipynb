{
  "nbformat": 4,
  "nbformat_minor": 0,
  "metadata": {
    "colab": {
      "provenance": [],
      "authorship_tag": "ABX9TyPRp2kTPtvaf315asHx7Jrz",
      "include_colab_link": true
    },
    "kernelspec": {
      "name": "python3",
      "display_name": "Python 3"
    },
    "language_info": {
      "name": "python"
    }
  },
  "cells": [
    {
      "cell_type": "markdown",
      "metadata": {
        "id": "view-in-github",
        "colab_type": "text"
      },
      "source": [
        "<a href=\"https://colab.research.google.com/github/Viktory4121/MAPI/blob/main/econom_fact.ipynb\" target=\"_parent\"><img src=\"https://colab.research.google.com/assets/colab-badge.svg\" alt=\"Open In Colab\"/></a>"
      ]
    },
    {
      "cell_type": "code",
      "source": [
        "import random\n",
        "import math\n",
        "def random_var(i):\n",
        "  return random.randint(-i, i)\n",
        "#Набор данных: для f = x*y*z\n",
        "#x = [abs(random_var(10)) for i in range(1,6)]\n",
        "#dx = [random_var(300) for i in range(1,6)]\n",
        "#y = [abs(random_var(300)) for i in range(1,6)]\n",
        "#dy = [random_var(300) for i in range(1,6)]\n",
        "#z = [abs(random_var(2000)) for i in range(1,6)]\n",
        "#dz = [random_var(250) for i in range(1,6)]"
      ],
      "metadata": {
        "colab": {
          "base_uri": "https://localhost:8080/"
        },
        "id": "8060LpHb6edk",
        "outputId": "705007f7-b3f3-4fa6-f6ba-0caf1560fa3c"
      },
      "execution_count": 68,
      "outputs": [
        {
          "output_type": "stream",
          "name": "stdout",
          "text": [
            "x = [87.45, 748.3, 2.57, 382.34, 78.1]\n",
            "dx = [87.45, -78.3, 2.57, -382.34, -78.1]\n",
            "y = [9.546, 98.123, 674.32, 789.43, 45.2]\n",
            "dy = [-4.89, -9.23, 674.32, 7.43, -45.2]\n",
            "z = [76.4, 43.3, 4.56, 54.67, 75.2]\n",
            "dz = [67.4, -4.3, -14.56, 5.88, -75.2]\n"
          ]
        }
      ]
    },
    {
      "cell_type": "code",
      "execution_count": 229,
      "metadata": {
        "id": "brjd_iT9y3Tr",
        "colab": {
          "base_uri": "https://localhost:8080/"
        },
        "outputId": "98cfe080-d3f9-47b4-812f-30a9579b3776"
      },
      "outputs": [
        {
          "output_type": "stream",
          "name": "stdout",
          "text": [
            "x = [187.9791, 748.3, 2.57, 382.34, 127.1]\n",
            "dx = [-287.128, 778.3, -12.57, -1382.34, -111.1]\n",
            "y = [9.024, 98.123, 674.32, 789.43, 125.2]\n",
            "dy = [-14.911, -29.23, -674.32, -827.43, -145.2]\n",
            "z = [296.433, 43.3, 4.56, 65.67, 75.92]\n",
            "dz = [-285.134, 41.3, -124.56, -180.88, -105.251]\n",
            "df = [1586387.7840771934, 326072.7130700005, 254514.26188799995, 122834353.02800998, 2933251.24532]\n",
            "lambda = [-2.299505237605852, -1.3470472117579813, -1.24106391490888, -1.593722018495868, -2.727596667450822]\n",
            "alpha = [0.3736194303028052, 0.1558728908770016, 0.11238563249238523, 0.2408800126654544, 0.4084224278273084]\n",
            "df = [1586387.7840771936, 326072.71306999994, 254514.26188799992, 122834353.02800995, 2933251.2453199993]\n"
          ]
        }
      ],
      "source": [
        "x = [187.9791, 748.3, 2.57, 382.34, 127.1]\n",
        "dx = [-287.128, 778.3, -12.57, -1382.34, -111.1]\n",
        "y = [9.024, 98.123, 674.32, 789.43, 125.2]\n",
        "dy = [-14.911, -29.23, -674.32, -827.43, -145.2]\n",
        "z = [296.433, 43.3, 4.56, 65.67, 75.92]\n",
        "dz = [-285.134, 41.3, -124.56, -180.88, -105.251]\n",
        "print(\"x =\", x)\n",
        "print(\"dx =\", dx)\n",
        "print(\"y =\", y)\n",
        "print(\"dy =\", dy)\n",
        "print(\"z =\", z)\n",
        "print(\"dz =\", dz)\n",
        "\n",
        "#delta f\n",
        "df3 = []\n",
        "lambda_3 = []\n",
        "alpha = []\n",
        "df3_plus = []\n",
        "for i in range(5):\n",
        "  df3.append(dx[i]*dy[i]*z[i] + x[i]*dy[i]*dz[i] + dx[i]*y[i]*dz[i] + dx[i]*dy[i]*dz[i])\n",
        "print(\"df =\", df3)\n",
        "for i in range(5):\n",
        "  lambda_3.append(x[i]/dx[i] + y[i]/dy[i] + z[i]/dz[i])\n",
        "print(\"lambda =\", lambda_3)\n",
        "for i in range(5):\n",
        "  alpha.append((lambda_3[i]/3.0) * (math.sqrt(1 + (3.0/lambda_3[i]) + (3.0/(lambda_3[i]**2))) - 1))\n",
        "print(\"alpha =\", alpha)\n",
        "for i in range(5):\n",
        "  df3_plus.append((2.0*alpha[i]*dx[i]*y[i]*dz[i]) + (2.0*alpha[i]*dx[i]*dy[i]*z[i]) + (2.0*alpha[i]*x[i]*dy[i]*dz[i]) + (3.0*(alpha[i]**2)*dx[i]*dy[i]*dz[i]))\n",
        "print(\"df =\", df3_plus)"
      ]
    },
    {
      "cell_type": "code",
      "source": [
        "#Набор данных: для f = x*y*z*w\n",
        "x =  [13,     2.34,     272.3,    79.34,    31]\n",
        "dx = [469.4,  -24.123,  -256.2,   259.1,    117.09]\n",
        "y =  [44,     31,       22,       12,       581]\n",
        "dy = [382.18, 3.94,     95.2,     88.47,    321.91]\n",
        "z =  [6,      4.13,     50.245,   3.357,    1]\n",
        "dz = [211.36, 1.01,     428.4,    133.5,    165.01]\n",
        "w =  [25,     76.11,    92,       277.32,   4]\n",
        "dw = [231.99, 10.981,   -155.34,  -261.72,  136.06]\n",
        "print(\"x =\", x)\n",
        "print(\"dx =\", dx)\n",
        "print(\"y =\", y)\n",
        "print(\"dy =\", dy)\n",
        "print(\"z =\", z)\n",
        "print(\"dz =\", dz)\n",
        "print(\"w =\", w)\n",
        "print(\"dw =\", dw)\n",
        "#delta f\n",
        "df4 = []\n",
        "for i in range(5):\n",
        "  df4.append((dx[i]*y[i]*z[i]*w[i]) + ((x[i]+dx[i])*dy[i]*z[i]*w[i]) + \n",
        "             ((x[i]+dx[i])*(y[i]+dy[i])*dz[i]*w[i]) +\n",
        "             ((x[i]+dx[i])*(y[i]+dy[i])*(z[i]+dz[i])*dw[i]))\n",
        "print(\"df =\", df4)\n",
        "\n",
        "#lambda\n",
        "lambda1 = []\n",
        "lambda2 = []\n",
        "for i in range(5):\n",
        "  lambda1.append((x[i]/dx[i]) + (y[i]/dy[i]) + (z[i]/dz[i]) + (w[i]/dw[i]))\n",
        "  lambda2.append(((x[i]/dx[i]) * (y[i]/dy[i])) + ((x[i]/dx[i]) * (z[i]/dz[i])) + \n",
        "                 ((x[i]/dx[i]) * (w[i]/dw[i])) + ((y[i]/dy[i]) * (z[i]/dz[i])) +\n",
        "                 ((y[i]/dy[i]) * (w[i]/dw[i])) + ((z[i]/dz[i]) * (w[i]/dw[i])))\n",
        "print(\"lambda1 =\", lambda1)\n",
        "print(\"lambda2 =\", lambda2)\n",
        "\n",
        "#beta\n",
        "beta = []\n",
        "for i in range(5):\n",
        "  beta.append(\n",
        "      ((-27*(lambda1[i]**3))\n",
        "       + (108*lambda1[i]*lambda2[i]) \n",
        "       + (216*(lambda1[i]+lambda2[i]+1)) \n",
        "       + 12 * ((-81*(lambda1[i]**4) \n",
        "       - (27*(lambda1[i]**2) * (lambda2[i]**2))\n",
        "       - (81*(lambda1[i]**3) * lambda2[i])) \n",
        "       + (-81*(lambda1[i]**3) + 96*(lambda2[i]**3) \n",
        "       + 324*(((lambda1[i]**2) * lambda2[i]) + (lambda1[i]*(lambda2[i]**2)))) \n",
        "       + (324*((lambda1[i]**2)+(lambda2[i]**2)) \n",
        "       + (972*lambda1[i]*lambda2[i])) \n",
        "       + (628*(lambda1[i]+lambda2[i]) + 324))**(1/2)\n",
        "              )**(1/3))\n",
        "\n",
        "print(\"beta =\", beta)\n",
        "\n",
        "#alpha\n",
        "alpha_4 = []\n",
        "for i in range(5):\n",
        "  alpha_4.append(((1.0/12.0) * beta[i]) - (((2.0*lambda2[i]) - ((3.0/4.0)*(lambda1[i]**2)))/beta[i]) - ((1.0/4.0)*lambda1[i]))\n",
        "\n",
        "print(\"alpha =\", alpha_4)\n",
        "\n",
        "df4_ = []\n",
        "for i in range(5):\n",
        "  df4_.append((y[i]+alpha_4[i]*dy[i])*(z[i]+alpha_4[i]*dz[i])*(w[i]+alpha_4[i]*dw[i])*dx[i] +\n",
        "              (x[i]+alpha_4[i]*dx[i])*(z[i]+alpha_4[i]*dz[i])*(w[i]+alpha_4[i]*dw[i])*dy[i] +\n",
        "              (x[i]+alpha_4[i]*dx[i])*(y[i]+alpha_4[i]*dy[i])*(w[i]+alpha_4[i]*dw[i])*dz[i] +\n",
        "              (x[i]+alpha_4[i]*dx[i])*(y[i]+alpha_4[i]*dy[i])*(z[i]+alpha_4[i]*dz[i])*dw[i])\n",
        "print(\"df =\", df4_)"
      ],
      "metadata": {
        "id": "km2LFblQUcTA",
        "outputId": "b1e147df-9579-4ec7-c881-34dd9679352c",
        "colab": {
          "base_uri": "https://localhost:8080/"
        }
      },
      "execution_count": 364,
      "outputs": [
        {
          "output_type": "stream",
          "name": "stdout",
          "text": [
            "x = [13, 2.34, 272.3, 79.34, 31]\n",
            "dx = [469.4, -24.123, -256.2, 259.1, 117.09]\n",
            "y = [44, 31, 22, 12, 581]\n",
            "dy = [382.18, 3.94, 95.2, 88.47, 321.91]\n",
            "z = [6, 4.13, 50.245, 3.357, 1]\n",
            "dz = [211.36, 1.01, 428.4, 133.5, 165.01]\n",
            "w = [25, 76.11, 92, 277.32, 4]\n",
            "dw = [231.99, 10.981, -155.34, -261.72, 136.06]\n",
            "df = [11483994326.397964, -363505.6186934748, -84898248.03815606, 71709148.84200335, 3108912533.643149]\n",
            "lambda1 = [0.27897477732603104, 18.79118909985978, -1.3067131053359742, -0.5926066012618804, 2.105064929664853]\n",
            "lambda2 = [0.025693227465271286, 113.21659613100385, 0.07997414617709672, -0.4421894218894023, 0.5514055440979386]\n",
            "beta = [8.254486895115397, 54.06855334015451, 3.2127249168709717, 3.89370074309494, 10.931394903218102]\n",
            "alpha = [0.6189762673769518, 0.5180953807017854, 0.943229510234187, 0.7674017495123944, 0.5878287511043936]\n",
            "df = [11452227893.584808, -363499.7496835967, 315404997.29048336, -21886875.009780884, 3097439401.7050366]\n"
          ]
        }
      ]
    }
  ]
}