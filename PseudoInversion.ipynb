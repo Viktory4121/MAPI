{
  "nbformat": 4,
  "nbformat_minor": 5,
  "metadata": {
    "kernelspec": {
      "display_name": "Python 3",
      "language": "python",
      "name": "python3"
    },
    "language_info": {
      "codemirror_mode": {
        "name": "ipython",
        "version": 3
      },
      "file_extension": ".py",
      "mimetype": "text/x-python",
      "name": "python",
      "nbconvert_exporter": "python",
      "pygments_lexer": "ipython3",
      "version": "3.8.8"
    },
    "colab": {
      "provenance": [],
      "collapsed_sections": [],
      "include_colab_link": true
    }
  },
  "cells": [
    {
      "cell_type": "markdown",
      "metadata": {
        "id": "view-in-github",
        "colab_type": "text"
      },
      "source": [
        "<a href=\"https://colab.research.google.com/github/Viktory4121/MAPI/blob/main/PseudoInversion.ipynb\" target=\"_parent\"><img src=\"https://colab.research.google.com/assets/colab-badge.svg\" alt=\"Open In Colab\"/></a>"
      ]
    },
    {
      "cell_type": "code",
      "metadata": {
        "id": "91b6ce26"
      },
      "source": [
        "import numpy as np"
      ],
      "id": "91b6ce26",
      "execution_count": 1,
      "outputs": []
    },
    {
      "cell_type": "code",
      "metadata": {
        "colab": {
          "base_uri": "https://localhost:8080/"
        },
        "id": "e243beba",
        "outputId": "733834a2-d35d-4939-c791-e734eaa0f8f2"
      },
      "source": [
        "# Псевдообращение алгоритмом Фаддеева\n",
        "#A = np.array([[-1,0,2,0,5,-2],[4,5,5,2,1,-1],[2,1,1,0,8,-1],[0,1,-3,-4,2,-3]])\n",
        "#A = np.array([[7,0,4,9,6,0],[3,0,4,1,1,2],[0,1,1,2,6,7],[1,4,7,4,9,5]])\n",
        "A = np.array([[-1,4,-2],[-1,4,-2],[1,26,-1]])\n",
        "n = len(A[0])\n",
        "A_T = A.transpose()\n",
        "A_T_A = A_T.dot(A) #перемножены транспонированная матрица и обычная\n",
        "F = np.diag(np.diag(np.ones([n,n]))) #единичная матрица\n",
        "mu = sum(np.diag(A_T_A)) #это фи1 (сумма значений матрицы A_T_A по диагонали)\n",
        "print(\"A = \\n\", A)\n",
        "#print(\"A^T * A = \\n\", A_T_A)\n",
        "print(\"phi_1 = \", mu)"
      ],
      "id": "e243beba",
      "execution_count": null,
      "outputs": [
        {
          "output_type": "stream",
          "name": "stdout",
          "text": [
            "A = \n",
            " [[-1  4 -2]\n",
            " [-1  4 -2]\n",
            " [ 1 26 -1]]\n",
            "phi_1 =  720\n"
          ]
        }
      ]
    },
    {
      "cell_type": "code",
      "source": [
        "print(\"det(A) = \", np.linalg.det(A))"
      ],
      "metadata": {
        "colab": {
          "base_uri": "https://localhost:8080/"
        },
        "id": "z7NWgsNR8pzi",
        "outputId": "66c12288-f3db-4661-9501-e822eaed19f0"
      },
      "id": "z7NWgsNR8pzi",
      "execution_count": null,
      "outputs": [
        {
          "output_type": "stream",
          "name": "stdout",
          "text": [
            "det(A) =  0.0\n"
          ]
        }
      ]
    },
    {
      "cell_type": "code",
      "source": [
        "def print_matrix(A):\n",
        "  m = len(A)\n",
        "  n = len(A[0])\n",
        "  for row in A:\n",
        "    for i in row:\n",
        "      print(\"{:.6f}\\t\\t\".format(i), end = \"\" )\n",
        "    print()"
      ],
      "metadata": {
        "id": "qLEbAuXqDHU-"
      },
      "id": "qLEbAuXqDHU-",
      "execution_count": 8,
      "outputs": []
    },
    {
      "cell_type": "code",
      "metadata": {
        "id": "7679a169",
        "colab": {
          "base_uri": "https://localhost:8080/"
        },
        "outputId": "6c1198c1-a4a7-47b0-e203-68c06c4b4764"
      },
      "source": [
        "def pseudo(A_T_A, F, mu, A_T):\n",
        "    n = len(F)\n",
        "    I = np.diag(np.diag(np.ones([n,n])))\n",
        "    i = 2\n",
        "    while mu != 0:\n",
        "        if sum(np.diag(A_T_A.dot(mu*I - A_T_A.dot(F))))/float(i) == 0:\n",
        "            _mu = mu\n",
        "            _F = F\n",
        "        F = mu*I - A_T_A.dot(F)\n",
        "        mu = sum(np.diag(A_T_A.dot(F)))/float(i)\n",
        "        \n",
        "        print(\"Шаг\", i)\n",
        "        print(\"F:\\n\")\n",
        "        print_matrix(F)\n",
        "        #print(\"\\nA_T_A*F:\\n\", A_T_A.dot(F))\n",
        "        print(\"phi\\n\", mu)\n",
        "        print(\"\\n\\n\")\n",
        "        \n",
        "        i+=1\n",
        "    print(\"A*: 1/\", _mu, \"\\n\")\n",
        "    A_psevv = _F.dot(A_T)\n",
        "    print_matrix(A_psevv)\n",
        "    return(A_psevv/_mu, _mu)\n",
        "\n",
        "A_psev, muu = pseudo(A_T_A, F, mu, A_T)"
      ],
      "id": "7679a169",
      "execution_count": null,
      "outputs": [
        {
          "output_type": "stream",
          "name": "stdout",
          "text": [
            "Шаг 2\n",
            "F:\n",
            "\n",
            "717.000000\t\t-18.000000\t\t-3.000000\t\t\n",
            "-18.000000\t\t12.000000\t\t42.000000\t\t\n",
            "-3.000000\t\t42.000000\t\t711.000000\t\t\n",
            "phi\n",
            " 6426.0\n",
            "\n",
            "\n",
            "\n",
            "Шаг 3\n",
            "F:\n",
            "\n",
            "4608.000000\t\t-288.000000\t\t-2880.000000\t\t\n",
            "-288.000000\t\t18.000000\t\t180.000000\t\t\n",
            "-2880.000000\t\t180.000000\t\t1800.000000\t\t\n",
            "phi\n",
            " 0.0\n",
            "\n",
            "\n",
            "\n",
            "A*: 1/ 6426.0 \n",
            "\n",
            "-783.000000\t\t-783.000000\t\t252.000000\t\t\n",
            "-18.000000\t\t-18.000000\t\t252.000000\t\t\n",
            "-1251.000000\t\t-1251.000000\t\t378.000000\t\t\n"
          ]
        }
      ]
    },
    {
      "cell_type": "code",
      "source": [
        "print_matrix(A_psev) #без вынесения общего знаменателя за скобку"
      ],
      "metadata": {
        "colab": {
          "base_uri": "https://localhost:8080/"
        },
        "id": "IVjAdsLDB5Q-",
        "outputId": "d1e02586-6c06-40ed-d086-365f1ce24d63"
      },
      "id": "IVjAdsLDB5Q-",
      "execution_count": null,
      "outputs": [
        {
          "output_type": "stream",
          "name": "stdout",
          "text": [
            "-0.121849\t\t-0.121849\t\t0.039216\t\t\n",
            "-0.002801\t\t-0.002801\t\t0.039216\t\t\n",
            "-0.194678\t\t-0.194678\t\t0.058824\t\t\n"
          ]
        }
      ]
    },
    {
      "cell_type": "code",
      "metadata": {
        "colab": {
          "base_uri": "https://localhost:8080/"
        },
        "id": "VnBEhzTTdKkF",
        "outputId": "8ca01270-db6d-4f2a-ba3f-79f25c2f5684"
      },
      "source": [
        "#Проверка 1 ((A A^+)^T = A A^+)\n",
        "Check1_1 = (A.dot(A_psev)).transpose()\n",
        "Check1_2 = A.dot(A_psev)\n",
        "print_matrix(Check1_1)\n",
        "print()\n",
        "print_matrix(Check1_2)"
      ],
      "id": "VnBEhzTTdKkF",
      "execution_count": null,
      "outputs": [
        {
          "output_type": "stream",
          "name": "stdout",
          "text": [
            "0.500000\t\t0.500000\t\t0.000000\t\t\n",
            "0.500000\t\t0.500000\t\t0.000000\t\t\n",
            "0.000000\t\t0.000000\t\t1.000000\t\t\n",
            "\n",
            "0.500000\t\t0.500000\t\t0.000000\t\t\n",
            "0.500000\t\t0.500000\t\t0.000000\t\t\n",
            "0.000000\t\t0.000000\t\t1.000000\t\t\n"
          ]
        }
      ]
    },
    {
      "cell_type": "code",
      "metadata": {
        "colab": {
          "base_uri": "https://localhost:8080/"
        },
        "id": "95b4h6w0eDSo",
        "outputId": "a80cc28b-49e2-4d3a-80c9-ef1cc94251f8"
      },
      "source": [
        "#Проверка 2 ((A^+ A)^T = A^+ A)\n",
        "#A_psev1 = A_psev.dot(muu)\n",
        "Check2_1 = (A_psev.dot(A)).transpose()\n",
        "Check2_2 = A_psev.dot(A)\n",
        "print_matrix(Check2_1)\n",
        "print()\n",
        "print_matrix(Check2_2)"
      ],
      "id": "95b4h6w0eDSo",
      "execution_count": null,
      "outputs": [
        {
          "output_type": "stream",
          "name": "stdout",
          "text": [
            "0.282913\t\t0.044818\t\t0.448179\t\t\n",
            "0.044818\t\t0.997199\t\t-0.028011\t\t\n",
            "0.448179\t\t-0.028011\t\t0.719888\t\t\n",
            "\n",
            "0.282913\t\t0.044818\t\t0.448179\t\t\n",
            "0.044818\t\t0.997199\t\t-0.028011\t\t\n",
            "0.448179\t\t-0.028011\t\t0.719888\t\t\n"
          ]
        }
      ]
    },
    {
      "cell_type": "code",
      "metadata": {
        "colab": {
          "base_uri": "https://localhost:8080/"
        },
        "id": "L0xQZwcjewGy",
        "outputId": "85f60d01-3f7c-456a-b488-b7a12b41c127"
      },
      "source": [
        "#Проверка 3 (A A^+ A = A)\n",
        "Check3_1 = A.dot(A_psev).dot(A)\n",
        "Check3_2 = A\n",
        "print(Check3_1)\n",
        "print(Check3_2)"
      ],
      "id": "L0xQZwcjewGy",
      "execution_count": null,
      "outputs": [
        {
          "output_type": "stream",
          "name": "stdout",
          "text": [
            "[[-1.  4. -2.]\n",
            " [-1.  4. -2.]\n",
            " [ 1. 26. -1.]]\n",
            "[[-1  4 -2]\n",
            " [-1  4 -2]\n",
            " [ 1 26 -1]]\n"
          ]
        }
      ]
    },
    {
      "cell_type": "code",
      "metadata": {
        "colab": {
          "base_uri": "https://localhost:8080/"
        },
        "id": "AWcEmAiqfUdB",
        "outputId": "194210ae-cbe8-4803-fb68-ffb21ff0de4c"
      },
      "source": [
        "#Проверка 4 (A^+ A A^+ = A^+)\n",
        "Check4_1 = A_psev.dot(A).dot(A_psev)\n",
        "Check4_2 = A_psev\n",
        "print_matrix(Check4_1)\n",
        "print()\n",
        "print_matrix(Check4_2)"
      ],
      "id": "AWcEmAiqfUdB",
      "execution_count": null,
      "outputs": [
        {
          "output_type": "stream",
          "name": "stdout",
          "text": [
            "-0.121849\t\t-0.121849\t\t0.039216\t\t\n",
            "-0.002801\t\t-0.002801\t\t0.039216\t\t\n",
            "-0.194678\t\t-0.194678\t\t0.058824\t\t\n",
            "\n",
            "-0.121849\t\t-0.121849\t\t0.039216\t\t\n",
            "-0.002801\t\t-0.002801\t\t0.039216\t\t\n",
            "-0.194678\t\t-0.194678\t\t0.058824\t\t\n"
          ]
        }
      ]
    },
    {
      "cell_type": "markdown",
      "metadata": {
        "id": "zM5ZbtNcw9aC"
      },
      "source": [
        "## Алгоритм Гревиля\n"
      ],
      "id": "zM5ZbtNcw9aC"
    },
    {
      "cell_type": "code",
      "metadata": {
        "id": "esZ8ZbkuxDpH"
      },
      "source": [
        "import numpy as np"
      ],
      "id": "esZ8ZbkuxDpH",
      "execution_count": 2,
      "outputs": []
    },
    {
      "cell_type": "code",
      "metadata": {
        "id": "MOaFxO4LxJEX"
      },
      "source": [
        "A = np.array([[7,0,4,9,6,0],[3,0,4,1,1,2],[0,1,1,2,6,7],[1,4,7,4,9,5]])\n",
        "\n",
        "#a1 = A[:,0:1]\n",
        "#a2 = A[:,1:2]\n",
        "#a3 = A[:,2:3]\n",
        "#a4 = A[:,3:4]\n",
        "#a5 = A[:,4:5]\n",
        "#a6 = A[:,5:6]\n",
        "\n",
        "#A1 = A[:,0:1]\n",
        "#A2 = A[:,0:2]\n",
        "#A3 = A[:,0:3]\n",
        "#A4 = A[:,0:4]\n",
        "#A5 = A[:,0:5]\n",
        "#A6 = A.copy()"
      ],
      "id": "MOaFxO4LxJEX",
      "execution_count": 3,
      "outputs": []
    },
    {
      "cell_type": "code",
      "source": [
        "def norm(A): #норма вектора\n",
        "  return ((A.T).dot(A))"
      ],
      "metadata": {
        "id": "oBGK-fHwDR4K"
      },
      "id": "oBGK-fHwDR4K",
      "execution_count": 4,
      "outputs": []
    },
    {
      "cell_type": "code",
      "metadata": {
        "colab": {
          "base_uri": "https://localhost:8080/"
        },
        "id": "U7-_n7eaz-pZ",
        "outputId": "04a06123-72cb-4c95-f82e-571a108b400b"
      },
      "source": [
        "#Шаг 1\n",
        "T1 = A[:,0:1].transpose()\n",
        "if(A[:,0:1].any()):\n",
        "  t1 = norm(A[:,0:1])\n",
        "else:\n",
        "  t1 = 0\n",
        "print(T1)\n",
        "print(t1)"
      ],
      "id": "U7-_n7eaz-pZ",
      "execution_count": 5,
      "outputs": [
        {
          "output_type": "stream",
          "name": "stdout",
          "text": [
            "[[7 3 0 1]]\n",
            "[[59]]\n"
          ]
        }
      ]
    },
    {
      "cell_type": "code",
      "metadata": {
        "id": "vlYoXn7B09SK",
        "colab": {
          "base_uri": "https://localhost:8080/"
        },
        "outputId": "0501ab7f-1caa-4047-b74b-825ad512e58c"
      },
      "source": [
        "#ti - число\n",
        "#Ti - A_i^+\n",
        "#Fi - вектор\n",
        "def Greville(A, T1, t1):\n",
        "  i = 1\n",
        "  n = len(A[0])\n",
        "  I = np.diag(np.diag(np.ones([n,n])))\n",
        "\n",
        "  t = t1.copy()\n",
        "  T = T1.copy()\n",
        "  F = np.zeros((n,n))\n",
        "\n",
        "  while(i < n):\n",
        "    #ci = (t[i-1]*I - A[i-1]*T[i-1])a[i] - раскрыть скобки:\n",
        "    c = t1*A[:,i:i+1] - (A[:,0:i].dot(T1)).dot(A[:,i:i+1])\n",
        "    #d = 1 + norm(T1.dot(A[:,i:i+1]))\n",
        "\n",
        "    if (c.any()): #если вектор не нулевой\n",
        "      F = c.T\n",
        "      #ti = t[i-1]*norm(a2) - a[i]^T * A[i-1] * T[i-1] * a[i]\n",
        "      t = t1*norm(A[:,i:i+1]) - (((A[:,i:i+1].T).dot(A[:,0:i])).dot(T1)).dot(A[:,i:i+1])\n",
        "    else: #если нулевой\n",
        "      F = ((A[:,i:i+1].T).dot(T1.T)).dot(T1)\n",
        "      t = t1**2 + norm(T1.dot(A[:,i:i+1]))\n",
        "    \n",
        "    f = 1/t1 * (T1*t - (T1.dot(A[:,i:i+1])).dot(F))\n",
        "    T = np.vstack((f, F))\n",
        "\n",
        "    print(\"Шаг \", i+1, \":\")\n",
        "    print(\"F:\\n\", F)\n",
        "    print(\"t =\", t)\n",
        "    print(\"T:\\n\")\n",
        "    print_matrix(T)\n",
        "    print()\n",
        "    T1 = T\n",
        "    t1 = t\n",
        "    i += 1\n",
        "  return (T, t)\n",
        "\n",
        "T, t = Greville(A, T1, t1)"
      ],
      "id": "vlYoXn7B09SK",
      "execution_count": 10,
      "outputs": [
        {
          "output_type": "stream",
          "name": "stdout",
          "text": [
            "Шаг  2 :\n",
            "F:\n",
            " [[-28 -12  59 232]]\n",
            "t = [[987]]\n",
            "T:\n",
            "\n",
            "119.000000\t\t51.000000\t\t-4.000000\t\t1.000000\t\t\n",
            "-28.000000\t\t-12.000000\t\t59.000000\t\t232.000000\t\t\n",
            "\n",
            "Шаг  3 :\n",
            "F:\n",
            " [[-833. 1899. -536.  134.]]\n",
            "t = [[4666.]]\n",
            "T:\n",
            "\n",
            "1139.000000\t\t-1073.000000\t\t352.000000\t\t-88.000000\t\t\n",
            "1153.000000\t\t-2987.000000\t\t1106.000000\t\t890.000000\t\t\n",
            "-833.000000\t\t1899.000000\t\t-536.000000\t\t134.000000\t\t\n",
            "\n",
            "Шаг  4 :\n",
            "F:\n",
            " [[-180.  612. 2304. -576.]]\n",
            "t = [[1296.]]\n",
            "T:\n",
            "\n",
            "684.000000\t\t-1548.000000\t\t-4608.000000\t\t1152.000000\t\t\n",
            "828.000000\t\t-2556.000000\t\t-6192.000000\t\t1872.000000\t\t\n",
            "-468.000000\t\t1332.000000\t\t2880.000000\t\t-720.000000\t\t\n",
            "-180.000000\t\t612.000000\t\t2304.000000\t\t-576.000000\t\t\n",
            "\n",
            "Шаг  5 :\n",
            "F:\n",
            " [[-3.07203840e+07  8.59455360e+07  2.24316864e+08 -6.18762240e+07]]\n",
            "t = [[6.92318016e+08]]\n",
            "T:\n",
            "\n",
            "16372368.000000\t\t149501376.000000\t\t86913648.000000\t\t-87588864.000000\t\t\n",
            "18202320.000000\t\t-178879104.000000\t\t-210922704.000000\t\t145779264.000000\t\t\n",
            "-28987632.000000\t\t93218688.000000\t\t-75350736.000000\t\t60543936.000000\t\t\n",
            "97553808.000000\t\t-215006400.000000\t\t-183654864.000000\t\t82467072.000000\t\t\n",
            "-30720384.000000\t\t85945536.000000\t\t224316864.000000\t\t-61876224.000000\t\t\n",
            "\n",
            "Шаг  6 :\n",
            "F:\n",
            " [[-1.82475234e+17  6.67678850e+17  8.37560365e+17 -4.00698470e+17]]\n",
            "t = [[5.67409214e+18]]\n",
            "T:\n",
            "\n",
            "257919111263204320.000000\t\t772535287259034624.000000\t\t144384528414597152.000000\t\t-446150166738232320.000000\t\t\n",
            "-142148595995946992.000000\t\t-400072193479895104.000000\t\t-391470313825962944.000000\t\t555040613872982080.000000\t\t\n",
            "-247670788596341792.000000\t\t800935756298975232.000000\t\t-571226001072030720.000000\t\t474039206613393472.000000\t\t\n",
            "456027927571667008.000000\t\t-505267789210149824.000000\t\t71478057864904752.000000\t\t-78416446867080144.000000\t\t\n",
            "125848361545860064.000000\t\t-677346655519632512.000000\t\t105151630766966848.000000\t\t322107060419629184.000000\t\t\n",
            "-182475234260886528.000000\t\t667678849817001984.000000\t\t837560365206230016.000000\t\t-400698469895712768.000000\t\t\n",
            "\n"
          ]
        }
      ]
    },
    {
      "cell_type": "code",
      "source": [
        "print(\"A^+ = \")\n",
        "print_matrix(T/t)"
      ],
      "metadata": {
        "id": "uG3mhfqmtMys",
        "outputId": "1c96a801-74dd-417a-9a68-0b58c901a489",
        "colab": {
          "base_uri": "https://localhost:8080/"
        }
      },
      "id": "uG3mhfqmtMys",
      "execution_count": 13,
      "outputs": [
        {
          "output_type": "stream",
          "name": "stdout",
          "text": [
            "A^+ = \n",
            "0.045456\t\t0.136151\t\t0.025446\t\t-0.078629\t\t\n",
            "-0.025052\t\t-0.070509\t\t-0.068993\t\t0.097820\t\t\n",
            "-0.043649\t\t0.141157\t\t-0.100673\t\t0.083545\t\t\n",
            "0.080370\t\t-0.089048\t\t0.012597\t\t-0.013820\t\t\n",
            "0.022179\t\t-0.119375\t\t0.018532\t\t0.056768\t\t\n",
            "-0.032159\t\t0.117671\t\t0.147611\t\t-0.070619\t\t\n"
          ]
        }
      ]
    }
  ]
}