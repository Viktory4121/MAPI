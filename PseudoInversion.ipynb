{
  "nbformat": 4,
  "nbformat_minor": 5,
  "metadata": {
    "kernelspec": {
      "display_name": "Python 3",
      "language": "python",
      "name": "python3"
    },
    "language_info": {
      "codemirror_mode": {
        "name": "ipython",
        "version": 3
      },
      "file_extension": ".py",
      "mimetype": "text/x-python",
      "name": "python",
      "nbconvert_exporter": "python",
      "pygments_lexer": "ipython3",
      "version": "3.8.8"
    },
    "colab": {
      "provenance": [],
      "collapsed_sections": [],
      "include_colab_link": true
    }
  },
  "cells": [
    {
      "cell_type": "markdown",
      "metadata": {
        "id": "view-in-github",
        "colab_type": "text"
      },
      "source": [
        "<a href=\"https://colab.research.google.com/github/Viktory4121/MAPI/blob/main/PseudoInversion.ipynb\" target=\"_parent\"><img src=\"https://colab.research.google.com/assets/colab-badge.svg\" alt=\"Open In Colab\"/></a>"
      ]
    },
    {
      "cell_type": "code",
      "metadata": {
        "id": "91b6ce26"
      },
      "source": [
        "import numpy as np\n",
        "import random as r"
      ],
      "id": "91b6ce26",
      "execution_count": 27,
      "outputs": []
    },
    {
      "cell_type": "code",
      "metadata": {
        "colab": {
          "base_uri": "https://localhost:8080/"
        },
        "id": "e243beba",
        "outputId": "6eaa3ac7-6236-4233-c456-f7fabedc885f"
      },
      "source": [
        "# Псевдообращение алгоритмом Фаддеева\n",
        "#A = np.array([[-1,0,2,0,5,-2],[4,5,5,2,1,-1],[2,1,1,0,8,-1],[0,1,-3,-4,2,-3]])\n",
        "#A = np.array([[7,0,4,9,6,0],[3,0,4,1,1,2],[0,1,1,2,6,7],[1,4,7,4,9,5]])\n",
        "A = np.array([[-1,4,-2],[-1,4,-2],[1,26,-1]])\n",
        "n = len(A[0])\n",
        "A_T = A.transpose()\n",
        "A_T_A = A_T.dot(A) #перемножены транспонированная матрица и обычная\n",
        "F = np.diag(np.diag(np.ones([n,n]))) #единичная матрица\n",
        "mu = sum(np.diag(A_T_A)) #это фи1 (сумма значений матрицы A_T_A по диагонали)\n",
        "print(\"A = \\n\", A)\n",
        "print(\"A^T * A = \\n\", A_T_A)\n",
        "print(\"mu = \", mu)"
      ],
      "id": "e243beba",
      "execution_count": 56,
      "outputs": [
        {
          "output_type": "stream",
          "name": "stdout",
          "text": [
            "A = \n",
            " [[-1  4 -2]\n",
            " [-1  4 -2]\n",
            " [ 1 26 -1]]\n",
            "A^T * A = \n",
            " [[  3  18   3]\n",
            " [ 18 708 -42]\n",
            " [  3 -42   9]]\n",
            "mu =  720\n"
          ]
        }
      ]
    },
    {
      "cell_type": "code",
      "source": [
        "print(\"det(A) = \", np.linalg.det(A))"
      ],
      "metadata": {
        "colab": {
          "base_uri": "https://localhost:8080/"
        },
        "id": "z7NWgsNR8pzi",
        "outputId": "9caf82ae-4d44-45b5-a0ac-e9f032f8429f"
      },
      "id": "z7NWgsNR8pzi",
      "execution_count": 57,
      "outputs": [
        {
          "output_type": "stream",
          "name": "stdout",
          "text": [
            "det(A) =  0.0\n"
          ]
        }
      ]
    },
    {
      "cell_type": "code",
      "source": [
        "def print_matrix(A):\n",
        "  m = len(A)\n",
        "  n = len(A[0])\n",
        "  for row in A:\n",
        "    for i in row:\n",
        "      print(\"{:.6f}\\t\\t\".format(i), end = \"\" )\n",
        "    print()"
      ],
      "metadata": {
        "id": "qLEbAuXqDHU-"
      },
      "id": "qLEbAuXqDHU-",
      "execution_count": 58,
      "outputs": []
    },
    {
      "cell_type": "code",
      "metadata": {
        "id": "7679a169",
        "colab": {
          "base_uri": "https://localhost:8080/"
        },
        "outputId": "99477bdd-2948-4bde-dcbe-0c9d10eed829"
      },
      "source": [
        "def pseudo(A_T_A, F, mu, A_T):\n",
        "    n = len(F)\n",
        "    I = np.diag(np.diag(np.ones([n,n])))\n",
        "    i = 2\n",
        "    while mu != 0:\n",
        "        if sum(np.diag(A_T_A.dot(mu*I - A_T_A.dot(F))))/float(i) == 0:\n",
        "            _mu = mu\n",
        "            _F = F\n",
        "        F = mu*I - A_T_A.dot(F)\n",
        "        mu = sum(np.diag(A_T_A.dot(F)))/float(i)\n",
        "        \n",
        "        print(\"Шаг\", i)\n",
        "        print(\"F:\\n\")\n",
        "        print_matrix(F)\n",
        "        #print(\"\\nA_T_A*F:\\n\", A_T_A.dot(F))\n",
        "        print(\"mu\\n\", mu)\n",
        "        print(\"\\n\\n\")\n",
        "        \n",
        "        i+=1\n",
        "    print(\"A*: 1/\", _mu, \"\\n\")\n",
        "    A_psevv = _F.dot(A_T)\n",
        "    print_matrix(A_psevv)\n",
        "    return(A_psevv/_mu, _mu)\n",
        "\n",
        "A_psev, muu = pseudo(A_T_A, F, mu, A_T)"
      ],
      "id": "7679a169",
      "execution_count": 59,
      "outputs": [
        {
          "output_type": "stream",
          "name": "stdout",
          "text": [
            "Шаг 2\n",
            "F:\n",
            "\n",
            "717.000000\t\t-18.000000\t\t-3.000000\t\t\n",
            "-18.000000\t\t12.000000\t\t42.000000\t\t\n",
            "-3.000000\t\t42.000000\t\t711.000000\t\t\n",
            "mu\n",
            " 6426.0\n",
            "\n",
            "\n",
            "\n",
            "Шаг 3\n",
            "F:\n",
            "\n",
            "4608.000000\t\t-288.000000\t\t-2880.000000\t\t\n",
            "-288.000000\t\t18.000000\t\t180.000000\t\t\n",
            "-2880.000000\t\t180.000000\t\t1800.000000\t\t\n",
            "mu\n",
            " 0.0\n",
            "\n",
            "\n",
            "\n",
            "A*: 1/ 6426.0 \n",
            "\n",
            "-783.000000\t\t-783.000000\t\t252.000000\t\t\n",
            "-18.000000\t\t-18.000000\t\t252.000000\t\t\n",
            "-1251.000000\t\t-1251.000000\t\t378.000000\t\t\n"
          ]
        }
      ]
    },
    {
      "cell_type": "code",
      "source": [
        "print_matrix(A_psev)"
      ],
      "metadata": {
        "colab": {
          "base_uri": "https://localhost:8080/"
        },
        "id": "IVjAdsLDB5Q-",
        "outputId": "7a0d29ce-8650-43f6-caca-73c2d86c66af"
      },
      "id": "IVjAdsLDB5Q-",
      "execution_count": 54,
      "outputs": [
        {
          "output_type": "stream",
          "name": "stdout",
          "text": [
            "-0.121849\t\t-0.121849\t\t0.039216\t\t\n",
            "-0.002801\t\t-0.002801\t\t0.039216\t\t\n",
            "-0.194678\t\t-0.194678\t\t0.058824\t\t\n"
          ]
        }
      ]
    },
    {
      "cell_type": "code",
      "metadata": {
        "colab": {
          "base_uri": "https://localhost:8080/"
        },
        "id": "VnBEhzTTdKkF",
        "outputId": "1ffaf95f-46f9-46d9-d13e-91cd6bd2915a"
      },
      "source": [
        "#Проверка 1\n",
        "Check1_1 = (A.dot(A_psev)).transpose()\n",
        "Check1_2 = A.dot(A_psev)\n",
        "print_matrix(Check1_1)\n",
        "print()\n",
        "print_matrix(Check1_2)"
      ],
      "id": "VnBEhzTTdKkF",
      "execution_count": 55,
      "outputs": [
        {
          "output_type": "stream",
          "name": "stdout",
          "text": [
            "0.500000\t\t0.500000\t\t0.000000\t\t\n",
            "0.500000\t\t0.500000\t\t0.000000\t\t\n",
            "0.000000\t\t0.000000\t\t1.000000\t\t\n",
            "\n",
            "0.500000\t\t0.500000\t\t0.000000\t\t\n",
            "0.500000\t\t0.500000\t\t0.000000\t\t\n",
            "0.000000\t\t0.000000\t\t1.000000\t\t\n"
          ]
        }
      ]
    },
    {
      "cell_type": "code",
      "metadata": {
        "colab": {
          "base_uri": "https://localhost:8080/"
        },
        "id": "95b4h6w0eDSo",
        "outputId": "bb1c5477-3df3-4291-9eb1-847d64e7220f"
      },
      "source": [
        "#Проверка 2\n",
        "#A_psev1 = A_psev.dot(muu)\n",
        "Check2_1 = (A_psev.dot(A)).transpose()\n",
        "Check2_2 = A_psev.dot(A)\n",
        "print_matrix(Check2_1)\n",
        "print()\n",
        "print_matrix(Check2_2)"
      ],
      "id": "95b4h6w0eDSo",
      "execution_count": 51,
      "outputs": [
        {
          "output_type": "stream",
          "name": "stdout",
          "text": [
            "0.282913\t\t0.044818\t\t0.448179\t\t\n",
            "0.044818\t\t0.997199\t\t-0.028011\t\t\n",
            "0.448179\t\t-0.028011\t\t0.719888\t\t\n",
            "\n",
            "0.282913\t\t0.044818\t\t0.448179\t\t\n",
            "0.044818\t\t0.997199\t\t-0.028011\t\t\n",
            "0.448179\t\t-0.028011\t\t0.719888\t\t\n"
          ]
        }
      ]
    },
    {
      "cell_type": "code",
      "metadata": {
        "colab": {
          "base_uri": "https://localhost:8080/"
        },
        "id": "L0xQZwcjewGy",
        "outputId": "ad906b96-ec8e-4da0-ef73-5c1611bf9079"
      },
      "source": [
        "#Проверка 3\n",
        "Check3_1 = A.dot(A_psev).dot(A)\n",
        "Check3_2 = A\n",
        "print(Check3_1)\n",
        "print(Check3_2)"
      ],
      "id": "L0xQZwcjewGy",
      "execution_count": 52,
      "outputs": [
        {
          "output_type": "stream",
          "name": "stdout",
          "text": [
            "[[-1.  4. -2.]\n",
            " [-1.  4. -2.]\n",
            " [ 1. 26. -1.]]\n",
            "[[-1  4 -2]\n",
            " [-1  4 -2]\n",
            " [ 1 26 -1]]\n"
          ]
        }
      ]
    },
    {
      "cell_type": "code",
      "metadata": {
        "colab": {
          "base_uri": "https://localhost:8080/"
        },
        "id": "AWcEmAiqfUdB",
        "outputId": "cae3fb5b-f6c7-41b7-ffbb-13e95188c06d"
      },
      "source": [
        "#Проверка 4\n",
        "Check4_1 = A_psev.dot(A).dot(A_psev)\n",
        "Check4_2 = A_psev\n",
        "print_matrix(Check4_1)\n",
        "print()\n",
        "print_matrix(Check4_2)"
      ],
      "id": "AWcEmAiqfUdB",
      "execution_count": 53,
      "outputs": [
        {
          "output_type": "stream",
          "name": "stdout",
          "text": [
            "-0.121849\t\t-0.121849\t\t0.039216\t\t\n",
            "-0.002801\t\t-0.002801\t\t0.039216\t\t\n",
            "-0.194678\t\t-0.194678\t\t0.058824\t\t\n",
            "\n",
            "-0.121849\t\t-0.121849\t\t0.039216\t\t\n",
            "-0.002801\t\t-0.002801\t\t0.039216\t\t\n",
            "-0.194678\t\t-0.194678\t\t0.058824\t\t\n"
          ]
        }
      ]
    },
    {
      "cell_type": "markdown",
      "metadata": {
        "id": "zM5ZbtNcw9aC"
      },
      "source": [
        "## Алгоритм Гревиля\n"
      ],
      "id": "zM5ZbtNcw9aC"
    },
    {
      "cell_type": "code",
      "metadata": {
        "id": "esZ8ZbkuxDpH"
      },
      "source": [
        "import numpy as np"
      ],
      "id": "esZ8ZbkuxDpH",
      "execution_count": null,
      "outputs": []
    },
    {
      "cell_type": "code",
      "metadata": {
        "id": "MOaFxO4LxJEX"
      },
      "source": [
        "A = np.array([[7,0,4,9,6,0],[3,0,4,1,1,2],[0,1,1,2,6,7],[1,4,7,4,9,5]])\n",
        "A1 = np.array([7,3,0,1]).transpose()\n",
        "A2 = np.array([[7,0],[3,0],[0,1],[1,4]])\n",
        "A3 = np.array([[7,0,4],[3,0,4],[0,1,1],[1,4,7]])\n",
        "A4 = np.array([[7,0,4,9],[3,0,4,1],[0,1,1,2],[1,4,7,4]])\n",
        "A5 = np.array([[7,0,4,9,6],[3,0,4,1,1],[0,1,1,2,6],[1,4,7,4,9]])\n",
        "A6 = A"
      ],
      "id": "MOaFxO4LxJEX",
      "execution_count": null,
      "outputs": []
    },
    {
      "cell_type": "code",
      "metadata": {
        "id": "pUU01-61zY1b"
      },
      "source": [
        "a1 = np.array([7,3,0,1]).transpose()\n",
        "a2 = np.array([0,0,1,4]).transpose()\n",
        "a3 = np.array([4,4,1,7]).transpose()\n",
        "a4 = np.array([9,1,2,4]).transpose()\n",
        "a5 = np.array([6,1,6,9]).transpose()\n",
        "a6 = np.array([0,2,7,5]).transpose()"
      ],
      "id": "pUU01-61zY1b",
      "execution_count": null,
      "outputs": []
    },
    {
      "cell_type": "code",
      "metadata": {
        "colab": {
          "base_uri": "https://localhost:8080/"
        },
        "id": "U7-_n7eaz-pZ",
        "outputId": "3bd73b41-b2ea-44fd-b678-ab76ce631f35"
      },
      "source": [
        "#Шаг 1\n",
        "T1 = a1.transpose()\n",
        "t1 = a1.transpose().dot(a1)\n",
        "print(T1)\n",
        "print(t1)\n"
      ],
      "id": "U7-_n7eaz-pZ",
      "execution_count": null,
      "outputs": [
        {
          "output_type": "stream",
          "name": "stdout",
          "text": [
            "[7 3 0 1]\n",
            "59\n"
          ]
        }
      ]
    },
    {
      "cell_type": "code",
      "metadata": {
        "id": "vlYoXn7B09SK"
      },
      "source": [
        "def Greville(A, T1, t1):\n",
        "  i = 2\n",
        "  I = np.diag(np.diag(np.ones([4,4])))\n",
        "\n",
        "  while(i <= A.shape[1]):\n",
        "    c = (t1*I - A[:,0:i].dot(T1)).dot(A[:,i])\n",
        "    if (c == 0):\n",
        "      F = A[:,i].transpose().dot(T1.transpose()).dot(T1)\n",
        "      t = t1**2 + (T1.dot(A[:,i]))**2\n",
        "    else:\n",
        "      F = c.transpose()\n",
        "      t = t1.dot(A[:,i].transpose().dot(A[:,i])) - A[:,i].transpose().dot(A[:,0:i]).dot(T1).dot(A[:,i])\n",
        "    \n",
        "    T = T1\n",
        "\n",
        "    print(\"Шаг \", i)\n",
        "    print(\"F:\\n\", F)\n",
        "    print(\"t=\", t)\n",
        "    print(\"T:\\n\", T)\n",
        "    break\n",
        "    T1 = T\n",
        "    t1 = t\n",
        "    i +=1"
      ],
      "id": "vlYoXn7B09SK",
      "execution_count": null,
      "outputs": []
    },
    {
      "cell_type": "code",
      "metadata": {
        "colab": {
          "base_uri": "https://localhost:8080/",
          "height": 299
        },
        "id": "9GKrpTMO8nzu",
        "outputId": "3186d233-4094-4264-b8d7-eee61bfe332c"
      },
      "source": [
        "Greville(A, T1, t1)"
      ],
      "id": "9GKrpTMO8nzu",
      "execution_count": null,
      "outputs": [
        {
          "output_type": "error",
          "ename": "ValueError",
          "evalue": "ignored",
          "traceback": [
            "\u001b[0;31m---------------------------------------------------------------------------\u001b[0m",
            "\u001b[0;31mValueError\u001b[0m                                Traceback (most recent call last)",
            "\u001b[0;32m<ipython-input-11-ad1322236247>\u001b[0m in \u001b[0;36m<module>\u001b[0;34m\u001b[0m\n\u001b[0;32m----> 1\u001b[0;31m \u001b[0mGreville\u001b[0m\u001b[0;34m(\u001b[0m\u001b[0mA\u001b[0m\u001b[0;34m,\u001b[0m \u001b[0mT1\u001b[0m\u001b[0;34m,\u001b[0m \u001b[0mt1\u001b[0m\u001b[0;34m)\u001b[0m\u001b[0;34m\u001b[0m\u001b[0;34m\u001b[0m\u001b[0m\n\u001b[0m",
            "\u001b[0;32m<ipython-input-10-b0513e30fc13>\u001b[0m in \u001b[0;36mGreville\u001b[0;34m(A, T1, t1)\u001b[0m\n\u001b[1;32m      4\u001b[0m \u001b[0;34m\u001b[0m\u001b[0m\n\u001b[1;32m      5\u001b[0m   \u001b[0;32mwhile\u001b[0m\u001b[0;34m(\u001b[0m\u001b[0mi\u001b[0m \u001b[0;34m<=\u001b[0m \u001b[0mA\u001b[0m\u001b[0;34m.\u001b[0m\u001b[0mshape\u001b[0m\u001b[0;34m[\u001b[0m\u001b[0;36m1\u001b[0m\u001b[0;34m]\u001b[0m\u001b[0;34m)\u001b[0m\u001b[0;34m:\u001b[0m\u001b[0;34m\u001b[0m\u001b[0;34m\u001b[0m\u001b[0m\n\u001b[0;32m----> 6\u001b[0;31m     \u001b[0mc\u001b[0m \u001b[0;34m=\u001b[0m \u001b[0;34m(\u001b[0m\u001b[0mt1\u001b[0m\u001b[0;34m*\u001b[0m\u001b[0mI\u001b[0m \u001b[0;34m-\u001b[0m \u001b[0mA\u001b[0m\u001b[0;34m[\u001b[0m\u001b[0;34m:\u001b[0m\u001b[0;34m,\u001b[0m\u001b[0;36m0\u001b[0m\u001b[0;34m:\u001b[0m\u001b[0mi\u001b[0m\u001b[0;34m]\u001b[0m\u001b[0;34m.\u001b[0m\u001b[0mdot\u001b[0m\u001b[0;34m(\u001b[0m\u001b[0mT1\u001b[0m\u001b[0;34m)\u001b[0m\u001b[0;34m)\u001b[0m\u001b[0;34m.\u001b[0m\u001b[0mdot\u001b[0m\u001b[0;34m(\u001b[0m\u001b[0mA\u001b[0m\u001b[0;34m[\u001b[0m\u001b[0;34m:\u001b[0m\u001b[0;34m,\u001b[0m\u001b[0mi\u001b[0m\u001b[0;34m]\u001b[0m\u001b[0;34m)\u001b[0m\u001b[0;34m\u001b[0m\u001b[0;34m\u001b[0m\u001b[0m\n\u001b[0m\u001b[1;32m      7\u001b[0m     \u001b[0;32mif\u001b[0m \u001b[0;34m(\u001b[0m\u001b[0mc\u001b[0m \u001b[0;34m==\u001b[0m \u001b[0;36m0\u001b[0m\u001b[0;34m)\u001b[0m\u001b[0;34m:\u001b[0m\u001b[0;34m\u001b[0m\u001b[0;34m\u001b[0m\u001b[0m\n\u001b[1;32m      8\u001b[0m       \u001b[0mF\u001b[0m \u001b[0;34m=\u001b[0m \u001b[0mA\u001b[0m\u001b[0;34m[\u001b[0m\u001b[0;34m:\u001b[0m\u001b[0;34m,\u001b[0m\u001b[0mi\u001b[0m\u001b[0;34m]\u001b[0m\u001b[0;34m.\u001b[0m\u001b[0mtranspose\u001b[0m\u001b[0;34m(\u001b[0m\u001b[0;34m)\u001b[0m\u001b[0;34m.\u001b[0m\u001b[0mdot\u001b[0m\u001b[0;34m(\u001b[0m\u001b[0mT1\u001b[0m\u001b[0;34m.\u001b[0m\u001b[0mtranspose\u001b[0m\u001b[0;34m(\u001b[0m\u001b[0;34m)\u001b[0m\u001b[0;34m)\u001b[0m\u001b[0;34m.\u001b[0m\u001b[0mdot\u001b[0m\u001b[0;34m(\u001b[0m\u001b[0mT1\u001b[0m\u001b[0;34m)\u001b[0m\u001b[0;34m\u001b[0m\u001b[0;34m\u001b[0m\u001b[0m\n",
            "\u001b[0;31mValueError\u001b[0m: shapes (4,2) and (4,) not aligned: 2 (dim 1) != 4 (dim 0)"
          ]
        }
      ]
    }
  ]
}