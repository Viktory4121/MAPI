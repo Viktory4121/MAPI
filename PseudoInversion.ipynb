{
  "nbformat": 4,
  "nbformat_minor": 5,
  "metadata": {
    "kernelspec": {
      "display_name": "Python 3",
      "language": "python",
      "name": "python3"
    },
    "language_info": {
      "codemirror_mode": {
        "name": "ipython",
        "version": 3
      },
      "file_extension": ".py",
      "mimetype": "text/x-python",
      "name": "python",
      "nbconvert_exporter": "python",
      "pygments_lexer": "ipython3",
      "version": "3.8.8"
    },
    "colab": {
      "provenance": [],
      "collapsed_sections": [],
      "include_colab_link": true
    }
  },
  "cells": [
    {
      "cell_type": "markdown",
      "metadata": {
        "id": "view-in-github",
        "colab_type": "text"
      },
      "source": [
        "<a href=\"https://colab.research.google.com/github/Viktory4121/MAPI/blob/main/PseudoInversion.ipynb\" target=\"_parent\"><img src=\"https://colab.research.google.com/assets/colab-badge.svg\" alt=\"Open In Colab\"/></a>"
      ]
    },
    {
      "cell_type": "code",
      "metadata": {
        "id": "91b6ce26"
      },
      "source": [
        "import numpy as np"
      ],
      "id": "91b6ce26",
      "execution_count": null,
      "outputs": []
    },
    {
      "cell_type": "code",
      "metadata": {
        "colab": {
          "base_uri": "https://localhost:8080/"
        },
        "id": "e243beba",
        "outputId": "733834a2-d35d-4939-c791-e734eaa0f8f2"
      },
      "source": [
        "# Псевдообращение алгоритмом Фаддеева\n",
        "#A = np.array([[-1,0,2,0,5,-2],[4,5,5,2,1,-1],[2,1,1,0,8,-1],[0,1,-3,-4,2,-3]])\n",
        "#A = np.array([[7,0,4,9,6,0],[3,0,4,1,1,2],[0,1,1,2,6,7],[1,4,7,4,9,5]])\n",
        "A = np.array([[-1,4,-2],[-1,4,-2],[1,26,-1]])\n",
        "n = len(A[0])\n",
        "A_T = A.transpose()\n",
        "A_T_A = A_T.dot(A) #перемножены транспонированная матрица и обычная\n",
        "F = np.diag(np.diag(np.ones([n,n]))) #единичная матрица\n",
        "mu = sum(np.diag(A_T_A)) #это фи1 (сумма значений матрицы A_T_A по диагонали)\n",
        "print(\"A = \\n\", A)\n",
        "#print(\"A^T * A = \\n\", A_T_A)\n",
        "print(\"phi_1 = \", mu)"
      ],
      "id": "e243beba",
      "execution_count": null,
      "outputs": [
        {
          "output_type": "stream",
          "name": "stdout",
          "text": [
            "A = \n",
            " [[-1  4 -2]\n",
            " [-1  4 -2]\n",
            " [ 1 26 -1]]\n",
            "phi_1 =  720\n"
          ]
        }
      ]
    },
    {
      "cell_type": "code",
      "source": [
        "print(\"det(A) = \", np.linalg.det(A))"
      ],
      "metadata": {
        "colab": {
          "base_uri": "https://localhost:8080/"
        },
        "id": "z7NWgsNR8pzi",
        "outputId": "66c12288-f3db-4661-9501-e822eaed19f0"
      },
      "id": "z7NWgsNR8pzi",
      "execution_count": null,
      "outputs": [
        {
          "output_type": "stream",
          "name": "stdout",
          "text": [
            "det(A) =  0.0\n"
          ]
        }
      ]
    },
    {
      "cell_type": "code",
      "source": [
        "def print_matrix(A):\n",
        "  m = len(A)\n",
        "  n = len(A[0])\n",
        "  for row in A:\n",
        "    for i in row:\n",
        "      print(\"{:.6f}\\t\\t\".format(i), end = \"\" )\n",
        "    print()"
      ],
      "metadata": {
        "id": "qLEbAuXqDHU-"
      },
      "id": "qLEbAuXqDHU-",
      "execution_count": null,
      "outputs": []
    },
    {
      "cell_type": "code",
      "metadata": {
        "id": "7679a169",
        "colab": {
          "base_uri": "https://localhost:8080/"
        },
        "outputId": "6c1198c1-a4a7-47b0-e203-68c06c4b4764"
      },
      "source": [
        "def pseudo(A_T_A, F, mu, A_T):\n",
        "    n = len(F)\n",
        "    I = np.diag(np.diag(np.ones([n,n])))\n",
        "    i = 2\n",
        "    while mu != 0:\n",
        "        if sum(np.diag(A_T_A.dot(mu*I - A_T_A.dot(F))))/float(i) == 0:\n",
        "            _mu = mu\n",
        "            _F = F\n",
        "        F = mu*I - A_T_A.dot(F)\n",
        "        mu = sum(np.diag(A_T_A.dot(F)))/float(i)\n",
        "        \n",
        "        print(\"Шаг\", i)\n",
        "        print(\"F:\\n\")\n",
        "        print_matrix(F)\n",
        "        #print(\"\\nA_T_A*F:\\n\", A_T_A.dot(F))\n",
        "        print(\"phi\\n\", mu)\n",
        "        print(\"\\n\\n\")\n",
        "        \n",
        "        i+=1\n",
        "    print(\"A*: 1/\", _mu, \"\\n\")\n",
        "    A_psevv = _F.dot(A_T)\n",
        "    print_matrix(A_psevv)\n",
        "    return(A_psevv/_mu, _mu)\n",
        "\n",
        "A_psev, muu = pseudo(A_T_A, F, mu, A_T)"
      ],
      "id": "7679a169",
      "execution_count": null,
      "outputs": [
        {
          "output_type": "stream",
          "name": "stdout",
          "text": [
            "Шаг 2\n",
            "F:\n",
            "\n",
            "717.000000\t\t-18.000000\t\t-3.000000\t\t\n",
            "-18.000000\t\t12.000000\t\t42.000000\t\t\n",
            "-3.000000\t\t42.000000\t\t711.000000\t\t\n",
            "phi\n",
            " 6426.0\n",
            "\n",
            "\n",
            "\n",
            "Шаг 3\n",
            "F:\n",
            "\n",
            "4608.000000\t\t-288.000000\t\t-2880.000000\t\t\n",
            "-288.000000\t\t18.000000\t\t180.000000\t\t\n",
            "-2880.000000\t\t180.000000\t\t1800.000000\t\t\n",
            "phi\n",
            " 0.0\n",
            "\n",
            "\n",
            "\n",
            "A*: 1/ 6426.0 \n",
            "\n",
            "-783.000000\t\t-783.000000\t\t252.000000\t\t\n",
            "-18.000000\t\t-18.000000\t\t252.000000\t\t\n",
            "-1251.000000\t\t-1251.000000\t\t378.000000\t\t\n"
          ]
        }
      ]
    },
    {
      "cell_type": "code",
      "source": [
        "print_matrix(A_psev) #без вынесения общего знаменателя за скобку"
      ],
      "metadata": {
        "colab": {
          "base_uri": "https://localhost:8080/"
        },
        "id": "IVjAdsLDB5Q-",
        "outputId": "d1e02586-6c06-40ed-d086-365f1ce24d63"
      },
      "id": "IVjAdsLDB5Q-",
      "execution_count": null,
      "outputs": [
        {
          "output_type": "stream",
          "name": "stdout",
          "text": [
            "-0.121849\t\t-0.121849\t\t0.039216\t\t\n",
            "-0.002801\t\t-0.002801\t\t0.039216\t\t\n",
            "-0.194678\t\t-0.194678\t\t0.058824\t\t\n"
          ]
        }
      ]
    },
    {
      "cell_type": "code",
      "metadata": {
        "colab": {
          "base_uri": "https://localhost:8080/"
        },
        "id": "VnBEhzTTdKkF",
        "outputId": "8ca01270-db6d-4f2a-ba3f-79f25c2f5684"
      },
      "source": [
        "#Проверка 1 ((A A^+)^T = A A^+)\n",
        "Check1_1 = (A.dot(A_psev)).transpose()\n",
        "Check1_2 = A.dot(A_psev)\n",
        "print_matrix(Check1_1)\n",
        "print()\n",
        "print_matrix(Check1_2)"
      ],
      "id": "VnBEhzTTdKkF",
      "execution_count": null,
      "outputs": [
        {
          "output_type": "stream",
          "name": "stdout",
          "text": [
            "0.500000\t\t0.500000\t\t0.000000\t\t\n",
            "0.500000\t\t0.500000\t\t0.000000\t\t\n",
            "0.000000\t\t0.000000\t\t1.000000\t\t\n",
            "\n",
            "0.500000\t\t0.500000\t\t0.000000\t\t\n",
            "0.500000\t\t0.500000\t\t0.000000\t\t\n",
            "0.000000\t\t0.000000\t\t1.000000\t\t\n"
          ]
        }
      ]
    },
    {
      "cell_type": "code",
      "metadata": {
        "colab": {
          "base_uri": "https://localhost:8080/"
        },
        "id": "95b4h6w0eDSo",
        "outputId": "a80cc28b-49e2-4d3a-80c9-ef1cc94251f8"
      },
      "source": [
        "#Проверка 2 ((A^+ A)^T = A^+ A)\n",
        "#A_psev1 = A_psev.dot(muu)\n",
        "Check2_1 = (A_psev.dot(A)).transpose()\n",
        "Check2_2 = A_psev.dot(A)\n",
        "print_matrix(Check2_1)\n",
        "print()\n",
        "print_matrix(Check2_2)"
      ],
      "id": "95b4h6w0eDSo",
      "execution_count": null,
      "outputs": [
        {
          "output_type": "stream",
          "name": "stdout",
          "text": [
            "0.282913\t\t0.044818\t\t0.448179\t\t\n",
            "0.044818\t\t0.997199\t\t-0.028011\t\t\n",
            "0.448179\t\t-0.028011\t\t0.719888\t\t\n",
            "\n",
            "0.282913\t\t0.044818\t\t0.448179\t\t\n",
            "0.044818\t\t0.997199\t\t-0.028011\t\t\n",
            "0.448179\t\t-0.028011\t\t0.719888\t\t\n"
          ]
        }
      ]
    },
    {
      "cell_type": "code",
      "metadata": {
        "colab": {
          "base_uri": "https://localhost:8080/"
        },
        "id": "L0xQZwcjewGy",
        "outputId": "85f60d01-3f7c-456a-b488-b7a12b41c127"
      },
      "source": [
        "#Проверка 3 (A A^+ A = A)\n",
        "Check3_1 = A.dot(A_psev).dot(A)\n",
        "Check3_2 = A\n",
        "print(Check3_1)\n",
        "print(Check3_2)"
      ],
      "id": "L0xQZwcjewGy",
      "execution_count": null,
      "outputs": [
        {
          "output_type": "stream",
          "name": "stdout",
          "text": [
            "[[-1.  4. -2.]\n",
            " [-1.  4. -2.]\n",
            " [ 1. 26. -1.]]\n",
            "[[-1  4 -2]\n",
            " [-1  4 -2]\n",
            " [ 1 26 -1]]\n"
          ]
        }
      ]
    },
    {
      "cell_type": "code",
      "metadata": {
        "colab": {
          "base_uri": "https://localhost:8080/"
        },
        "id": "AWcEmAiqfUdB",
        "outputId": "194210ae-cbe8-4803-fb68-ffb21ff0de4c"
      },
      "source": [
        "#Проверка 4 (A^+ A A^+ = A^+)\n",
        "Check4_1 = A_psev.dot(A).dot(A_psev)\n",
        "Check4_2 = A_psev\n",
        "print_matrix(Check4_1)\n",
        "print()\n",
        "print_matrix(Check4_2)"
      ],
      "id": "AWcEmAiqfUdB",
      "execution_count": null,
      "outputs": [
        {
          "output_type": "stream",
          "name": "stdout",
          "text": [
            "-0.121849\t\t-0.121849\t\t0.039216\t\t\n",
            "-0.002801\t\t-0.002801\t\t0.039216\t\t\n",
            "-0.194678\t\t-0.194678\t\t0.058824\t\t\n",
            "\n",
            "-0.121849\t\t-0.121849\t\t0.039216\t\t\n",
            "-0.002801\t\t-0.002801\t\t0.039216\t\t\n",
            "-0.194678\t\t-0.194678\t\t0.058824\t\t\n"
          ]
        }
      ]
    },
    {
      "cell_type": "markdown",
      "metadata": {
        "id": "zM5ZbtNcw9aC"
      },
      "source": [
        "## Алгоритм Гревиля\n"
      ],
      "id": "zM5ZbtNcw9aC"
    },
    {
      "cell_type": "code",
      "metadata": {
        "id": "esZ8ZbkuxDpH"
      },
      "source": [
        "import numpy as np"
      ],
      "id": "esZ8ZbkuxDpH",
      "execution_count": 2,
      "outputs": []
    },
    {
      "cell_type": "code",
      "metadata": {
        "id": "MOaFxO4LxJEX"
      },
      "source": [
        "A = np.array([[7,0,4,9,6,0],[3,0,4,1,1,2],[0,1,1,2,6,7],[1,4,7,4,9,5]])\n",
        "\n",
        "#a1 = A[:,0:1]\n",
        "#a2 = A[:,1:2]\n",
        "#a3 = A[:,2:3]\n",
        "#a4 = A[:,3:4]\n",
        "#a5 = A[:,4:5]\n",
        "#a6 = A[:,5:6]\n",
        "\n",
        "#A1 = A[:,0:1]\n",
        "#A2 = A[:,0:2]\n",
        "#A3 = A[:,0:3]\n",
        "#A4 = A[:,0:4]\n",
        "#A5 = A[:,0:5]\n",
        "#A6 = A.copy()"
      ],
      "id": "MOaFxO4LxJEX",
      "execution_count": 48,
      "outputs": []
    },
    {
      "cell_type": "code",
      "source": [
        "def norm(A): #норма вектора\n",
        "  return ((A.T).dot(A))"
      ],
      "metadata": {
        "id": "oBGK-fHwDR4K"
      },
      "id": "oBGK-fHwDR4K",
      "execution_count": 49,
      "outputs": []
    },
    {
      "cell_type": "code",
      "metadata": {
        "colab": {
          "base_uri": "https://localhost:8080/"
        },
        "id": "U7-_n7eaz-pZ",
        "outputId": "caf5a2ca-cb18-4283-a77d-f4ed59a8070b"
      },
      "source": [
        "#Шаг 1\n",
        "T1 = A[:,0:1].transpose()\n",
        "if(A[:,0:1].any()):\n",
        "  t1 = norm(A[:,0:1])\n",
        "else:\n",
        "  t1 = 0\n",
        "print(T1)\n",
        "print(t1)"
      ],
      "id": "U7-_n7eaz-pZ",
      "execution_count": 50,
      "outputs": [
        {
          "output_type": "stream",
          "name": "stdout",
          "text": [
            "[[7 3 0 1]]\n",
            "[[59]]\n"
          ]
        }
      ]
    },
    {
      "cell_type": "code",
      "metadata": {
        "id": "vlYoXn7B09SK",
        "colab": {
          "base_uri": "https://localhost:8080/",
          "height": 1000
        },
        "outputId": "cc350547-630f-401c-fa4f-0b180c38d86d"
      },
      "source": [
        "#ti - число\n",
        "#Ti - A_i^+\n",
        "#Fi - вектор\n",
        "def Greville(A, T1, t1):\n",
        "  i = 1\n",
        "  n = len(A[0])\n",
        "  I = np.diag(np.diag(np.ones([n,n])))\n",
        "\n",
        "  t = t1.copy()\n",
        "  T = T1.copy()\n",
        "  F = np.zeros((n,n))\n",
        "\n",
        "  while(i <= n):\n",
        "    #ci = (t[i-1]*I - A[i-1]*T[i-1])a[i] - раскрыть скобки:\n",
        "    c = t1*A[:,i:i+1] - (A[:,0:i].dot(T1)).dot(A[:,i:i+1])\n",
        "    #d = 1 + norm(T1.dot(A[:,i:i+1]))\n",
        "\n",
        "    if (c.any()): #если вектор не нулевой\n",
        "      F = c.T\n",
        "      #ti = t[i-1]*norm(a2) - a[i]^T * A[i-1] * T[i-1] * a[i]\n",
        "      t = t1*norm(A[:,i:i+1]) - (((A[:,i:i+1].T).dot(A[:,0:i])).dot(T1)).dot(A[:,i:i+1])\n",
        "    else: #если нулевой\n",
        "      F = ((A[:,i:i+1].T).dot(T1.T)).dot(T1)\n",
        "      t = t1**2 + norm(T1.dot(A[:,i:i+1]))\n",
        "    \n",
        "    f = 1/t1 * (T1*t - (T1.dot(A[:,i:i+1])).dot(F))\n",
        "    T = np.vstack((f, F))\n",
        "\n",
        "    print(\"Шаг \", i+1, \":\")\n",
        "    print(\"F:\\n\", F)\n",
        "    print(\"t =\", t)\n",
        "    print(\"T:\\n\", T)\n",
        "    print()\n",
        "    T1 = T\n",
        "    t1 = t\n",
        "    i +=1\n",
        "\n",
        "Greville(A, T1, t1)"
      ],
      "id": "vlYoXn7B09SK",
      "execution_count": 46,
      "outputs": [
        {
          "output_type": "stream",
          "name": "stdout",
          "text": [
            "Шаг  2 :\n",
            "F:\n",
            " [[-28 -12  59 232]]\n",
            "t = [[987]]\n",
            "T:\n",
            " [[119.  51.  -4.   1.]\n",
            " [-28. -12.  59. 232.]]\n",
            "\n",
            "Шаг  3 :\n",
            "F:\n",
            " [[-833. 1899. -536.  134.]]\n",
            "t = [[4666.]]\n",
            "T:\n",
            " [[ 1139. -1073.   352.   -88.]\n",
            " [ 1153. -2987.  1106.   890.]\n",
            " [ -833.  1899.  -536.   134.]]\n",
            "\n",
            "Шаг  4 :\n",
            "F:\n",
            " [[-180.  612. 2304. -576.]]\n",
            "t = [[1296.]]\n",
            "T:\n",
            " [[  684. -1548. -4608.  1152.]\n",
            " [  828. -2556. -6192.  1872.]\n",
            " [ -468.  1332.  2880.  -720.]\n",
            " [ -180.   612.  2304.  -576.]]\n",
            "\n",
            "Шаг  5 :\n",
            "F:\n",
            " [[-3.07203840e+07  8.59455360e+07  2.24316864e+08 -6.18762240e+07]]\n",
            "t = [[6.92318016e+08]]\n",
            "T:\n",
            " [[ 1.63723680e+07  1.49501376e+08  8.69136480e+07 -8.75888640e+07]\n",
            " [ 1.82023200e+07 -1.78879104e+08 -2.10922704e+08  1.45779264e+08]\n",
            " [-2.89876320e+07  9.32186880e+07 -7.53507360e+07  6.05439360e+07]\n",
            " [ 9.75538080e+07 -2.15006400e+08 -1.83654864e+08  8.24670720e+07]\n",
            " [-3.07203840e+07  8.59455360e+07  2.24316864e+08 -6.18762240e+07]]\n",
            "\n",
            "Шаг  6 :\n",
            "F:\n",
            " [[-1.82475234e+17  6.67678850e+17  8.37560365e+17 -4.00698470e+17]]\n",
            "t = [[5.67409214e+18]]\n",
            "T:\n",
            " [[ 2.57919111e+17  7.72535287e+17  1.44384528e+17 -4.46150167e+17]\n",
            " [-1.42148596e+17 -4.00072193e+17 -3.91470314e+17  5.55040614e+17]\n",
            " [-2.47670789e+17  8.00935756e+17 -5.71226001e+17  4.74039207e+17]\n",
            " [ 4.56027928e+17 -5.05267789e+17  7.14780579e+16 -7.84164469e+16]\n",
            " [ 1.25848362e+17 -6.77346656e+17  1.05151631e+17  3.22107060e+17]\n",
            " [-1.82475234e+17  6.67678850e+17  8.37560365e+17 -4.00698470e+17]]\n",
            "\n"
          ]
        },
        {
          "output_type": "error",
          "ename": "ValueError",
          "evalue": "ignored",
          "traceback": [
            "\u001b[0;31m---------------------------------------------------------------------------\u001b[0m",
            "\u001b[0;31mValueError\u001b[0m                                Traceback (most recent call last)",
            "\u001b[0;32m<ipython-input-46-bb8e4725bc05>\u001b[0m in \u001b[0;36m<module>\u001b[0;34m\u001b[0m\n\u001b[1;32m     36\u001b[0m     \u001b[0mi\u001b[0m \u001b[0;34m+=\u001b[0m\u001b[0;36m1\u001b[0m\u001b[0;34m\u001b[0m\u001b[0;34m\u001b[0m\u001b[0m\n\u001b[1;32m     37\u001b[0m \u001b[0;34m\u001b[0m\u001b[0m\n\u001b[0;32m---> 38\u001b[0;31m \u001b[0mGreville\u001b[0m\u001b[0;34m(\u001b[0m\u001b[0mA\u001b[0m\u001b[0;34m,\u001b[0m \u001b[0mT1\u001b[0m\u001b[0;34m,\u001b[0m \u001b[0mt1\u001b[0m\u001b[0;34m)\u001b[0m\u001b[0;34m\u001b[0m\u001b[0;34m\u001b[0m\u001b[0m\n\u001b[0m",
            "\u001b[0;32m<ipython-input-46-bb8e4725bc05>\u001b[0m in \u001b[0;36mGreville\u001b[0;34m(A, T1, t1)\u001b[0m\n\u001b[1;32m     24\u001b[0m       \u001b[0mt\u001b[0m \u001b[0;34m=\u001b[0m \u001b[0mt1\u001b[0m\u001b[0;34m**\u001b[0m\u001b[0;36m2\u001b[0m \u001b[0;34m+\u001b[0m \u001b[0mnorm\u001b[0m\u001b[0;34m(\u001b[0m\u001b[0mT1\u001b[0m\u001b[0;34m.\u001b[0m\u001b[0mdot\u001b[0m\u001b[0;34m(\u001b[0m\u001b[0mA\u001b[0m\u001b[0;34m[\u001b[0m\u001b[0;34m:\u001b[0m\u001b[0;34m,\u001b[0m\u001b[0mi\u001b[0m\u001b[0;34m:\u001b[0m\u001b[0mi\u001b[0m\u001b[0;34m+\u001b[0m\u001b[0;36m1\u001b[0m\u001b[0;34m]\u001b[0m\u001b[0;34m)\u001b[0m\u001b[0;34m)\u001b[0m\u001b[0;34m\u001b[0m\u001b[0;34m\u001b[0m\u001b[0m\n\u001b[1;32m     25\u001b[0m \u001b[0;34m\u001b[0m\u001b[0m\n\u001b[0;32m---> 26\u001b[0;31m     \u001b[0mf\u001b[0m \u001b[0;34m=\u001b[0m \u001b[0;36m1\u001b[0m\u001b[0;34m/\u001b[0m\u001b[0mt1\u001b[0m \u001b[0;34m*\u001b[0m \u001b[0;34m(\u001b[0m\u001b[0mT1\u001b[0m\u001b[0;34m*\u001b[0m\u001b[0mt\u001b[0m \u001b[0;34m-\u001b[0m \u001b[0;34m(\u001b[0m\u001b[0mT1\u001b[0m\u001b[0;34m.\u001b[0m\u001b[0mdot\u001b[0m\u001b[0;34m(\u001b[0m\u001b[0mA\u001b[0m\u001b[0;34m[\u001b[0m\u001b[0;34m:\u001b[0m\u001b[0;34m,\u001b[0m\u001b[0mi\u001b[0m\u001b[0;34m:\u001b[0m\u001b[0mi\u001b[0m\u001b[0;34m+\u001b[0m\u001b[0;36m1\u001b[0m\u001b[0;34m]\u001b[0m\u001b[0;34m)\u001b[0m\u001b[0;34m)\u001b[0m\u001b[0;34m.\u001b[0m\u001b[0mdot\u001b[0m\u001b[0;34m(\u001b[0m\u001b[0mF\u001b[0m\u001b[0;34m)\u001b[0m\u001b[0;34m)\u001b[0m\u001b[0;34m\u001b[0m\u001b[0;34m\u001b[0m\u001b[0m\n\u001b[0m\u001b[1;32m     27\u001b[0m     \u001b[0mT\u001b[0m \u001b[0;34m=\u001b[0m \u001b[0mnp\u001b[0m\u001b[0;34m.\u001b[0m\u001b[0mvstack\u001b[0m\u001b[0;34m(\u001b[0m\u001b[0;34m(\u001b[0m\u001b[0mf\u001b[0m\u001b[0;34m,\u001b[0m \u001b[0mF\u001b[0m\u001b[0;34m)\u001b[0m\u001b[0;34m)\u001b[0m\u001b[0;34m\u001b[0m\u001b[0;34m\u001b[0m\u001b[0m\n\u001b[1;32m     28\u001b[0m \u001b[0;34m\u001b[0m\u001b[0m\n",
            "\u001b[0;31mValueError\u001b[0m: operands could not be broadcast together with shapes (6,4) (0,0) "
          ]
        }
      ]
    }
  ]
}