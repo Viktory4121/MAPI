{
  "nbformat": 4,
  "nbformat_minor": 5,
  "metadata": {
    "kernelspec": {
      "display_name": "Python 3",
      "language": "python",
      "name": "python3"
    },
    "language_info": {
      "codemirror_mode": {
        "name": "ipython",
        "version": 3
      },
      "file_extension": ".py",
      "mimetype": "text/x-python",
      "name": "python",
      "nbconvert_exporter": "python",
      "pygments_lexer": "ipython3",
      "version": "3.8.8"
    },
    "colab": {
      "provenance": [],
      "collapsed_sections": [],
      "include_colab_link": true
    }
  },
  "cells": [
    {
      "cell_type": "markdown",
      "metadata": {
        "id": "view-in-github",
        "colab_type": "text"
      },
      "source": [
        "<a href=\"https://colab.research.google.com/github/Viktory4121/MAPI/blob/main/PseudoInversion.ipynb\" target=\"_parent\"><img src=\"https://colab.research.google.com/assets/colab-badge.svg\" alt=\"Open In Colab\"/></a>"
      ]
    },
    {
      "cell_type": "code",
      "metadata": {
        "id": "91b6ce26"
      },
      "source": [
        "import numpy as np"
      ],
      "id": "91b6ce26",
      "execution_count": 90,
      "outputs": []
    },
    {
      "cell_type": "code",
      "metadata": {
        "colab": {
          "base_uri": "https://localhost:8080/"
        },
        "id": "e243beba",
        "outputId": "7f2a62d1-b4ca-4d1e-8e9a-5cbef8f9f6d8"
      },
      "source": [
        "# Псевдообращение алгоритмом Фаддеева\n",
        "#A = np.array([[-1,0,2,0,5,-2],[4,5,5,2,1,-1],[2,1,1,0,8,-1],[0,1,-3,-4,2,-3]])\n",
        "#A = np.array([[7,0,4,9,6,0],[3,0,4,1,1,2],[0,1,1,2,6,7],[1,4,7,4,9,5]])\n",
        "A = np.array([[12,7,9,36],[98,3,5,2],[6,78,3,1],[1,3,10,41]])\n",
        "A_T = A.transpose()\n",
        "A_T_A = A_T.dot(A) #перемножены транспонированная матрица и обычная\n",
        "F = np.diag(np.diag(np.ones([4,4]))) #единичная матрица\n",
        "mu = sum(np.diag(A_T_A)) #это фи1 (сумма значений матрицы A_T_A по диагонали)\n",
        "print(\"A = \\n\", A)\n",
        "print(\"A^T * A = \\n\", A_T_A)\n",
        "print(\"mu = \", mu)"
      ],
      "id": "e243beba",
      "execution_count": 91,
      "outputs": [
        {
          "output_type": "stream",
          "name": "stdout",
          "text": [
            "A = \n",
            " [[12  7  9 36]\n",
            " [98  3  5  2]\n",
            " [ 6 78  3  1]\n",
            " [ 1  3 10 41]]\n",
            "A^T * A = \n",
            " [[9785  849  626  675]\n",
            " [ 849 6151  342  459]\n",
            " [ 626  342  215  747]\n",
            " [ 675  459  747 2982]]\n",
            "mu =  19133\n"
          ]
        }
      ]
    },
    {
      "cell_type": "code",
      "source": [
        "print(\"det(A) = \", np.linalg.det(A))"
      ],
      "metadata": {
        "colab": {
          "base_uri": "https://localhost:8080/"
        },
        "id": "z7NWgsNR8pzi",
        "outputId": "bb1feb3a-99b4-48b6-d745-abdafaa90504"
      },
      "id": "z7NWgsNR8pzi",
      "execution_count": 92,
      "outputs": [
        {
          "output_type": "stream",
          "name": "stdout",
          "text": [
            "det(A) =  -131705.99999999988\n"
          ]
        }
      ]
    },
    {
      "cell_type": "code",
      "source": [
        "def print_matrix(A):\n",
        "  m = len(A)\n",
        "  n = len(A[0])\n",
        "  for row in A:\n",
        "    for i in row:\n",
        "      print(\"{:.6f}\\t\\t\".format(i), end = \"\" )\n",
        "    print()"
      ],
      "metadata": {
        "id": "qLEbAuXqDHU-"
      },
      "id": "qLEbAuXqDHU-",
      "execution_count": 115,
      "outputs": []
    },
    {
      "cell_type": "code",
      "metadata": {
        "id": "7679a169",
        "colab": {
          "base_uri": "https://localhost:8080/"
        },
        "outputId": "8224be98-03fa-41de-e2a1-7e08c4de1d8f"
      },
      "source": [
        "def pseudo(A_T_A, F, mu, A_T):\n",
        "    I = np.diag(np.diag(np.ones([4,4])))\n",
        "    i = 2\n",
        "    while mu != 0:\n",
        "        if sum(np.diag(A_T_A.dot(mu*I - A_T_A.dot(F))))/float(i) == 0:\n",
        "            _mu = mu\n",
        "            _F = F\n",
        "        F = mu*I - A_T_A.dot(F)\n",
        "        mu = sum(np.diag(A_T_A.dot(F)))/float(i)\n",
        "        \n",
        "        print(\"Шаг\", i)\n",
        "        print(\"F:\\n\")\n",
        "        print_matrix(F)\n",
        "        #print(\"\\nA_T_A*F:\\n\", A_T_A.dot(F))\n",
        "        print(\"mu\\n\", mu)\n",
        "        print(\"\\n\\n\")\n",
        "        \n",
        "        i+=1\n",
        "    print(\"A*: 1/\", _mu, \"\\n\")\n",
        "    A_psevv = _F.dot(A_T)\n",
        "    print_matrix(A_psevv)\n",
        "    return(A_psevv/_mu, _mu)\n",
        "\n",
        "A_psev, muu = pseudo(A_T_A, F, mu, A_T)"
      ],
      "id": "7679a169",
      "execution_count": 116,
      "outputs": [
        {
          "output_type": "stream",
          "name": "stdout",
          "text": [
            "Шаг 2\n",
            "F:\n",
            "\n",
            "9348.000000 \t-849.000000 \t-626.000000 \t-675.000000 \t\n",
            "-849.000000 \t12982.000000 \t-342.000000 \t-459.000000 \t\n",
            "-626.000000 \t-342.000000 \t18918.000000 \t-747.000000 \t\n",
            "-675.000000 \t-459.000000 \t-747.000000 \t16151.000000 \t\n",
            "mu\n",
            " 109322101.0\n",
            "\n",
            "\n",
            "\n",
            "Шаг 3\n",
            "F:\n",
            "\n",
            "19420223.000000 \t-2190336.000000 \t-4922675.000000 \t-3439737.000000 \t\n",
            "-2190336.000000 \t30518265.000000 \t-3491967.000000 \t-3761451.000000 \t\n",
            "-4922675.000000 \t-3491967.000000 \t106321580.000000 \t-11324664.000000 \t\n",
            "-3439737.000000 \t-3761451.000000 \t-11324664.000000 \t62384134.000000 \t\n",
            "mu\n",
            " 183115589106.0\n",
            "\n",
            "\n",
            "\n",
            "Шаг 4\n",
            "F:\n",
            "\n",
            "351719340.000000 \t247381542.000000 \t-7780106022.000000 \t1831247658.000000 \t\n",
            "247381542.000000 \t178095078.000000 \t-5505519492.000000 \t1295739396.000000 \t\n",
            "-7780106022.000000 \t-5505519492.000000 \t172991820678.000000 \t-40726453734.000000 \t\n",
            "1831247658.000000 \t1295739396.000000 \t-40726453734.000000 \t9593954010.000000 \t\n",
            "mu\n",
            " 17346470436.0\n",
            "\n",
            "\n",
            "\n",
            "Шаг 5\n",
            "F:\n",
            "\n",
            "0.000000 \t0.000000 \t0.000000 \t0.000000 \t\n",
            "0.000000 \t0.000000 \t0.000000 \t0.000000 \t\n",
            "0.000000 \t0.000000 \t0.000000 \t0.000000 \t\n",
            "0.000000 \t0.000000 \t0.000000 \t0.000000 \t\n",
            "mu\n",
            " 0.0\n",
            "\n",
            "\n",
            "\n",
            "A*: 1/ 17346470436.0 \n",
            "\n",
            "1856264364.000000 \t-27394848.000000 \t-102994092.000000 \t-1626042276.000000 \t\n",
            "1312186878.000000 \t-158442318.000000 \t154886256.000000 \t-1148212908.000000 \t\n",
            "-41125857030.000000 \t4539247290.000000 \t2137851792.000000 \t35836939188.000000 \t\n",
            "9889408422.000000 \t-1094871978.000000 \t-530248356.000000 \t-8193957084.000000 \t\n"
          ]
        }
      ]
    },
    {
      "cell_type": "code",
      "source": [
        "print_matrix(A_psev)"
      ],
      "metadata": {
        "colab": {
          "base_uri": "https://localhost:8080/"
        },
        "id": "IVjAdsLDB5Q-",
        "outputId": "40e308cd-48a7-4c00-f763-4c16e563e78d"
      },
      "id": "IVjAdsLDB5Q-",
      "execution_count": 117,
      "outputs": [
        {
          "output_type": "stream",
          "name": "stdout",
          "text": [
            "0.107011 \t-0.001579 \t-0.005937 \t-0.093739 \t\n",
            "0.075646 \t-0.009134 \t0.008929 \t-0.066193 \t\n",
            "-2.370849 \t0.261681 \t0.123244 \t2.065950 \t\n",
            "0.570111 \t-0.063118 \t-0.030568 \t-0.472370 \t\n"
          ]
        }
      ]
    },
    {
      "cell_type": "code",
      "metadata": {
        "colab": {
          "base_uri": "https://localhost:8080/"
        },
        "id": "VnBEhzTTdKkF",
        "outputId": "d30c15e1-2049-4dea-96a2-1db72fa60108"
      },
      "source": [
        "#Проверка 1\n",
        "Check1_1 = (A.dot(A_psev)).transpose()\n",
        "Check1_2 = A.dot(A_psev)\n",
        "print_matrix(Check1_1)\n",
        "print()\n",
        "print_matrix(Check1_2)"
      ],
      "id": "VnBEhzTTdKkF",
      "execution_count": 118,
      "outputs": [
        {
          "output_type": "stream",
          "name": "stdout",
          "text": [
            "1.000000 \t-0.000000 \t-0.000000 \t0.000000 \t\n",
            "0.000000 \t1.000000 \t0.000000 \t-0.000000 \t\n",
            "0.000000 \t0.000000 \t1.000000 \t0.000000 \t\n",
            "0.000000 \t0.000000 \t-0.000000 \t1.000000 \t\n",
            "\n",
            "1.000000 \t0.000000 \t0.000000 \t0.000000 \t\n",
            "-0.000000 \t1.000000 \t0.000000 \t0.000000 \t\n",
            "-0.000000 \t0.000000 \t1.000000 \t-0.000000 \t\n",
            "0.000000 \t-0.000000 \t0.000000 \t1.000000 \t\n"
          ]
        }
      ]
    },
    {
      "cell_type": "code",
      "metadata": {
        "colab": {
          "base_uri": "https://localhost:8080/"
        },
        "id": "95b4h6w0eDSo",
        "outputId": "6e2d0ac1-8504-48b0-8600-a9b3f74b7a45"
      },
      "source": [
        "#Проверка 2\n",
        "A_psev1 = A_psev.dot(muu)\n",
        "Check2_1 = (A_psev1.dot(A)).transpose()\n",
        "Check2_2 = A_psev1.dot(A)\n",
        "print_matrix(Check2_1)\n",
        "print_matrix(Check2_2)"
      ],
      "id": "95b4h6w0eDSo",
      "execution_count": 119,
      "outputs": [
        {
          "output_type": "stream",
          "name": "stdout",
          "text": [
            "17346470436.000000 \t0.000000 \t0.000000 \t0.000000 \t\n",
            "0.000000 \t17346470436.000000 \t0.000000 \t0.000000 \t\n",
            "0.000000 \t0.000000 \t17346470436.000000 \t0.000000 \t\n",
            "0.000000 \t0.000000 \t0.000000 \t17346470436.000000 \t\n",
            "17346470436.000000 \t0.000000 \t0.000000 \t0.000000 \t\n",
            "0.000000 \t17346470436.000000 \t0.000000 \t0.000000 \t\n",
            "0.000000 \t0.000000 \t17346470436.000000 \t0.000000 \t\n",
            "0.000000 \t0.000000 \t0.000000 \t17346470436.000000 \t\n"
          ]
        }
      ]
    },
    {
      "cell_type": "code",
      "metadata": {
        "colab": {
          "base_uri": "https://localhost:8080/"
        },
        "id": "L0xQZwcjewGy",
        "outputId": "71cf31dc-3640-4cb9-e2a5-e3b80c3d9992"
      },
      "source": [
        "#Проверка 3\n",
        "Check3_1 = A.dot(A_psev).dot(A)\n",
        "Check3_2 = A\n",
        "print(Check3_1)\n",
        "print(Check3_2)"
      ],
      "id": "L0xQZwcjewGy",
      "execution_count": 120,
      "outputs": [
        {
          "output_type": "stream",
          "name": "stdout",
          "text": [
            "[[12.  7.  9. 36.]\n",
            " [98.  3.  5.  2.]\n",
            " [ 6. 78.  3.  1.]\n",
            " [ 1.  3. 10. 41.]]\n",
            "[[12  7  9 36]\n",
            " [98  3  5  2]\n",
            " [ 6 78  3  1]\n",
            " [ 1  3 10 41]]\n"
          ]
        }
      ]
    },
    {
      "cell_type": "code",
      "metadata": {
        "colab": {
          "base_uri": "https://localhost:8080/"
        },
        "id": "AWcEmAiqfUdB",
        "outputId": "c3549878-593c-465b-93e7-bb562147cc52"
      },
      "source": [
        "#Проверка 4\n",
        "Check4_1 = A_psev1.dot(A).dot(A_psev)\n",
        "Check4_2 = A_psev1\n",
        "print_matrix(Check4_1)\n",
        "print()\n",
        "print_matrix(Check4_2)"
      ],
      "id": "AWcEmAiqfUdB",
      "execution_count": 121,
      "outputs": [
        {
          "output_type": "stream",
          "name": "stdout",
          "text": [
            "1856264364.000000 \t-27394848.000000 \t-102994092.000000 \t-1626042276.000000 \t\n",
            "1312186878.000000 \t-158442318.000000 \t154886256.000000 \t-1148212908.000000 \t\n",
            "-41125857030.000000 \t4539247290.000000 \t2137851792.000000 \t35836939188.000000 \t\n",
            "9889408422.000000 \t-1094871978.000000 \t-530248356.000000 \t-8193957084.000000 \t\n",
            "\n",
            "1856264364.000000 \t-27394848.000000 \t-102994092.000000 \t-1626042276.000000 \t\n",
            "1312186878.000000 \t-158442318.000000 \t154886256.000000 \t-1148212908.000000 \t\n",
            "-41125857030.000000 \t4539247290.000000 \t2137851792.000000 \t35836939188.000000 \t\n",
            "9889408422.000000 \t-1094871978.000000 \t-530248356.000000 \t-8193957084.000000 \t\n"
          ]
        }
      ]
    },
    {
      "cell_type": "markdown",
      "metadata": {
        "id": "zM5ZbtNcw9aC"
      },
      "source": [
        "## Алгоритм Гревиля\n"
      ],
      "id": "zM5ZbtNcw9aC"
    },
    {
      "cell_type": "code",
      "metadata": {
        "id": "esZ8ZbkuxDpH"
      },
      "source": [
        "import numpy as np"
      ],
      "id": "esZ8ZbkuxDpH",
      "execution_count": null,
      "outputs": []
    },
    {
      "cell_type": "code",
      "metadata": {
        "id": "MOaFxO4LxJEX"
      },
      "source": [
        "A = np.array([[7,0,4,9,6,0],[3,0,4,1,1,2],[0,1,1,2,6,7],[1,4,7,4,9,5]])\n",
        "A1 = np.array([7,3,0,1]).transpose()\n",
        "A2 = np.array([[7,0],[3,0],[0,1],[1,4]])\n",
        "A3 = np.array([[7,0,4],[3,0,4],[0,1,1],[1,4,7]])\n",
        "A4 = np.array([[7,0,4,9],[3,0,4,1],[0,1,1,2],[1,4,7,4]])\n",
        "A5 = np.array([[7,0,4,9,6],[3,0,4,1,1],[0,1,1,2,6],[1,4,7,4,9]])\n",
        "A6 = A"
      ],
      "id": "MOaFxO4LxJEX",
      "execution_count": null,
      "outputs": []
    },
    {
      "cell_type": "code",
      "metadata": {
        "id": "pUU01-61zY1b"
      },
      "source": [
        "a1 = np.array([7,3,0,1]).transpose()\n",
        "a2 = np.array([0,0,1,4]).transpose()\n",
        "a3 = np.array([4,4,1,7]).transpose()\n",
        "a4 = np.array([9,1,2,4]).transpose()\n",
        "a5 = np.array([6,1,6,9]).transpose()\n",
        "a6 = np.array([0,2,7,5]).transpose()"
      ],
      "id": "pUU01-61zY1b",
      "execution_count": null,
      "outputs": []
    },
    {
      "cell_type": "code",
      "metadata": {
        "colab": {
          "base_uri": "https://localhost:8080/"
        },
        "id": "U7-_n7eaz-pZ",
        "outputId": "3bd73b41-b2ea-44fd-b678-ab76ce631f35"
      },
      "source": [
        "#Шаг 1\n",
        "T1 = a1.transpose()\n",
        "t1 = a1.transpose().dot(a1)\n",
        "print(T1)\n",
        "print(t1)\n"
      ],
      "id": "U7-_n7eaz-pZ",
      "execution_count": null,
      "outputs": [
        {
          "output_type": "stream",
          "name": "stdout",
          "text": [
            "[7 3 0 1]\n",
            "59\n"
          ]
        }
      ]
    },
    {
      "cell_type": "code",
      "metadata": {
        "id": "vlYoXn7B09SK"
      },
      "source": [
        "def Greville(A, T1, t1):\n",
        "  i = 2\n",
        "  I = np.diag(np.diag(np.ones([4,4])))\n",
        "\n",
        "  while(i <= A.shape[1]):\n",
        "    c = (t1*I - A[:,0:i].dot(T1)).dot(A[:,i])\n",
        "    if (c == 0):\n",
        "      F = A[:,i].transpose().dot(T1.transpose()).dot(T1)\n",
        "      t = t1**2 + (T1.dot(A[:,i]))**2\n",
        "    else:\n",
        "      F = c.transpose()\n",
        "      t = t1.dot(A[:,i].transpose().dot(A[:,i])) - A[:,i].transpose().dot(A[:,0:i]).dot(T1).dot(A[:,i])\n",
        "    \n",
        "    T = T1\n",
        "\n",
        "    print(\"Шаг \", i)\n",
        "    print(\"F:\\n\", F)\n",
        "    print(\"t=\", t)\n",
        "    print(\"T:\\n\", T)\n",
        "    break\n",
        "    T1 = T\n",
        "    t1 = t\n",
        "    i +=1"
      ],
      "id": "vlYoXn7B09SK",
      "execution_count": null,
      "outputs": []
    },
    {
      "cell_type": "code",
      "metadata": {
        "colab": {
          "base_uri": "https://localhost:8080/",
          "height": 299
        },
        "id": "9GKrpTMO8nzu",
        "outputId": "3186d233-4094-4264-b8d7-eee61bfe332c"
      },
      "source": [
        "Greville(A, T1, t1)"
      ],
      "id": "9GKrpTMO8nzu",
      "execution_count": null,
      "outputs": [
        {
          "output_type": "error",
          "ename": "ValueError",
          "evalue": "ignored",
          "traceback": [
            "\u001b[0;31m---------------------------------------------------------------------------\u001b[0m",
            "\u001b[0;31mValueError\u001b[0m                                Traceback (most recent call last)",
            "\u001b[0;32m<ipython-input-11-ad1322236247>\u001b[0m in \u001b[0;36m<module>\u001b[0;34m\u001b[0m\n\u001b[0;32m----> 1\u001b[0;31m \u001b[0mGreville\u001b[0m\u001b[0;34m(\u001b[0m\u001b[0mA\u001b[0m\u001b[0;34m,\u001b[0m \u001b[0mT1\u001b[0m\u001b[0;34m,\u001b[0m \u001b[0mt1\u001b[0m\u001b[0;34m)\u001b[0m\u001b[0;34m\u001b[0m\u001b[0;34m\u001b[0m\u001b[0m\n\u001b[0m",
            "\u001b[0;32m<ipython-input-10-b0513e30fc13>\u001b[0m in \u001b[0;36mGreville\u001b[0;34m(A, T1, t1)\u001b[0m\n\u001b[1;32m      4\u001b[0m \u001b[0;34m\u001b[0m\u001b[0m\n\u001b[1;32m      5\u001b[0m   \u001b[0;32mwhile\u001b[0m\u001b[0;34m(\u001b[0m\u001b[0mi\u001b[0m \u001b[0;34m<=\u001b[0m \u001b[0mA\u001b[0m\u001b[0;34m.\u001b[0m\u001b[0mshape\u001b[0m\u001b[0;34m[\u001b[0m\u001b[0;36m1\u001b[0m\u001b[0;34m]\u001b[0m\u001b[0;34m)\u001b[0m\u001b[0;34m:\u001b[0m\u001b[0;34m\u001b[0m\u001b[0;34m\u001b[0m\u001b[0m\n\u001b[0;32m----> 6\u001b[0;31m     \u001b[0mc\u001b[0m \u001b[0;34m=\u001b[0m \u001b[0;34m(\u001b[0m\u001b[0mt1\u001b[0m\u001b[0;34m*\u001b[0m\u001b[0mI\u001b[0m \u001b[0;34m-\u001b[0m \u001b[0mA\u001b[0m\u001b[0;34m[\u001b[0m\u001b[0;34m:\u001b[0m\u001b[0;34m,\u001b[0m\u001b[0;36m0\u001b[0m\u001b[0;34m:\u001b[0m\u001b[0mi\u001b[0m\u001b[0;34m]\u001b[0m\u001b[0;34m.\u001b[0m\u001b[0mdot\u001b[0m\u001b[0;34m(\u001b[0m\u001b[0mT1\u001b[0m\u001b[0;34m)\u001b[0m\u001b[0;34m)\u001b[0m\u001b[0;34m.\u001b[0m\u001b[0mdot\u001b[0m\u001b[0;34m(\u001b[0m\u001b[0mA\u001b[0m\u001b[0;34m[\u001b[0m\u001b[0;34m:\u001b[0m\u001b[0;34m,\u001b[0m\u001b[0mi\u001b[0m\u001b[0;34m]\u001b[0m\u001b[0;34m)\u001b[0m\u001b[0;34m\u001b[0m\u001b[0;34m\u001b[0m\u001b[0m\n\u001b[0m\u001b[1;32m      7\u001b[0m     \u001b[0;32mif\u001b[0m \u001b[0;34m(\u001b[0m\u001b[0mc\u001b[0m \u001b[0;34m==\u001b[0m \u001b[0;36m0\u001b[0m\u001b[0;34m)\u001b[0m\u001b[0;34m:\u001b[0m\u001b[0;34m\u001b[0m\u001b[0;34m\u001b[0m\u001b[0m\n\u001b[1;32m      8\u001b[0m       \u001b[0mF\u001b[0m \u001b[0;34m=\u001b[0m \u001b[0mA\u001b[0m\u001b[0;34m[\u001b[0m\u001b[0;34m:\u001b[0m\u001b[0;34m,\u001b[0m\u001b[0mi\u001b[0m\u001b[0;34m]\u001b[0m\u001b[0;34m.\u001b[0m\u001b[0mtranspose\u001b[0m\u001b[0;34m(\u001b[0m\u001b[0;34m)\u001b[0m\u001b[0;34m.\u001b[0m\u001b[0mdot\u001b[0m\u001b[0;34m(\u001b[0m\u001b[0mT1\u001b[0m\u001b[0;34m.\u001b[0m\u001b[0mtranspose\u001b[0m\u001b[0;34m(\u001b[0m\u001b[0;34m)\u001b[0m\u001b[0;34m)\u001b[0m\u001b[0;34m.\u001b[0m\u001b[0mdot\u001b[0m\u001b[0;34m(\u001b[0m\u001b[0mT1\u001b[0m\u001b[0;34m)\u001b[0m\u001b[0;34m\u001b[0m\u001b[0;34m\u001b[0m\u001b[0m\n",
            "\u001b[0;31mValueError\u001b[0m: shapes (4,2) and (4,) not aligned: 2 (dim 1) != 4 (dim 0)"
          ]
        }
      ]
    }
  ]
}